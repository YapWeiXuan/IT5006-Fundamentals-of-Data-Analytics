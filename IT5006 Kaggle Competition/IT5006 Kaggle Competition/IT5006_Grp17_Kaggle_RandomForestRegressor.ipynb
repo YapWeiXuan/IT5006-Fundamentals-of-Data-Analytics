{
 "cells": [
  {
   "cell_type": "code",
   "execution_count": 54,
   "id": "35513a69",
   "metadata": {
    "_cell_guid": "b1076dfc-b9ad-4769-8c92-a6c4dae69d19",
    "_uuid": "8f2839f25d086af736a60e9eeb907d3b93b6e0e5",
    "execution": {
     "iopub.execute_input": "2023-04-04T12:33:52.853776Z",
     "iopub.status.busy": "2023-04-04T12:33:52.853187Z",
     "iopub.status.idle": "2023-04-04T12:34:01.431684Z",
     "shell.execute_reply": "2023-04-04T12:34:01.429232Z"
    },
    "papermill": {
     "duration": 8.588716,
     "end_time": "2023-04-04T12:34:01.435163",
     "exception": false,
     "start_time": "2023-04-04T12:33:52.846447",
     "status": "completed"
    },
    "tags": []
   },
   "outputs": [
    {
     "name": "stdout",
     "output_type": "stream",
     "text": [
      "Requirement already satisfied: xgboost in c:\\users\\yap wei xuan\\anaconda3\\lib\\site-packages (1.5.2)\n",
      "Requirement already satisfied: scipy in c:\\users\\yap wei xuan\\anaconda3\\lib\\site-packages (from xgboost) (1.10.0)\n",
      "Requirement already satisfied: numpy in c:\\users\\yap wei xuan\\anaconda3\\lib\\site-packages (from xgboost) (1.23.5)\n"
     ]
    }
   ],
   "source": [
    "# This Python 3 environment comes with many helpful analytics libraries installed\n",
    "# It is defined by the kaggle/python Docker image: https://github.com/kaggle/docker-python\n",
    "# For example, here's several helpful packages to load\n",
    "\n",
    "import numpy as np # linear algebra\n",
    "import pandas as pd # data processing, CSV file I/O (e.g. pd.read_csv)\n",
    "from sklearn.preprocessing import StandardScaler\n",
    "import torch\n",
    "import torch.nn as nn\n",
    "import torch.optim as optim\n",
    "import tqdm\n",
    "import copy\n",
    "from torchmetrics.functional import r2_score as torch_r2_score\n",
    "from sklearn.ensemble import RandomForestRegressor\n",
    "import matplotlib.pyplot as plt\n",
    "from sklearn.model_selection import train_test_split\n",
    "!pip install xgboost\n",
    "import xgboost as xgb\n",
    "from sklearn.metrics import mean_squared_error\n",
    "from sklearn.model_selection import GridSearchCV\n",
    "\n",
    "# Input data files are available in the read-only \"../input/\" directory\n",
    "# For example, running this (by clicking run or pressing Shift+Enter) will list all files under the input directory\n",
    "\n",
    "import os\n",
    "for dirname, _, filenames in os.walk('/kaggle/input'):\n",
    "    for filename in filenames:\n",
    "        print(os.path.join(dirname, filename))\n",
    "\n",
    "# You can write up to 20GB to the current directory (/kaggle/working/) that gets preserved as output when you create a version using \"Save & Run All\" \n",
    "# You can also write temporary files to /kaggle/temp/, but they won't be saved outside of the current session"
   ]
  },
  {
   "cell_type": "markdown",
   "id": "9d560ff6",
   "metadata": {
    "papermill": {
     "duration": 0.003899,
     "end_time": "2023-04-04T12:34:01.443632",
     "exception": false,
     "start_time": "2023-04-04T12:34:01.439733",
     "status": "completed"
    },
    "tags": []
   },
   "source": [
    "# Importing the data"
   ]
  },
  {
   "cell_type": "code",
   "execution_count": 66,
   "id": "1d6386f0",
   "metadata": {
    "execution": {
     "iopub.execute_input": "2023-04-04T12:34:01.453602Z",
     "iopub.status.busy": "2023-04-04T12:34:01.453242Z",
     "iopub.status.idle": "2023-04-04T12:34:01.481004Z",
     "shell.execute_reply": "2023-04-04T12:34:01.479574Z"
    },
    "papermill": {
     "duration": 0.035882,
     "end_time": "2023-04-04T12:34:01.483465",
     "exception": false,
     "start_time": "2023-04-04T12:34:01.447583",
     "status": "completed"
    },
    "tags": []
   },
   "outputs": [],
   "source": [
    "df = pd.read_csv(\"/kaggle/input/us-college-completion-rate-analysis/train.csv\")"
   ]
  },
  {
   "cell_type": "code",
   "execution_count": 67,
   "id": "28a56b82",
   "metadata": {
    "execution": {
     "iopub.execute_input": "2023-04-04T12:34:01.494280Z",
     "iopub.status.busy": "2023-04-04T12:34:01.492967Z",
     "iopub.status.idle": "2023-04-04T12:34:01.514615Z",
     "shell.execute_reply": "2023-04-04T12:34:01.513606Z"
    },
    "papermill": {
     "duration": 0.028873,
     "end_time": "2023-04-04T12:34:01.516536",
     "exception": false,
     "start_time": "2023-04-04T12:34:01.487663",
     "status": "completed"
    },
    "tags": []
   },
   "outputs": [],
   "source": [
    "features = ['Tuition_in_state','Tuition_out_state','Faculty_salary','Pell_grant_rate','SAT_average','ACT_50thPercentile','pct_White','pct_Black','pct_Hispanic','pct_Asian','Parents_middlesch','Parents_highsch','Parents_college'] \n",
    "X = df[features]\n",
    "y = df[\"Completion_rate\"]\n",
    "\n",
    "# X_train, X_test, y_train, y_test = train_test_split(X, y, test_size=0.2, random_state=42)"
   ]
  },
  {
   "cell_type": "markdown",
   "id": "cdda438a",
   "metadata": {
    "papermill": {
     "duration": 0.0042,
     "end_time": "2023-04-04T12:34:01.525027",
     "exception": false,
     "start_time": "2023-04-04T12:34:01.520827",
     "status": "completed"
    },
    "tags": []
   },
   "source": [
    "# Data Preprocessing"
   ]
  },
  {
   "cell_type": "code",
   "execution_count": 68,
   "id": "6e8df4bd",
   "metadata": {
    "execution": {
     "iopub.execute_input": "2023-04-04T12:34:01.536412Z",
     "iopub.status.busy": "2023-04-04T12:34:01.535344Z",
     "iopub.status.idle": "2023-04-04T12:34:01.545035Z",
     "shell.execute_reply": "2023-04-04T12:34:01.544094Z"
    },
    "papermill": {
     "duration": 0.018117,
     "end_time": "2023-04-04T12:34:01.547801",
     "exception": false,
     "start_time": "2023-04-04T12:34:01.529684",
     "status": "completed"
    },
    "tags": []
   },
   "outputs": [],
   "source": [
    "#Comment out when training\n",
    "scaler = StandardScaler()\n",
    "scaler.fit(X)\n",
    "X_train = scaler.transform(X)"
   ]
  },
  {
   "cell_type": "code",
   "execution_count": null,
   "id": "5a124502",
   "metadata": {},
   "outputs": [],
   "source": [
    "#Comment out when sending to Kaggle\n",
    "# scaler.fit(X_train)\n",
    "# X_train = scaler.transform(X_train)\n",
    "# X_test = scaler.transform(X_test)"
   ]
  },
  {
   "cell_type": "code",
   "execution_count": 69,
   "id": "a90b89ea",
   "metadata": {},
   "outputs": [],
   "source": [
    "#Real X_Test\n",
    "real_X_test = pd.read_csv(\"/kaggle/input/us-college-completion-rate-analysis/x_test.csv\")\n",
    "real_X_test = real_X_test.drop(columns=['Unnamed: 0'])\n",
    "real_X_test = scaler.transform(real_X_test)"
   ]
  },
  {
   "cell_type": "markdown",
   "id": "f3b605b8",
   "metadata": {},
   "source": [
    "## RandomForestRegressor regressor (rf)"
   ]
  },
  {
   "cell_type": "code",
   "execution_count": 11,
   "id": "b8d65afc",
   "metadata": {},
   "outputs": [
    {
     "data": {
      "text/plain": [
       "{'bootstrap': True,\n",
       " 'ccp_alpha': 0.0,\n",
       " 'criterion': 'squared_error',\n",
       " 'max_depth': None,\n",
       " 'max_features': 1.0,\n",
       " 'max_leaf_nodes': None,\n",
       " 'max_samples': None,\n",
       " 'min_impurity_decrease': 0.0,\n",
       " 'min_samples_leaf': 1,\n",
       " 'min_samples_split': 2,\n",
       " 'min_weight_fraction_leaf': 0.0,\n",
       " 'n_estimators': 100,\n",
       " 'n_jobs': None,\n",
       " 'oob_score': False,\n",
       " 'random_state': 42,\n",
       " 'verbose': 0,\n",
       " 'warm_start': False}"
      ]
     },
     "execution_count": 11,
     "metadata": {},
     "output_type": "execute_result"
    }
   ],
   "source": [
    "# rf.get_params() (Initial Parameters)"
   ]
  },
  {
   "cell_type": "markdown",
   "id": "14db8323",
   "metadata": {},
   "source": [
    "### HyperParameters Tuning"
   ]
  },
  {
   "cell_type": "markdown",
   "id": "5528f8f7",
   "metadata": {},
   "source": [
    "Researching Online, we have identified the following Hyperparameters to improve prediction for the RandomForest Model:\n",
    "1. n_estimators (Number of trees in random forest)\n",
    "2. max_features (Number of features to consider at every split)\n",
    "3. max_depth (Maximum number of levels in tree)\n",
    "4. min_samples_split (Minimum number of samples required to split a node)\n",
    "5. min_samples_leaf (Minimum number of samples required at each leaf node)\n",
    "\n",
    "We then use GridSearchCV to identify the best parameters for each hyperparameter\n",
    "\n",
    "References: \n",
    "MOHIT, Random Forest Hyperparameter tuning. Available: https://www.kaggle.com/code/mohitsital/random-forest-hyperparameter-tuning/notebook\n",
    "\n",
    "Nisha Arya , Tuning Random Forest Hyperparameters. Available: https://www.kdnuggets.com/2022/08/tuning-random-forest-hyperparameters.html#:~:text=Hyperparameters%20of%20a%20Random%20Forest&text=n_estimators%3A%20This%20is%20the%20number,looking%20for%20the%20best%20split."
   ]
  },
  {
   "cell_type": "markdown",
   "id": "7c3f1582",
   "metadata": {},
   "source": [
    "### 1st Optimization Run"
   ]
  },
  {
   "cell_type": "code",
   "execution_count": 29,
   "id": "146d5085",
   "metadata": {},
   "outputs": [
    {
     "data": {
      "text/plain": [
       "{'max_depth': 50,\n",
       " 'max_features': 'sqrt',\n",
       " 'min_samples_leaf': 1,\n",
       " 'min_samples_split': 2,\n",
       " 'n_estimators': 300}"
      ]
     },
     "execution_count": 29,
     "metadata": {},
     "output_type": "execute_result"
    }
   ],
   "source": [
    "# randomforest_param_grid = { \n",
    "#     'n_estimators': [50,100,200,300],\n",
    "#     'max_depth' : [2,50,80,120],\n",
    "#     'min_samples_leaf' :[1,2,4],\n",
    "#     'min_samples_split':[2,4,6],\n",
    "#     'max_features' : [1.0, 'sqrt']\n",
    "    \n",
    "# }\n",
    "\n",
    "# rf_tuned = RandomForestRegressor()\n",
    "# CV_REG = GridSearchCV(estimator=rf_tuned, param_grid=randomforest_param_grid, scoring ='neg_root_mean_squared_error')\n",
    "# CV_REG.fit(X_train, y_train)\n",
    "# CV_REG.best_params_\n",
    "\n",
    "#Output:\n",
    "# {'max_depth': 50,\n",
    "#  'max_features': 'sqrt',\n",
    "#  'min_samples_leaf': 1,\n",
    "#  'min_samples_split': 2,\n",
    "#  'n_estimators': 300}"
   ]
  },
  {
   "cell_type": "markdown",
   "id": "31c6bf9d",
   "metadata": {},
   "source": [
    "### 2nd Optimization Run"
   ]
  },
  {
   "cell_type": "code",
   "execution_count": 39,
   "id": "e168bea5",
   "metadata": {},
   "outputs": [
    {
     "name": "stdout",
     "output_type": "stream",
     "text": [
      "0.9806309970187881\n",
      "[0.451092   0.46162267 0.479439   ... 0.54139    0.568323   0.64028967]\n",
      "(1165,)\n",
      "<class 'numpy.ndarray'>\n"
     ]
    }
   ],
   "source": [
    "# rf_tuned = RandomForestRegressor(n_estimators=300, random_state=42, max_depth = 50, max_features = 'sqrt',min_samples_leaf= 1, min_samples_split =2)\n",
    "# rf_tuned.fit(X_train, y_train)\n",
    "# r_sq_tuned = rf_tuned.score(X_train, y_train)\n",
    "# print(r_sq_tuned)\n",
    "# y_pred_tuned = rf_tuned.predict(real_X_test)\n",
    "# print(y_pred_tuned)\n",
    "# print(y_pred_tuned.shape)\n",
    "# print(type(y_pred_tuned))\n",
    "\n",
    "#Output:\n",
    "# 0.9806309970187881\n",
    "# [0.451092   0.46162267 0.479439   ... 0.54139    0.568323   0.64028967]\n",
    "# (1165,)"
   ]
  },
  {
   "cell_type": "markdown",
   "id": "f96d4cf5",
   "metadata": {},
   "source": [
    "### 3rd Optimization Run"
   ]
  },
  {
   "cell_type": "code",
   "execution_count": 13,
   "id": "f287b690",
   "metadata": {},
   "outputs": [
    {
     "data": {
      "text/plain": [
       "{'max_depth': 30,\n",
       " 'max_features': 1.0,\n",
       " 'min_samples_leaf': 1,\n",
       " 'min_samples_split': 2}"
      ]
     },
     "execution_count": 13,
     "metadata": {},
     "output_type": "execute_result"
    }
   ],
   "source": [
    "# randomforest_param_grid_v2 = { \n",
    "#     'max_depth' : [30,40,50,60,70],\n",
    "#     'min_samples_leaf' :[1,2,4],\n",
    "#     'min_samples_split':[2,4,6],\n",
    "#     'max_features' : [1.0, 'sqrt','log2']\n",
    "    \n",
    "# }\n",
    "\n",
    "# rf_tuned_v2  = RandomForestRegressor()\n",
    "# CV_REG_v2  = GridSearchCV(estimator=rf_tuned_v2, param_grid=randomforest_param_grid_v2, scoring ='neg_root_mean_squared_error')\n",
    "# CV_REG_v2.fit(X_train, y_train)\n",
    "# CV_REG_v2.best_params_\n",
    "\n",
    "#Output:\n",
    "# {'max_depth': 30,\n",
    "#  'max_features': 1.0,\n",
    "#  'min_samples_leaf': 1,\n",
    "#  'min_samples_split': 2}"
   ]
  },
  {
   "cell_type": "markdown",
   "id": "122496c2",
   "metadata": {},
   "source": [
    "### 4th Optimization Run"
   ]
  },
  {
   "cell_type": "code",
   "execution_count": 14,
   "id": "9afaa1a3",
   "metadata": {},
   "outputs": [
    {
     "data": {
      "text/plain": [
       "{'max_depth': 15,\n",
       " 'max_features': 1.0,\n",
       " 'min_samples_leaf': 1,\n",
       " 'min_samples_split': 2}"
      ]
     },
     "execution_count": 14,
     "metadata": {},
     "output_type": "execute_result"
    }
   ],
   "source": [
    "# randomforest_param_grid_v2 = { \n",
    "#     'max_depth' : [15,20,25,30,35],\n",
    "#     'min_samples_leaf' :[1],\n",
    "#     'min_samples_split':[2],\n",
    "#     'max_features' : [1.0]\n",
    "    \n",
    "# }\n",
    "\n",
    "# rf_tuned_v2  = RandomForestRegressor()\n",
    "# CV_REG_v2  = GridSearchCV(estimator=rf_tuned_v2, param_grid=randomforest_param_grid_v2, scoring ='neg_root_mean_squared_error')\n",
    "# CV_REG_v2.fit(X_train, y_train)\n",
    "# CV_REG_v2.best_params_\n",
    "\n",
    "#Output:\n",
    "# {'max_depth': 15,\n",
    "#  'max_features': 1.0,\n",
    "#  'min_samples_leaf': 1,\n",
    "#  'min_samples_split': 2}"
   ]
  },
  {
   "cell_type": "markdown",
   "id": "4454b634",
   "metadata": {},
   "source": [
    "### 5th Optimization Run"
   ]
  },
  {
   "cell_type": "code",
   "execution_count": 16,
   "id": "6705cff4",
   "metadata": {},
   "outputs": [
    {
     "data": {
      "text/plain": [
       "{'max_depth': 16,\n",
       " 'max_features': 1.0,\n",
       " 'min_samples_leaf': 1,\n",
       " 'min_samples_split': 2}"
      ]
     },
     "execution_count": 16,
     "metadata": {},
     "output_type": "execute_result"
    }
   ],
   "source": [
    "# randomforest_param_grid_v2 = { \n",
    "#     'max_depth' : [12,13,14,15,16,17,18],\n",
    "#     'min_samples_leaf' :[1],\n",
    "#     'min_samples_split':[2],\n",
    "#     'max_features' : [1.0]\n",
    "    \n",
    "# }\n",
    "\n",
    "# rf_tuned_v2  = RandomForestRegressor()\n",
    "# CV_REG_v2  = GridSearchCV(estimator=rf_tuned_v2, param_grid=randomforest_param_grid_v2, scoring ='neg_root_mean_squared_error')\n",
    "# CV_REG_v2.fit(X_train, y_train)\n",
    "# CV_REG_v2.best_params_\n",
    "\n",
    "#Output:\n",
    "# {'max_depth': 16,\n",
    "#  'max_features': 1.0,\n",
    "#  'min_samples_leaf': 1,\n",
    "#  'min_samples_split': 2}"
   ]
  },
  {
   "cell_type": "markdown",
   "id": "9bc14ba8",
   "metadata": {},
   "source": [
    "## n_estimator hypertuning using 5th Optimization Run"
   ]
  },
  {
   "cell_type": "markdown",
   "id": "61042596",
   "metadata": {},
   "source": [
    "n_estimators=100"
   ]
  },
  {
   "cell_type": "code",
   "execution_count": 17,
   "id": "d5c7f2a8",
   "metadata": {},
   "outputs": [
    {
     "name": "stdout",
     "output_type": "stream",
     "text": [
      "0.9791291118239913\n"
     ]
    }
   ],
   "source": [
    "# rf_tuned_v3  = RandomForestRegressor(n_estimators = 100,max_depth =16, max_features =1.0, min_samples_leaf=1,min_samples_split=2  )\n",
    "# rf_tuned_v3.fit(X_train, y_train)\n",
    "# r_sq = rf_tuned_v3.score(X_train, y_train)\n",
    "# print(r_sq)\n",
    "\n",
    "#0.9791291118239913"
   ]
  },
  {
   "cell_type": "code",
   "execution_count": 18,
   "id": "4503be16",
   "metadata": {},
   "outputs": [
    {
     "data": {
      "text/plain": [
       "0.06752790285476055"
      ]
     },
     "execution_count": 18,
     "metadata": {},
     "output_type": "execute_result"
    }
   ],
   "source": [
    "# y_pred_TEST = rf_tuned_v3.predict(X_test)\n",
    "\n",
    "# #Testing RMSE error for the Train Test split\n",
    "# RMSE = mean_squared_error(y_test, y_pred_TEST, squared=False)\n",
    "# RMSE\n",
    "\n",
    "#0.06752790285476055"
   ]
  },
  {
   "cell_type": "markdown",
   "id": "0b91aa85",
   "metadata": {},
   "source": [
    "n_estimators=200"
   ]
  },
  {
   "cell_type": "code",
   "execution_count": 19,
   "id": "2a47e2ed",
   "metadata": {},
   "outputs": [
    {
     "name": "stdout",
     "output_type": "stream",
     "text": [
      "0.9795947087864706\n"
     ]
    }
   ],
   "source": [
    "# rf_tuned_v3  = RandomForestRegressor(n_estimators = 200,max_depth =16, max_features =1.0, min_samples_leaf=1,min_samples_split=2  )\n",
    "# rf_tuned_v3.fit(X_train, y_train)\n",
    "# r_sq = rf_tuned_v3.score(X_train, y_train)\n",
    "# print(r_sq)\n",
    "\n",
    "#0.9795947087864706"
   ]
  },
  {
   "cell_type": "code",
   "execution_count": 20,
   "id": "6b9bb3ba",
   "metadata": {},
   "outputs": [
    {
     "data": {
      "text/plain": [
       "0.06665104626315474"
      ]
     },
     "execution_count": 20,
     "metadata": {},
     "output_type": "execute_result"
    }
   ],
   "source": [
    "# y_pred_TEST = rf_tuned_v3.predict(X_test)\n",
    "\n",
    "# #Testing RMSE error for the Train Test split\n",
    "# RMSE = mean_squared_error(y_test, y_pred_TEST, squared=False)\n",
    "# RMSE\n",
    "\n",
    "#0.06665104626315474"
   ]
  },
  {
   "cell_type": "markdown",
   "id": "d3b3fe75",
   "metadata": {},
   "source": [
    "n_estimators=250"
   ]
  },
  {
   "cell_type": "code",
   "execution_count": 38,
   "id": "e77c59c4",
   "metadata": {},
   "outputs": [
    {
     "name": "stdout",
     "output_type": "stream",
     "text": [
      "0.9802005813521949\n"
     ]
    }
   ],
   "source": [
    "# rf_tuned_v3  = RandomForestRegressor(n_estimators = 250,max_depth =16, max_features =1.0, min_samples_leaf=1,min_samples_split=2  )\n",
    "# rf_tuned_v3.fit(X_train, y_train)\n",
    "# r_sq = rf_tuned_v3.score(X_train, y_train)\n",
    "# print(r_sq)\n",
    "\n",
    "#0.9802005813521949"
   ]
  },
  {
   "cell_type": "code",
   "execution_count": 39,
   "id": "fe46a662",
   "metadata": {},
   "outputs": [
    {
     "data": {
      "text/plain": [
       "0.06654103031746121"
      ]
     },
     "execution_count": 39,
     "metadata": {},
     "output_type": "execute_result"
    }
   ],
   "source": [
    "# y_pred_TEST = rf_tuned_v3.predict(X_test)\n",
    "\n",
    "# #Testing RMSE error for the Train Test split\n",
    "# RMSE = mean_squared_error(y_test, y_pred_TEST, squared=False)\n",
    "# RMSE\n",
    "\n",
    "#0.06654103031746121"
   ]
  },
  {
   "cell_type": "markdown",
   "id": "bf3dbd55",
   "metadata": {},
   "source": [
    "n_estimators=300"
   ]
  },
  {
   "cell_type": "code",
   "execution_count": 40,
   "id": "27b88ba7",
   "metadata": {},
   "outputs": [
    {
     "name": "stdout",
     "output_type": "stream",
     "text": [
      "0.9800403271293735\n"
     ]
    }
   ],
   "source": [
    "# rf_tuned_v3  = RandomForestRegressor(n_estimators = 300,max_depth =16, max_features =1.0, min_samples_leaf=1,min_samples_split=2  )\n",
    "# rf_tuned_v3.fit(X_train, y_train)\n",
    "# r_sq = rf_tuned_v3.score(X_train, y_train)\n",
    "# print(r_sq)\n",
    "\n",
    "#0.9800403271293735"
   ]
  },
  {
   "cell_type": "code",
   "execution_count": 41,
   "id": "f4645c8f",
   "metadata": {},
   "outputs": [
    {
     "data": {
      "text/plain": [
       "0.06701492324537602"
      ]
     },
     "execution_count": 41,
     "metadata": {},
     "output_type": "execute_result"
    }
   ],
   "source": [
    "# y_pred_TEST = rf_tuned_v3.predict(X_test)\n",
    "\n",
    "# #Testing RMSE error for the Train Test split\n",
    "# RMSE = mean_squared_error(y_test, y_pred_TEST, squared=False)\n",
    "# RMSE\n",
    "\n",
    "#0.06701492324537602"
   ]
  },
  {
   "cell_type": "markdown",
   "id": "8f19ff56",
   "metadata": {},
   "source": [
    "n_estimators=400"
   ]
  },
  {
   "cell_type": "code",
   "execution_count": 32,
   "id": "e8419da0",
   "metadata": {},
   "outputs": [
    {
     "name": "stdout",
     "output_type": "stream",
     "text": [
      "0.9800626376393404\n"
     ]
    }
   ],
   "source": [
    "# rf_tuned_v3  = RandomForestRegressor(n_estimators = 400,max_depth =16, max_features =1.0, min_samples_leaf=1,min_samples_split=2  )\n",
    "# rf_tuned_v3.fit(X_train, y_train)\n",
    "# r_sq = rf_tuned_v3.score(X_train, y_train)\n",
    "# print(r_sq)\n",
    "\n",
    "#0.9800626376393404"
   ]
  },
  {
   "cell_type": "code",
   "execution_count": 33,
   "id": "6af92bb2",
   "metadata": {},
   "outputs": [
    {
     "data": {
      "text/plain": [
       "0.06704377902368457"
      ]
     },
     "execution_count": 33,
     "metadata": {},
     "output_type": "execute_result"
    }
   ],
   "source": [
    "# y_pred_TEST = rf_tuned_v3.predict(X_test)\n",
    "\n",
    "# #Testing RMSE error for the Train Test split\n",
    "# RMSE = mean_squared_error(y_test, y_pred_TEST, squared=False)\n",
    "# RMSE\n",
    "\n",
    "#0.06704377902368457"
   ]
  },
  {
   "cell_type": "markdown",
   "id": "b36aea98",
   "metadata": {},
   "source": [
    "From n_estimators =300 and onwards, the training R-squared score is less than that of the n_estimators=250 model (0.9802005813521949) while the test data RMSE is greater than that of the n_estimators=250 model (0.06654103031746121) and the final model for the RandomForestRegressor model has the following parameters:\n",
    "\n",
    "n_estimators = 250,max_depth =16, max_features =1.0, min_samples_leaf=1,min_samples_split=2"
   ]
  },
  {
   "cell_type": "markdown",
   "id": "2778e070",
   "metadata": {},
   "source": [
    "## Using Final Model to make prediction for Kaggle Submission"
   ]
  },
  {
   "cell_type": "code",
   "execution_count": 70,
   "id": "f815e163",
   "metadata": {},
   "outputs": [],
   "source": [
    "rf_tuned_v3  = RandomForestRegressor(n_estimators = 250,max_depth =16, max_features =1.0, min_samples_leaf=1,min_samples_split=2  )\n",
    "rf_tuned_v3.fit(X_train, y.to_numpy())\n",
    "true_y_pred_TEST_rf_tuned = rf_tuned_v3.predict(real_X_test)"
   ]
  },
  {
   "cell_type": "code",
   "execution_count": 51,
   "id": "110df22d",
   "metadata": {},
   "outputs": [
    {
     "data": {
      "text/plain": [
       "array([0.46401508, 0.44816158, 0.47457825, ..., 0.55874871, 0.56305854,\n",
       "       0.64304008])"
      ]
     },
     "execution_count": 51,
     "metadata": {},
     "output_type": "execute_result"
    }
   ],
   "source": [
    "true_y_pred_TEST_rf_tuned"
   ]
  },
  {
   "cell_type": "markdown",
   "id": "12c832a4",
   "metadata": {
    "papermill": {
     "duration": 0.004174,
     "end_time": "2023-04-04T12:34:03.255082",
     "exception": false,
     "start_time": "2023-04-04T12:34:03.250908",
     "status": "completed"
    },
    "tags": []
   },
   "source": [
    "### Creating our submission"
   ]
  },
  {
   "cell_type": "code",
   "execution_count": 52,
   "id": "1bc28e9e",
   "metadata": {
    "execution": {
     "iopub.execute_input": "2023-04-04T12:34:03.266647Z",
     "iopub.status.busy": "2023-04-04T12:34:03.266279Z",
     "iopub.status.idle": "2023-04-04T12:34:03.289377Z",
     "shell.execute_reply": "2023-04-04T12:34:03.288366Z"
    },
    "papermill": {
     "duration": 0.033156,
     "end_time": "2023-04-04T12:34:03.292502",
     "exception": false,
     "start_time": "2023-04-04T12:34:03.259346",
     "status": "completed"
    },
    "tags": []
   },
   "outputs": [
    {
     "data": {
      "text/html": [
       "<div>\n",
       "<style scoped>\n",
       "    .dataframe tbody tr th:only-of-type {\n",
       "        vertical-align: middle;\n",
       "    }\n",
       "\n",
       "    .dataframe tbody tr th {\n",
       "        vertical-align: top;\n",
       "    }\n",
       "\n",
       "    .dataframe thead th {\n",
       "        text-align: right;\n",
       "    }\n",
       "</style>\n",
       "<table border=\"1\" class=\"dataframe\">\n",
       "  <thead>\n",
       "    <tr style=\"text-align: right;\">\n",
       "      <th></th>\n",
       "      <th>Completion_rate</th>\n",
       "    </tr>\n",
       "  </thead>\n",
       "  <tbody>\n",
       "    <tr>\n",
       "      <th>0</th>\n",
       "      <td>0.464015</td>\n",
       "    </tr>\n",
       "    <tr>\n",
       "      <th>1</th>\n",
       "      <td>0.448162</td>\n",
       "    </tr>\n",
       "    <tr>\n",
       "      <th>2</th>\n",
       "      <td>0.474578</td>\n",
       "    </tr>\n",
       "    <tr>\n",
       "      <th>3</th>\n",
       "      <td>0.434783</td>\n",
       "    </tr>\n",
       "    <tr>\n",
       "      <th>4</th>\n",
       "      <td>0.485761</td>\n",
       "    </tr>\n",
       "    <tr>\n",
       "      <th>...</th>\n",
       "      <td>...</td>\n",
       "    </tr>\n",
       "    <tr>\n",
       "      <th>1160</th>\n",
       "      <td>0.465618</td>\n",
       "    </tr>\n",
       "    <tr>\n",
       "      <th>1161</th>\n",
       "      <td>0.494526</td>\n",
       "    </tr>\n",
       "    <tr>\n",
       "      <th>1162</th>\n",
       "      <td>0.558749</td>\n",
       "    </tr>\n",
       "    <tr>\n",
       "      <th>1163</th>\n",
       "      <td>0.563059</td>\n",
       "    </tr>\n",
       "    <tr>\n",
       "      <th>1164</th>\n",
       "      <td>0.643040</td>\n",
       "    </tr>\n",
       "  </tbody>\n",
       "</table>\n",
       "<p>1165 rows × 1 columns</p>\n",
       "</div>"
      ],
      "text/plain": [
       "      Completion_rate\n",
       "0            0.464015\n",
       "1            0.448162\n",
       "2            0.474578\n",
       "3            0.434783\n",
       "4            0.485761\n",
       "...               ...\n",
       "1160         0.465618\n",
       "1161         0.494526\n",
       "1162         0.558749\n",
       "1163         0.563059\n",
       "1164         0.643040\n",
       "\n",
       "[1165 rows x 1 columns]"
      ]
     },
     "execution_count": 52,
     "metadata": {},
     "output_type": "execute_result"
    }
   ],
   "source": [
    "submission = pd.DataFrame.from_dict({'Completion_rate': true_y_pred_TEST_rf_tuned})\n",
    "submission"
   ]
  },
  {
   "cell_type": "code",
   "execution_count": 53,
   "id": "0a613631",
   "metadata": {
    "execution": {
     "iopub.execute_input": "2023-04-04T12:34:03.305172Z",
     "iopub.status.busy": "2023-04-04T12:34:03.303733Z",
     "iopub.status.idle": "2023-04-04T12:34:03.317452Z",
     "shell.execute_reply": "2023-04-04T12:34:03.315552Z"
    },
    "papermill": {
     "duration": 0.023032,
     "end_time": "2023-04-04T12:34:03.320474",
     "exception": false,
     "start_time": "2023-04-04T12:34:03.297442",
     "status": "completed"
    },
    "tags": []
   },
   "outputs": [],
   "source": [
    "submission.to_csv('submission.csv', index = True, index_label = \"id\") "
   ]
  },
  {
   "cell_type": "markdown",
   "id": "2b5cb054",
   "metadata": {
    "papermill": {
     "duration": 0.004253,
     "end_time": "2023-04-04T12:34:03.329568",
     "exception": false,
     "start_time": "2023-04-04T12:34:03.325315",
     "status": "completed"
    },
    "tags": []
   },
   "source": [
    "### To submit your submission\n",
    "\n",
    "On the panel on your right, select the drop down \"Submit to competition\", and submit this notebook. Ensure that your submission is named ```submission.csv```!"
   ]
  }
 ],
 "metadata": {
  "kernelspec": {
   "display_name": "Python 3 (ipykernel)",
   "language": "python",
   "name": "python3"
  },
  "language_info": {
   "codemirror_mode": {
    "name": "ipython",
    "version": 3
   },
   "file_extension": ".py",
   "mimetype": "text/x-python",
   "name": "python",
   "nbconvert_exporter": "python",
   "pygments_lexer": "ipython3",
   "version": "3.8.16"
  },
  "papermill": {
   "default_parameters": {},
   "duration": 21.044189,
   "end_time": "2023-04-04T12:34:04.758875",
   "environment_variables": {},
   "exception": null,
   "input_path": "__notebook__.ipynb",
   "output_path": "__notebook__.ipynb",
   "parameters": {},
   "start_time": "2023-04-04T12:33:43.714686",
   "version": "2.4.0"
  }
 },
 "nbformat": 4,
 "nbformat_minor": 5
}
