{
 "cells": [
  {
   "cell_type": "code",
   "execution_count": 1,
   "id": "79b03c91",
   "metadata": {
    "_cell_guid": "b1076dfc-b9ad-4769-8c92-a6c4dae69d19",
    "_uuid": "8f2839f25d086af736a60e9eeb907d3b93b6e0e5",
    "execution": {
     "iopub.execute_input": "2023-04-04T03:04:56.832131Z",
     "iopub.status.busy": "2023-04-04T03:04:56.831480Z",
     "iopub.status.idle": "2023-04-04T03:05:05.961729Z",
     "shell.execute_reply": "2023-04-04T03:05:05.959368Z"
    },
    "papermill": {
     "duration": 9.141758,
     "end_time": "2023-04-04T03:05:05.964828",
     "exception": false,
     "start_time": "2023-04-04T03:04:56.823070",
     "status": "completed"
    },
    "tags": []
   },
   "outputs": [
    {
     "name": "stdout",
     "output_type": "stream",
     "text": [
      "/kaggle/input/us-college-completion-rate-analysis/x_test.csv\n",
      "/kaggle/input/us-college-completion-rate-analysis/train.csv\n"
     ]
    }
   ],
   "source": [
    "# This Python 3 environment comes with many helpful analytics libraries installed\n",
    "# It is defined by the kaggle/python Docker image: https://github.com/kaggle/docker-python\n",
    "# For example, here's several helpful packages to load\n",
    "\n",
    "import numpy as np # linear algebra\n",
    "import pandas as pd # data processing, CSV file I/O (e.g. pd.read_csv)\n",
    "from sklearn.preprocessing import StandardScaler\n",
    "import torch\n",
    "import torch.nn as nn\n",
    "import torch.optim as optim\n",
    "import tqdm\n",
    "import copy\n",
    "from torchmetrics.functional import r2_score as torch_r2_score\n",
    "from sklearn.ensemble import RandomForestRegressor\n",
    "import matplotlib.pyplot as plt\n",
    "from sklearn.model_selection import train_test_split\n",
    "\n",
    "# Input data files are available in the read-only \"../input/\" directory\n",
    "# For example, running this (by clicking run or pressing Shift+Enter) will list all files under the input directory\n",
    "\n",
    "import os\n",
    "for dirname, _, filenames in os.walk('/kaggle/input'):\n",
    "    for filename in filenames:\n",
    "        print(os.path.join(dirname, filename))\n",
    "\n",
    "# You can write up to 20GB to the current directory (/kaggle/working/) that gets preserved as output when you create a version using \"Save & Run All\" \n",
    "# You can also write temporary files to /kaggle/temp/, but they won't be saved outside of the current session"
   ]
  },
  {
   "cell_type": "markdown",
   "id": "f8de8f1d",
   "metadata": {
    "papermill": {
     "duration": 0.004779,
     "end_time": "2023-04-04T03:05:05.975123",
     "exception": false,
     "start_time": "2023-04-04T03:05:05.970344",
     "status": "completed"
    },
    "tags": []
   },
   "source": [
    "### Importing the data"
   ]
  },
  {
   "cell_type": "code",
   "execution_count": 2,
   "id": "db7a83ce",
   "metadata": {
    "execution": {
     "iopub.execute_input": "2023-04-04T03:05:05.987684Z",
     "iopub.status.busy": "2023-04-04T03:05:05.986859Z",
     "iopub.status.idle": "2023-04-04T03:05:06.019726Z",
     "shell.execute_reply": "2023-04-04T03:05:06.018454Z"
    },
    "papermill": {
     "duration": 0.042216,
     "end_time": "2023-04-04T03:05:06.022561",
     "exception": false,
     "start_time": "2023-04-04T03:05:05.980345",
     "status": "completed"
    },
    "tags": []
   },
   "outputs": [],
   "source": [
    "df = pd.read_csv(\"/kaggle/input/us-college-completion-rate-analysis/train.csv\")"
   ]
  },
  {
   "cell_type": "code",
   "execution_count": 3,
   "id": "aed6acf7",
   "metadata": {
    "execution": {
     "iopub.execute_input": "2023-04-04T03:05:06.034998Z",
     "iopub.status.busy": "2023-04-04T03:05:06.034129Z",
     "iopub.status.idle": "2023-04-04T03:05:06.057791Z",
     "shell.execute_reply": "2023-04-04T03:05:06.056223Z"
    },
    "papermill": {
     "duration": 0.033034,
     "end_time": "2023-04-04T03:05:06.060725",
     "exception": false,
     "start_time": "2023-04-04T03:05:06.027691",
     "status": "completed"
    },
    "tags": []
   },
   "outputs": [],
   "source": [
    "features = ['Tuition_in_state','Tuition_out_state','Faculty_salary','Pell_grant_rate','SAT_average','ACT_50thPercentile','pct_White','pct_Black','pct_Hispanic','pct_Asian','Parents_middlesch','Parents_highsch','Parents_college'] \n",
    "X = df[features]\n",
    "y = df[\"Completion_rate\"]\n",
    "\n",
    "X_train, X_test, y_train, y_test = train_test_split(X, y, test_size=0.2, random_state=42)"
   ]
  },
  {
   "cell_type": "markdown",
   "id": "991481ce",
   "metadata": {
    "papermill": {
     "duration": 0.004549,
     "end_time": "2023-04-04T03:05:06.070205",
     "exception": false,
     "start_time": "2023-04-04T03:05:06.065656",
     "status": "completed"
    },
    "tags": []
   },
   "source": [
    "### Data Preprocessing"
   ]
  },
  {
   "cell_type": "code",
   "execution_count": 4,
   "id": "d59d449a",
   "metadata": {
    "execution": {
     "iopub.execute_input": "2023-04-04T03:05:06.081937Z",
     "iopub.status.busy": "2023-04-04T03:05:06.081513Z",
     "iopub.status.idle": "2023-04-04T03:05:06.096450Z",
     "shell.execute_reply": "2023-04-04T03:05:06.094979Z"
    },
    "papermill": {
     "duration": 0.024472,
     "end_time": "2023-04-04T03:05:06.099548",
     "exception": false,
     "start_time": "2023-04-04T03:05:06.075076",
     "status": "completed"
    },
    "tags": []
   },
   "outputs": [],
   "source": [
    "scaler = StandardScaler()\n",
    "scaler.fit(X_train)\n",
    "X_train = scaler.transform(X_train)\n",
    "X_test = scaler.transform(X_test)"
   ]
  },
  {
   "cell_type": "markdown",
   "id": "e1f75867",
   "metadata": {
    "papermill": {
     "duration": 0.00502,
     "end_time": "2023-04-04T03:05:06.109602",
     "exception": false,
     "start_time": "2023-04-04T03:05:06.104582",
     "status": "completed"
    },
    "tags": []
   },
   "source": [
    "### Creating a simple regression model"
   ]
  },
  {
   "cell_type": "code",
   "execution_count": 5,
   "id": "d86d3c67",
   "metadata": {
    "execution": {
     "iopub.execute_input": "2023-04-04T03:05:06.122163Z",
     "iopub.status.busy": "2023-04-04T03:05:06.121664Z",
     "iopub.status.idle": "2023-04-04T03:05:06.154298Z",
     "shell.execute_reply": "2023-04-04T03:05:06.152499Z"
    },
    "papermill": {
     "duration": 0.044527,
     "end_time": "2023-04-04T03:05:06.158978",
     "exception": false,
     "start_time": "2023-04-04T03:05:06.114451",
     "status": "completed"
    },
    "tags": []
   },
   "outputs": [
    {
     "name": "stdout",
     "output_type": "stream",
     "text": [
      "0.7719856013586138\n"
     ]
    }
   ],
   "source": [
    "from sklearn.linear_model import LinearRegression\n",
    "lr_model = LinearRegression().fit(X_train, y_train)\n",
    "r_sq = lr_model.score(X_train, y_train)\n",
    "print(r_sq)\n",
    "\n",
    "#0.7719856013586138"
   ]
  },
  {
   "cell_type": "code",
   "execution_count": 6,
   "id": "9bf10550",
   "metadata": {
    "execution": {
     "iopub.execute_input": "2023-04-04T03:05:06.186440Z",
     "iopub.status.busy": "2023-04-04T03:05:06.185654Z",
     "iopub.status.idle": "2023-04-04T03:05:06.223929Z",
     "shell.execute_reply": "2023-04-04T03:05:06.222028Z"
    },
    "papermill": {
     "duration": 0.057653,
     "end_time": "2023-04-04T03:05:06.228803",
     "exception": false,
     "start_time": "2023-04-04T03:05:06.171150",
     "status": "completed"
    },
    "tags": []
   },
   "outputs": [
    {
     "name": "stdout",
     "output_type": "stream",
     "text": [
      "[0.43885816 0.4718428  0.48255377 ... 0.56734866 0.52761531 0.65435567]\n"
     ]
    }
   ],
   "source": [
    "real_X_test = pd.read_csv(\"/kaggle/input/us-college-completion-rate-analysis/x_test.csv\")\n",
    "real_X_test = real_X_test.drop(columns=['Unnamed: 0'])\n",
    "real_X_test = scaler.transform(real_X_test)\n",
    "y_pred = lr_model.predict(real_X_test)\n",
    "print(y_pred)\n",
    "\n",
    "#[0.43885816 0.4718428  0.48255377 ... 0.56734866 0.52761531 0.65435567]"
   ]
  },
  {
   "cell_type": "markdown",
   "id": "c33e9578",
   "metadata": {
    "papermill": {
     "duration": 0.011848,
     "end_time": "2023-04-04T03:05:06.252987",
     "exception": false,
     "start_time": "2023-04-04T03:05:06.241139",
     "status": "completed"
    },
    "tags": []
   },
   "source": [
    "### Create RandomForestRegressor"
   ]
  },
  {
   "cell_type": "code",
   "execution_count": 7,
   "id": "0cddaa60",
   "metadata": {
    "execution": {
     "iopub.execute_input": "2023-04-04T03:05:06.280677Z",
     "iopub.status.busy": "2023-04-04T03:05:06.279877Z",
     "iopub.status.idle": "2023-04-04T03:05:07.917141Z",
     "shell.execute_reply": "2023-04-04T03:05:07.915382Z"
    },
    "papermill": {
     "duration": 1.654422,
     "end_time": "2023-04-04T03:05:07.919960",
     "exception": false,
     "start_time": "2023-04-04T03:05:06.265538",
     "status": "completed"
    },
    "tags": []
   },
   "outputs": [
    {
     "name": "stdout",
     "output_type": "stream",
     "text": [
      "0.9801349940231828\n",
      "[0.481608 0.441269 0.47429  ... 0.547886 0.549223 0.643818]\n",
      "(1165,)\n",
      "<class 'numpy.ndarray'>\n"
     ]
    }
   ],
   "source": [
    "rf = RandomForestRegressor(n_estimators=100, random_state=42)\n",
    "rf.fit(X_train, y_train)\n",
    "r_sq = rf.score(X_train, y_train)\n",
    "print(r_sq)\n",
    "y_pred = rf.predict(real_X_test)\n",
    "print(y_pred)\n",
    "print(y_pred.shape)\n",
    "print(type(y_pred))\n",
    "\n",
    "# 0.9801349940231828\n",
    "# [0.481608 0.441269 0.47429  ... 0.547886 0.549223 0.643818]\n",
    "# (1165,)\n",
    "# <class 'numpy.ndarray'>"
   ]
  },
  {
   "cell_type": "markdown",
   "id": "90cfd070",
   "metadata": {
    "papermill": {
     "duration": 0.004874,
     "end_time": "2023-04-04T03:05:07.930129",
     "exception": false,
     "start_time": "2023-04-04T03:05:07.925255",
     "status": "completed"
    },
    "tags": []
   },
   "source": [
    "### Create Neural Network model"
   ]
  },
  {
   "cell_type": "code",
   "execution_count": 8,
   "id": "91e83cd8",
   "metadata": {
    "execution": {
     "iopub.execute_input": "2023-04-04T03:05:07.943434Z",
     "iopub.status.busy": "2023-04-04T03:05:07.943027Z",
     "iopub.status.idle": "2023-04-04T03:08:13.742470Z",
     "shell.execute_reply": "2023-04-04T03:08:13.741193Z"
    },
    "papermill": {
     "duration": 185.809394,
     "end_time": "2023-04-04T03:08:13.745222",
     "exception": false,
     "start_time": "2023-04-04T03:05:07.935828",
     "status": "completed"
    },
    "tags": []
   },
   "outputs": [
    {
     "name": "stderr",
     "output_type": "stream",
     "text": [
      "Epoch 0: 100%|██████████| 190/190 [00:01<00:00, 138.46batch/s, mse=0.109]\n",
      "Epoch 1: 100%|██████████| 190/190 [00:01<00:00, 158.67batch/s, mse=0.014]\n",
      "Epoch 2: 100%|██████████| 190/190 [00:01<00:00, 160.27batch/s, mse=0.00298]\n",
      "Epoch 3: 100%|██████████| 190/190 [00:01<00:00, 155.88batch/s, mse=0.00221]\n",
      "Epoch 4: 100%|██████████| 190/190 [00:01<00:00, 148.65batch/s, mse=0.00368]\n",
      "Epoch 5: 100%|██████████| 190/190 [00:01<00:00, 156.73batch/s, mse=0.00473]\n",
      "Epoch 6: 100%|██████████| 190/190 [00:01<00:00, 143.07batch/s, mse=0.00483]\n",
      "Epoch 7: 100%|██████████| 190/190 [00:01<00:00, 144.14batch/s, mse=0.00467]\n",
      "Epoch 8: 100%|██████████| 190/190 [00:01<00:00, 151.67batch/s, mse=0.00447]\n",
      "Epoch 9: 100%|██████████| 190/190 [00:01<00:00, 157.15batch/s, mse=0.00421]\n",
      "Epoch 10: 100%|██████████| 190/190 [00:01<00:00, 161.19batch/s, mse=0.00392]\n",
      "Epoch 11: 100%|██████████| 190/190 [00:01<00:00, 151.12batch/s, mse=0.00383]\n",
      "Epoch 12: 100%|██████████| 190/190 [00:01<00:00, 153.15batch/s, mse=0.00361]\n",
      "Epoch 13: 100%|██████████| 190/190 [00:01<00:00, 155.53batch/s, mse=0.00356]\n",
      "Epoch 14: 100%|██████████| 190/190 [00:01<00:00, 145.06batch/s, mse=0.00353]\n",
      "Epoch 15: 100%|██████████| 190/190 [00:01<00:00, 152.28batch/s, mse=0.00349]\n",
      "Epoch 16: 100%|██████████| 190/190 [00:01<00:00, 167.16batch/s, mse=0.00335]\n",
      "Epoch 17: 100%|██████████| 190/190 [00:01<00:00, 159.21batch/s, mse=0.00334]\n",
      "Epoch 18: 100%|██████████| 190/190 [00:01<00:00, 160.21batch/s, mse=0.00328]\n",
      "Epoch 19: 100%|██████████| 190/190 [00:01<00:00, 142.95batch/s, mse=0.00331]\n",
      "Epoch 20: 100%|██████████| 190/190 [00:01<00:00, 154.65batch/s, mse=0.00339]\n",
      "Epoch 21: 100%|██████████| 190/190 [00:01<00:00, 145.10batch/s, mse=0.00347]\n",
      "Epoch 22: 100%|██████████| 190/190 [00:01<00:00, 158.12batch/s, mse=0.00349]\n",
      "Epoch 23: 100%|██████████| 190/190 [00:01<00:00, 153.65batch/s, mse=0.00356]\n",
      "Epoch 24: 100%|██████████| 190/190 [00:01<00:00, 148.32batch/s, mse=0.0036]\n",
      "Epoch 25: 100%|██████████| 190/190 [00:01<00:00, 161.61batch/s, mse=0.00363]\n",
      "Epoch 26: 100%|██████████| 190/190 [00:01<00:00, 155.16batch/s, mse=0.00367]\n",
      "Epoch 27: 100%|██████████| 190/190 [00:01<00:00, 143.93batch/s, mse=0.00373]\n",
      "Epoch 28: 100%|██████████| 190/190 [00:01<00:00, 156.11batch/s, mse=0.00369]\n",
      "Epoch 29: 100%|██████████| 190/190 [00:01<00:00, 150.36batch/s, mse=0.00374]\n",
      "Epoch 30: 100%|██████████| 190/190 [00:01<00:00, 145.65batch/s, mse=0.00389]\n",
      "Epoch 31: 100%|██████████| 190/190 [00:01<00:00, 147.04batch/s, mse=0.00387]\n",
      "Epoch 32: 100%|██████████| 190/190 [00:01<00:00, 141.35batch/s, mse=0.0039]\n",
      "Epoch 33: 100%|██████████| 190/190 [00:01<00:00, 151.19batch/s, mse=0.00403]\n",
      "Epoch 34: 100%|██████████| 190/190 [00:01<00:00, 150.48batch/s, mse=0.00393]\n",
      "Epoch 35: 100%|██████████| 190/190 [00:01<00:00, 151.04batch/s, mse=0.00398]\n",
      "Epoch 36: 100%|██████████| 190/190 [00:01<00:00, 158.87batch/s, mse=0.004]\n",
      "Epoch 37: 100%|██████████| 190/190 [00:01<00:00, 157.57batch/s, mse=0.00401]\n",
      "Epoch 38: 100%|██████████| 190/190 [00:01<00:00, 155.45batch/s, mse=0.00405]\n",
      "Epoch 39: 100%|██████████| 190/190 [00:01<00:00, 158.81batch/s, mse=0.00408]\n",
      "Epoch 40: 100%|██████████| 190/190 [00:01<00:00, 150.02batch/s, mse=0.00408]\n",
      "Epoch 41: 100%|██████████| 190/190 [00:01<00:00, 148.28batch/s, mse=0.0041]\n",
      "Epoch 42: 100%|██████████| 190/190 [00:01<00:00, 142.96batch/s, mse=0.00399]\n",
      "Epoch 43: 100%|██████████| 190/190 [00:01<00:00, 147.01batch/s, mse=0.00412]\n",
      "Epoch 44: 100%|██████████| 190/190 [00:01<00:00, 141.34batch/s, mse=0.00408]\n",
      "Epoch 45: 100%|██████████| 190/190 [00:01<00:00, 145.76batch/s, mse=0.00413]\n",
      "Epoch 46: 100%|██████████| 190/190 [00:01<00:00, 156.30batch/s, mse=0.00404]\n",
      "Epoch 47: 100%|██████████| 190/190 [00:01<00:00, 159.13batch/s, mse=0.00404]\n",
      "Epoch 48: 100%|██████████| 190/190 [00:01<00:00, 169.45batch/s, mse=0.00394]\n",
      "Epoch 49: 100%|██████████| 190/190 [00:01<00:00, 151.11batch/s, mse=0.00381]\n",
      "Epoch 50: 100%|██████████| 190/190 [00:01<00:00, 152.71batch/s, mse=0.00401]\n",
      "Epoch 51: 100%|██████████| 190/190 [00:01<00:00, 153.53batch/s, mse=0.00379]\n",
      "Epoch 52: 100%|██████████| 190/190 [00:01<00:00, 152.64batch/s, mse=0.00374]\n",
      "Epoch 53: 100%|██████████| 190/190 [00:01<00:00, 149.13batch/s, mse=0.00374]\n",
      "Epoch 54: 100%|██████████| 190/190 [00:01<00:00, 147.44batch/s, mse=0.00363]\n",
      "Epoch 55: 100%|██████████| 190/190 [00:01<00:00, 154.40batch/s, mse=0.00379]\n",
      "Epoch 56: 100%|██████████| 190/190 [00:01<00:00, 153.40batch/s, mse=0.00359]\n",
      "Epoch 57: 100%|██████████| 190/190 [00:01<00:00, 148.85batch/s, mse=0.00324]\n",
      "Epoch 58: 100%|██████████| 190/190 [00:01<00:00, 151.99batch/s, mse=0.00335]\n",
      "Epoch 59: 100%|██████████| 190/190 [00:01<00:00, 142.24batch/s, mse=0.00341]\n",
      "Epoch 60: 100%|██████████| 190/190 [00:01<00:00, 150.44batch/s, mse=0.0034]\n",
      "Epoch 61: 100%|██████████| 190/190 [00:01<00:00, 144.26batch/s, mse=0.0035]\n",
      "Epoch 62: 100%|██████████| 190/190 [00:01<00:00, 146.51batch/s, mse=0.00338]\n",
      "Epoch 63: 100%|██████████| 190/190 [00:01<00:00, 158.55batch/s, mse=0.00334]\n",
      "Epoch 64: 100%|██████████| 190/190 [00:01<00:00, 152.93batch/s, mse=0.00338]\n",
      "Epoch 65: 100%|██████████| 190/190 [00:01<00:00, 155.48batch/s, mse=0.0034]\n",
      "Epoch 66: 100%|██████████| 190/190 [00:01<00:00, 156.02batch/s, mse=0.00344]\n",
      "Epoch 67: 100%|██████████| 190/190 [00:01<00:00, 152.34batch/s, mse=0.00352]\n",
      "Epoch 68: 100%|██████████| 190/190 [00:01<00:00, 150.74batch/s, mse=0.0035]\n",
      "Epoch 69: 100%|██████████| 190/190 [00:01<00:00, 160.56batch/s, mse=0.00347]\n",
      "Epoch 70: 100%|██████████| 190/190 [00:01<00:00, 160.24batch/s, mse=0.00331]\n",
      "Epoch 71: 100%|██████████| 190/190 [00:01<00:00, 154.57batch/s, mse=0.00364]\n",
      "Epoch 72: 100%|██████████| 190/190 [00:01<00:00, 162.55batch/s, mse=0.00352]\n",
      "Epoch 73: 100%|██████████| 190/190 [00:01<00:00, 147.13batch/s, mse=0.0034]\n",
      "Epoch 74: 100%|██████████| 190/190 [00:01<00:00, 138.15batch/s, mse=0.00338]\n",
      "Epoch 75: 100%|██████████| 190/190 [00:01<00:00, 143.73batch/s, mse=0.0034]\n",
      "Epoch 76: 100%|██████████| 190/190 [00:01<00:00, 134.34batch/s, mse=0.00331]\n",
      "Epoch 77: 100%|██████████| 190/190 [00:01<00:00, 153.70batch/s, mse=0.00351]\n",
      "Epoch 78: 100%|██████████| 190/190 [00:01<00:00, 155.06batch/s, mse=0.00336]\n",
      "Epoch 79: 100%|██████████| 190/190 [00:01<00:00, 153.63batch/s, mse=0.00338]\n",
      "Epoch 80: 100%|██████████| 190/190 [00:01<00:00, 156.28batch/s, mse=0.00344]\n",
      "Epoch 81: 100%|██████████| 190/190 [00:01<00:00, 155.18batch/s, mse=0.00345]\n",
      "Epoch 82: 100%|██████████| 190/190 [00:01<00:00, 152.19batch/s, mse=0.00329]\n",
      "Epoch 83: 100%|██████████| 190/190 [00:01<00:00, 161.70batch/s, mse=0.00354]\n",
      "Epoch 84: 100%|██████████| 190/190 [00:01<00:00, 148.29batch/s, mse=0.00336]\n",
      "Epoch 85: 100%|██████████| 190/190 [00:01<00:00, 157.93batch/s, mse=0.0035]\n",
      "Epoch 86: 100%|██████████| 190/190 [00:01<00:00, 149.39batch/s, mse=0.00346]\n",
      "Epoch 87: 100%|██████████| 190/190 [00:01<00:00, 160.53batch/s, mse=0.00337]\n",
      "Epoch 88: 100%|██████████| 190/190 [00:01<00:00, 156.47batch/s, mse=0.00328]\n",
      "Epoch 89: 100%|██████████| 190/190 [00:01<00:00, 159.56batch/s, mse=0.00335]\n",
      "Epoch 90: 100%|██████████| 190/190 [00:01<00:00, 148.01batch/s, mse=0.00331]\n",
      "Epoch 91: 100%|██████████| 190/190 [00:01<00:00, 150.02batch/s, mse=0.00337]\n",
      "Epoch 92: 100%|██████████| 190/190 [00:01<00:00, 156.94batch/s, mse=0.00341]\n",
      "Epoch 93: 100%|██████████| 190/190 [00:01<00:00, 152.38batch/s, mse=0.00339]\n",
      "Epoch 94: 100%|██████████| 190/190 [00:01<00:00, 142.97batch/s, mse=0.00339]\n",
      "Epoch 95: 100%|██████████| 190/190 [00:01<00:00, 154.39batch/s, mse=0.00339]\n",
      "Epoch 96: 100%|██████████| 190/190 [00:01<00:00, 165.77batch/s, mse=0.00322]\n",
      "Epoch 97: 100%|██████████| 190/190 [00:01<00:00, 153.92batch/s, mse=0.00337]\n",
      "Epoch 98: 100%|██████████| 190/190 [00:01<00:00, 155.69batch/s, mse=0.00327]\n",
      "Epoch 99: 100%|██████████| 190/190 [00:01<00:00, 148.38batch/s, mse=0.00334]\n",
      "Epoch 100: 100%|██████████| 190/190 [00:01<00:00, 138.63batch/s, mse=0.00319]\n",
      "Epoch 101: 100%|██████████| 190/190 [00:01<00:00, 148.81batch/s, mse=0.00329]\n",
      "Epoch 102: 100%|██████████| 190/190 [00:01<00:00, 143.38batch/s, mse=0.00327]\n",
      "Epoch 103: 100%|██████████| 190/190 [00:01<00:00, 142.37batch/s, mse=0.00333]\n",
      "Epoch 104: 100%|██████████| 190/190 [00:01<00:00, 158.25batch/s, mse=0.00313]\n",
      "Epoch 105: 100%|██████████| 190/190 [00:01<00:00, 166.85batch/s, mse=0.0033]\n",
      "Epoch 106: 100%|██████████| 190/190 [00:01<00:00, 152.90batch/s, mse=0.00305]\n",
      "Epoch 107: 100%|██████████| 190/190 [00:01<00:00, 153.13batch/s, mse=0.00294]\n",
      "Epoch 108: 100%|██████████| 190/190 [00:01<00:00, 157.12batch/s, mse=0.00301]\n",
      "Epoch 109: 100%|██████████| 190/190 [00:01<00:00, 162.43batch/s, mse=0.00305]\n",
      "Epoch 110: 100%|██████████| 190/190 [00:01<00:00, 148.88batch/s, mse=0.00301]\n",
      "Epoch 111: 100%|██████████| 190/190 [00:01<00:00, 160.46batch/s, mse=0.00303]\n",
      "Epoch 112: 100%|██████████| 190/190 [00:01<00:00, 148.68batch/s, mse=0.00305]\n",
      "Epoch 113: 100%|██████████| 190/190 [00:01<00:00, 152.29batch/s, mse=0.00299]\n",
      "Epoch 114: 100%|██████████| 190/190 [00:01<00:00, 165.07batch/s, mse=0.00294]\n",
      "Epoch 115: 100%|██████████| 190/190 [00:01<00:00, 154.07batch/s, mse=0.00296]\n",
      "Epoch 116: 100%|██████████| 190/190 [00:01<00:00, 162.71batch/s, mse=0.003]\n",
      "Epoch 117: 100%|██████████| 190/190 [00:01<00:00, 152.81batch/s, mse=0.00288]\n",
      "Epoch 118: 100%|██████████| 190/190 [00:01<00:00, 153.24batch/s, mse=0.00272]\n",
      "Epoch 119: 100%|██████████| 190/190 [00:01<00:00, 142.13batch/s, mse=0.00293]\n",
      "Epoch 120: 100%|██████████| 190/190 [00:01<00:00, 153.59batch/s, mse=0.00286]\n",
      "Epoch 121: 100%|██████████| 190/190 [00:01<00:00, 157.19batch/s, mse=0.0028]\n",
      "Epoch 122: 100%|██████████| 190/190 [00:01<00:00, 155.57batch/s, mse=0.00285]\n",
      "Epoch 123: 100%|██████████| 190/190 [00:01<00:00, 152.21batch/s, mse=0.00287]\n",
      "Epoch 124: 100%|██████████| 190/190 [00:01<00:00, 151.85batch/s, mse=0.00281]\n",
      "Epoch 125: 100%|██████████| 190/190 [00:01<00:00, 158.49batch/s, mse=0.00258]\n",
      "Epoch 126: 100%|██████████| 190/190 [00:01<00:00, 153.93batch/s, mse=0.0027]\n",
      "Epoch 127: 100%|██████████| 190/190 [00:01<00:00, 143.16batch/s, mse=0.0026]\n",
      "Epoch 128: 100%|██████████| 190/190 [00:01<00:00, 140.33batch/s, mse=0.00269]\n",
      "Epoch 129: 100%|██████████| 190/190 [00:01<00:00, 159.13batch/s, mse=0.0028]\n",
      "Epoch 130: 100%|██████████| 190/190 [00:01<00:00, 149.36batch/s, mse=0.00264]\n",
      "Epoch 131: 100%|██████████| 190/190 [00:01<00:00, 132.40batch/s, mse=0.00231]\n",
      "Epoch 132: 100%|██████████| 190/190 [00:01<00:00, 144.68batch/s, mse=0.00256]\n",
      "Epoch 133: 100%|██████████| 190/190 [00:01<00:00, 154.67batch/s, mse=0.00257]\n",
      "Epoch 134: 100%|██████████| 190/190 [00:01<00:00, 161.83batch/s, mse=0.00238]\n",
      "Epoch 135: 100%|██████████| 190/190 [00:01<00:00, 169.81batch/s, mse=0.00254]\n",
      "Epoch 136: 100%|██████████| 190/190 [00:01<00:00, 155.06batch/s, mse=0.00227]\n",
      "Epoch 137: 100%|██████████| 190/190 [00:01<00:00, 154.56batch/s, mse=0.00252]\n",
      "Epoch 138: 100%|██████████| 190/190 [00:01<00:00, 149.07batch/s, mse=0.00213]\n",
      "Epoch 139: 100%|██████████| 190/190 [00:01<00:00, 161.38batch/s, mse=0.00224]\n",
      "Epoch 140: 100%|██████████| 190/190 [00:01<00:00, 153.02batch/s, mse=0.00224]\n",
      "Epoch 141: 100%|██████████| 190/190 [00:01<00:00, 156.50batch/s, mse=0.0022]\n",
      "Epoch 142: 100%|██████████| 190/190 [00:01<00:00, 160.45batch/s, mse=0.00237]\n",
      "Epoch 143: 100%|██████████| 190/190 [00:01<00:00, 158.12batch/s, mse=0.00205]\n",
      "Epoch 144: 100%|██████████| 190/190 [00:01<00:00, 153.82batch/s, mse=0.00217]\n",
      "Epoch 145: 100%|██████████| 190/190 [00:01<00:00, 157.58batch/s, mse=0.00227]\n",
      "Epoch 146: 100%|██████████| 190/190 [00:01<00:00, 166.70batch/s, mse=0.00211]\n",
      "Epoch 147: 100%|██████████| 190/190 [00:01<00:00, 145.40batch/s, mse=0.0022]\n"
     ]
    },
    {
     "name": "stdout",
     "output_type": "stream",
     "text": [
      "Early stopping at epoch 147, best mse: 0.004632719326764345\n"
     ]
    },
    {
     "data": {
      "text/plain": [
       "<All keys matched successfully>"
      ]
     },
     "execution_count": 8,
     "metadata": {},
     "output_type": "execute_result"
    }
   ],
   "source": [
    "# X_train_numpy, X_test_numpy, y_train_numpy, y_test_numpy = X_train.to_numpy(), X_test.to_numpy(), y_train.to_numpy(), y_test.to_numpy()\n",
    "\n",
    "X_train_tensor = torch.tensor(X_train, dtype=torch.float32)\n",
    "y_train_tensor = torch.tensor(y_train.to_numpy(), dtype=torch.float32).reshape(-1,1)\n",
    "X_test_tensor = torch.tensor(X_test, dtype=torch.float32)\n",
    "y_test_tensor = torch.tensor(y_test.to_numpy(), dtype=torch.float32).reshape(-1,1)\n",
    "model = nn.Sequential(\n",
    "    nn.Linear(13, 100),\n",
    "    nn.ReLU(),\n",
    "    nn.Linear(100, 100),\n",
    "    nn.ReLU(),\n",
    "    nn.Linear(100, 80),\n",
    "    nn.ReLU(),\n",
    "    nn.Linear(80, 70),\n",
    "    nn.ReLU(),\n",
    "    nn.Linear(70, 50),\n",
    "    nn.ReLU(),\n",
    "    nn.Linear(50, 40),\n",
    "    nn.ReLU(),\n",
    "    nn.Linear(40, 20),\n",
    "    nn.ReLU(),\n",
    "    nn.Linear(20, 1)\n",
    ")\n",
    "\n",
    "# loss function and optimizer\n",
    "loss_fn = nn.MSELoss()\n",
    "optimizer = optim.Adam(model.parameters(), lr=0.0001)\n",
    "\n",
    "n_epochs = 400   # number of epochs to run\n",
    "batch_size = 10  # size of each batch\n",
    "batch_start = torch.arange(0, len(X_train_tensor), batch_size)\n",
    " \n",
    "# Hold the best model\n",
    "best_mse = np.inf   # init to infinity\n",
    "best_weights = None\n",
    "best_r2 = -np.inf\n",
    "history_mse = []\n",
    "history_r2 = []\n",
    "\n",
    "# Early Stopping parameters\n",
    "patience = 10\n",
    "counter = 0\n",
    "best_epoch = 0\n",
    " \n",
    "for epoch in range(n_epochs):\n",
    "    model.train()\n",
    "    with tqdm.tqdm(batch_start, unit=\"batch\", mininterval=0, disable=False) as bar:\n",
    "        bar.set_description(f\"Epoch {epoch}\")\n",
    "        for start in bar:\n",
    "            # take a batch\n",
    "            X_batch = X_train_tensor[start:start+batch_size]\n",
    "            y_batch = y_train_tensor[start:start+batch_size]\n",
    "            # forward pass\n",
    "            y_pred = model(X_batch)\n",
    "            loss = loss_fn(y_pred, y_batch)\n",
    "            # backward pass\n",
    "            optimizer.zero_grad()\n",
    "            loss.backward()\n",
    "            # update weights\n",
    "            optimizer.step()\n",
    "            # print progress\n",
    "            bar.set_postfix(mse=float(loss))\n",
    "    # evaluate accuracy at end of each epoch\n",
    "    model.eval()\n",
    "    y_pred = model(X_test_tensor)\n",
    "    mse = loss_fn(y_pred, y_test_tensor)\n",
    "    mse = float(mse)\n",
    "    history_mse.append(mse)\n",
    "    r2 = torch_r2_score(y_pred, y_test_tensor).item()\n",
    "    history_r2.append(r2)\n",
    "    if mse < best_mse:\n",
    "        best_mse = mse\n",
    "        best_weights = copy.deepcopy(model.state_dict())\n",
    "        best_epoch = epoch\n",
    "        counter = 0\n",
    "    else:\n",
    "        counter += 1\n",
    "        if counter >= patience:\n",
    "            print(f\"Early stopping at epoch {epoch}, best mse: {best_mse}\")\n",
    "            break\n",
    "    if r2 > best_r2:\n",
    "        best_r2 = r2\n",
    "        \n",
    "# restore model and return best mse\n",
    "model.load_state_dict(best_weights)\n",
    "\n",
    "#Output: Early stopping at epoch 147, best mse: 0.004632719326764345\n",
    "# <All keys matched successfully>"
   ]
  },
  {
   "cell_type": "code",
   "execution_count": 9,
   "id": "258d45d1",
   "metadata": {
    "execution": {
     "iopub.execute_input": "2023-04-04T03:08:21.410390Z",
     "iopub.status.busy": "2023-04-04T03:08:21.409861Z",
     "iopub.status.idle": "2023-04-04T03:08:21.864631Z",
     "shell.execute_reply": "2023-04-04T03:08:21.863246Z"
    },
    "papermill": {
     "duration": 4.29172,
     "end_time": "2023-04-04T03:08:21.867121",
     "exception": false,
     "start_time": "2023-04-04T03:08:17.575401",
     "status": "completed"
    },
    "tags": []
   },
   "outputs": [
    {
     "name": "stdout",
     "output_type": "stream",
     "text": [
      "R-Squared: 0.8507387638092041\n"
     ]
    },
    {
     "data": {
      "image/png": "[encoded data removed]",
      "text/plain": [
       "<Figure size 640x480 with 1 Axes>"
      ]
     },
     "metadata": {},
     "output_type": "display_data"
    },
    {
     "name": "stdout",
     "output_type": "stream",
     "text": [
      "Mean squared error: 0.004632719326764345\n"
     ]
    },
    {
     "data": {
      "image/png": "[encoded data removed]",
      "text/plain": [
       "<Figure size 640x480 with 1 Axes>"
      ]
     },
     "metadata": {},
     "output_type": "display_data"
    },
    {
     "name": "stdout",
     "output_type": "stream",
     "text": [
      "Root Mean squared error: 0.06806408250145113\n",
      "[0.46470988 0.55813366 0.441006   ... 0.5924729  0.63206565 0.64074576]\n",
      "(1165,)\n",
      "<class 'numpy.ndarray'>\n"
     ]
    }
   ],
   "source": [
    "print(f\"R-Squared: {best_r2}\")\n",
    "plt.plot(history_r2)\n",
    "plt.show()\n",
    "\n",
    "print(f\"Mean squared error: {best_mse}\")\n",
    "plt.plot(history_mse)\n",
    "plt.show()\n",
    "\n",
    "print(f\"Root Mean squared error: {np.sqrt(best_mse)}\")\n",
    "\n",
    "real_X_test_tensor = torch.tensor(real_X_test, dtype=torch.float32)\n",
    "y_pred = model(real_X_test_tensor)\n",
    "y_pred = y_pred.detach().numpy().flatten()\n",
    "print(y_pred)\n",
    "print(y_pred.shape)\n",
    "print(type(y_pred))\n",
    "\n",
    "# Training R-Squared: 0.8507387638092041\n",
    "# Test Mean squared error: 0.004632719326764345\n",
    "# Test Root Mean squared error: 0.06806408250145113\n",
    "# [0.46470988 0.55813366 0.441006   ... 0.5924729  0.63206565 0.64074576]\n",
    "# (1165,)\n",
    "# <class 'numpy.ndarray'>"
   ]
  },
  {
   "cell_type": "markdown",
   "id": "a47866aa",
   "metadata": {
    "papermill": {
     "duration": 3.730551,
     "end_time": "2023-04-04T03:08:29.437239",
     "exception": false,
     "start_time": "2023-04-04T03:08:25.706688",
     "status": "completed"
    },
    "tags": []
   },
   "source": [
    "### Creating our submission"
   ]
  },
  {
   "cell_type": "code",
   "execution_count": 10,
   "id": "d8df8095",
   "metadata": {
    "execution": {
     "iopub.execute_input": "2023-04-04T03:08:37.078444Z",
     "iopub.status.busy": "2023-04-04T03:08:37.078032Z",
     "iopub.status.idle": "2023-04-04T03:08:37.105261Z",
     "shell.execute_reply": "2023-04-04T03:08:37.103842Z"
    },
    "papermill": {
     "duration": 3.870191,
     "end_time": "2023-04-04T03:08:37.107835",
     "exception": false,
     "start_time": "2023-04-04T03:08:33.237644",
     "status": "completed"
    },
    "tags": []
   },
   "outputs": [
    {
     "data": {
      "text/html": [
       "<div>\n",
       "<style scoped>\n",
       "    .dataframe tbody tr th:only-of-type {\n",
       "        vertical-align: middle;\n",
       "    }\n",
       "\n",
       "    .dataframe tbody tr th {\n",
       "        vertical-align: top;\n",
       "    }\n",
       "\n",
       "    .dataframe thead th {\n",
       "        text-align: right;\n",
       "    }\n",
       "</style>\n",
       "<table border=\"1\" class=\"dataframe\">\n",
       "  <thead>\n",
       "    <tr style=\"text-align: right;\">\n",
       "      <th></th>\n",
       "      <th>Completion_rate</th>\n",
       "    </tr>\n",
       "  </thead>\n",
       "  <tbody>\n",
       "    <tr>\n",
       "      <th>0</th>\n",
       "      <td>0.464710</td>\n",
       "    </tr>\n",
       "    <tr>\n",
       "      <th>1</th>\n",
       "      <td>0.558134</td>\n",
       "    </tr>\n",
       "    <tr>\n",
       "      <th>2</th>\n",
       "      <td>0.441006</td>\n",
       "    </tr>\n",
       "    <tr>\n",
       "      <th>3</th>\n",
       "      <td>0.444758</td>\n",
       "    </tr>\n",
       "    <tr>\n",
       "      <th>4</th>\n",
       "      <td>0.572947</td>\n",
       "    </tr>\n",
       "    <tr>\n",
       "      <th>...</th>\n",
       "      <td>...</td>\n",
       "    </tr>\n",
       "    <tr>\n",
       "      <th>1160</th>\n",
       "      <td>0.516779</td>\n",
       "    </tr>\n",
       "    <tr>\n",
       "      <th>1161</th>\n",
       "      <td>0.512836</td>\n",
       "    </tr>\n",
       "    <tr>\n",
       "      <th>1162</th>\n",
       "      <td>0.592473</td>\n",
       "    </tr>\n",
       "    <tr>\n",
       "      <th>1163</th>\n",
       "      <td>0.632066</td>\n",
       "    </tr>\n",
       "    <tr>\n",
       "      <th>1164</th>\n",
       "      <td>0.640746</td>\n",
       "    </tr>\n",
       "  </tbody>\n",
       "</table>\n",
       "<p>1165 rows × 1 columns</p>\n",
       "</div>"
      ],
      "text/plain": [
       "      Completion_rate\n",
       "0            0.464710\n",
       "1            0.558134\n",
       "2            0.441006\n",
       "3            0.444758\n",
       "4            0.572947\n",
       "...               ...\n",
       "1160         0.516779\n",
       "1161         0.512836\n",
       "1162         0.592473\n",
       "1163         0.632066\n",
       "1164         0.640746\n",
       "\n",
       "[1165 rows x 1 columns]"
      ]
     },
     "execution_count": 10,
     "metadata": {},
     "output_type": "execute_result"
    }
   ],
   "source": [
    "submission = pd.DataFrame.from_dict({'Completion_rate': y_pred})\n",
    "submission"
   ]
  },
  {
   "cell_type": "code",
   "execution_count": 11,
   "id": "f7cc9185",
   "metadata": {
    "execution": {
     "iopub.execute_input": "2023-04-04T03:08:44.768236Z",
     "iopub.status.busy": "2023-04-04T03:08:44.767808Z",
     "iopub.status.idle": "2023-04-04T03:08:44.782048Z",
     "shell.execute_reply": "2023-04-04T03:08:44.780839Z"
    },
    "papermill": {
     "duration": 3.869918,
     "end_time": "2023-04-04T03:08:44.785046",
     "exception": false,
     "start_time": "2023-04-04T03:08:40.915128",
     "status": "completed"
    },
    "tags": []
   },
   "outputs": [],
   "source": [
    "submission.to_csv('submission.csv', index = True, index_label = \"id\") "
   ]
  },
  {
   "cell_type": "markdown",
   "id": "a455d3f5",
   "metadata": {
    "papermill": {
     "duration": 3.803703,
     "end_time": "2023-04-04T03:08:52.318921",
     "exception": false,
     "start_time": "2023-04-04T03:08:48.515218",
     "status": "completed"
    },
    "tags": []
   },
   "source": [
    "### To submit your submission\n",
    "\n",
    "On the panel on your right, select the drop down \"Submit to competition\", and submit this notebook. Ensure that your submission is named ```submission.csv```!"
   ]
  }
 ],
 "metadata": {
  "kernelspec": {
   "display_name": "Python 3 (ipykernel)",
   "language": "python",
   "name": "python3"
  },
  "language_info": {
   "codemirror_mode": {
    "name": "ipython",
    "version": 3
   },
   "file_extension": ".py",
   "mimetype": "text/x-python",
   "name": "python",
   "nbconvert_exporter": "python",
   "pygments_lexer": "ipython3",
   "version": "3.8.16"
  },
  "papermill": {
   "default_parameters": {},
   "duration": 251.811734,
   "end_time": "2023-04-04T03:08:57.769505",
   "environment_variables": {},
   "exception": null,
   "input_path": "__notebook__.ipynb",
   "output_path": "__notebook__.ipynb",
   "parameters": {},
   "start_time": "2023-04-04T03:04:45.957771",
   "version": "2.4.0"
  }
 },
 "nbformat": 4,
 "nbformat_minor": 5
}
