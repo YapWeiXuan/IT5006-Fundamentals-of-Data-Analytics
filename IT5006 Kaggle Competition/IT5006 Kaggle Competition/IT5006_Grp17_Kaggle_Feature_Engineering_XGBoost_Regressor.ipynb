{
 "cells": [
  {
   "cell_type": "code",
   "execution_count": 59,
   "id": "35513a69",
   "metadata": {
    "_cell_guid": "b1076dfc-b9ad-4769-8c92-a6c4dae69d19",
    "_uuid": "8f2839f25d086af736a60e9eeb907d3b93b6e0e5",
    "execution": {
     "iopub.execute_input": "2023-04-04T12:33:52.853776Z",
     "iopub.status.busy": "2023-04-04T12:33:52.853187Z",
     "iopub.status.idle": "2023-04-04T12:34:01.431684Z",
     "shell.execute_reply": "2023-04-04T12:34:01.429232Z"
    },
    "papermill": {
     "duration": 8.588716,
     "end_time": "2023-04-04T12:34:01.435163",
     "exception": false,
     "start_time": "2023-04-04T12:33:52.846447",
     "status": "completed"
    },
    "tags": []
   },
   "outputs": [
    {
     "name": "stdout",
     "output_type": "stream",
     "text": [
      "Requirement already satisfied: xgboost in c:\\users\\yap wei xuan\\anaconda3\\lib\\site-packages (1.5.2)\n",
      "Requirement already satisfied: scipy in c:\\users\\yap wei xuan\\anaconda3\\lib\\site-packages (from xgboost) (1.10.0)\n",
      "Requirement already satisfied: numpy in c:\\users\\yap wei xuan\\anaconda3\\lib\\site-packages (from xgboost) (1.23.5)\n"
     ]
    }
   ],
   "source": [
    "# This Python 3 environment comes with many helpful analytics libraries installed\n",
    "# It is defined by the kaggle/python Docker image: https://github.com/kaggle/docker-python\n",
    "# For example, here's several helpful packages to load\n",
    "\n",
    "import numpy as np # linear algebra\n",
    "import pandas as pd # data processing, CSV file I/O (e.g. pd.read_csv)\n",
    "from sklearn.preprocessing import StandardScaler\n",
    "import torch\n",
    "import torch.nn as nn\n",
    "import torch.optim as optim\n",
    "import tqdm\n",
    "import copy\n",
    "from torchmetrics.functional import r2_score as torch_r2_score\n",
    "from sklearn.ensemble import RandomForestRegressor\n",
    "import matplotlib.pyplot as plt\n",
    "from sklearn.model_selection import train_test_split\n",
    "!pip install xgboost\n",
    "import xgboost as xgb\n",
    "from sklearn.metrics import mean_squared_error\n",
    "from sklearn.model_selection import GridSearchCV\n",
    "\n",
    "# Input data files are available in the read-only \"../input/\" directory\n",
    "# For example, running this (by clicking run or pressing Shift+Enter) will list all files under the input directory\n",
    "\n",
    "import os\n",
    "for dirname, _, filenames in os.walk('/kaggle/input'):\n",
    "    for filename in filenames:\n",
    "        print(os.path.join(dirname, filename))\n",
    "\n",
    "# You can write up to 20GB to the current directory (/kaggle/working/) that gets preserved as output when you create a version using \"Save & Run All\" \n",
    "# You can also write temporary files to /kaggle/temp/, but they won't be saved outside of the current session"
   ]
  },
  {
   "cell_type": "markdown",
   "id": "9d560ff6",
   "metadata": {
    "papermill": {
     "duration": 0.003899,
     "end_time": "2023-04-04T12:34:01.443632",
     "exception": false,
     "start_time": "2023-04-04T12:34:01.439733",
     "status": "completed"
    },
    "tags": []
   },
   "source": [
    "# Importing the data"
   ]
  },
  {
   "cell_type": "code",
   "execution_count": 74,
   "id": "1d6386f0",
   "metadata": {
    "execution": {
     "iopub.execute_input": "2023-04-04T12:34:01.453602Z",
     "iopub.status.busy": "2023-04-04T12:34:01.453242Z",
     "iopub.status.idle": "2023-04-04T12:34:01.481004Z",
     "shell.execute_reply": "2023-04-04T12:34:01.479574Z"
    },
    "papermill": {
     "duration": 0.035882,
     "end_time": "2023-04-04T12:34:01.483465",
     "exception": false,
     "start_time": "2023-04-04T12:34:01.447583",
     "status": "completed"
    },
    "tags": []
   },
   "outputs": [],
   "source": [
    "df = pd.read_csv(\"/kaggle/input/us-college-completion-rate-analysis/train.csv\")"
   ]
  },
  {
   "cell_type": "code",
   "execution_count": 75,
   "id": "2b10b599",
   "metadata": {},
   "outputs": [
    {
     "data": {
      "text/html": [
       "<div>\n",
       "<style scoped>\n",
       "    .dataframe tbody tr th:only-of-type {\n",
       "        vertical-align: middle;\n",
       "    }\n",
       "\n",
       "    .dataframe tbody tr th {\n",
       "        vertical-align: top;\n",
       "    }\n",
       "\n",
       "    .dataframe thead th {\n",
       "        text-align: right;\n",
       "    }\n",
       "</style>\n",
       "<table border=\"1\" class=\"dataframe\">\n",
       "  <thead>\n",
       "    <tr style=\"text-align: right;\">\n",
       "      <th></th>\n",
       "      <th>Unnamed: 0</th>\n",
       "      <th>Completion_rate</th>\n",
       "      <th>Tuition_in_state</th>\n",
       "      <th>Tuition_out_state</th>\n",
       "      <th>Faculty_salary</th>\n",
       "      <th>Pell_grant_rate</th>\n",
       "      <th>SAT_average</th>\n",
       "      <th>ACT_50thPercentile</th>\n",
       "      <th>pct_White</th>\n",
       "      <th>pct_Black</th>\n",
       "      <th>pct_Hispanic</th>\n",
       "      <th>pct_Asian</th>\n",
       "      <th>Parents_middlesch</th>\n",
       "      <th>Parents_highsch</th>\n",
       "      <th>Parents_college</th>\n",
       "    </tr>\n",
       "  </thead>\n",
       "  <tbody>\n",
       "    <tr>\n",
       "      <th>count</th>\n",
       "      <td>2364.00000</td>\n",
       "      <td>2364.000000</td>\n",
       "      <td>2364.000000</td>\n",
       "      <td>2364.000000</td>\n",
       "      <td>2364.000000</td>\n",
       "      <td>2364.000000</td>\n",
       "      <td>2364.000000</td>\n",
       "      <td>2364.000000</td>\n",
       "      <td>2364.000000</td>\n",
       "      <td>2364.000000</td>\n",
       "      <td>2364.000000</td>\n",
       "      <td>2364.000000</td>\n",
       "      <td>2364.000000</td>\n",
       "      <td>2364.000000</td>\n",
       "      <td>2364.000000</td>\n",
       "    </tr>\n",
       "    <tr>\n",
       "      <th>mean</th>\n",
       "      <td>1181.50000</td>\n",
       "      <td>0.539796</td>\n",
       "      <td>19759.014382</td>\n",
       "      <td>25244.847716</td>\n",
       "      <td>7974.087140</td>\n",
       "      <td>0.370193</td>\n",
       "      <td>1055.552876</td>\n",
       "      <td>23.100254</td>\n",
       "      <td>0.580825</td>\n",
       "      <td>0.146871</td>\n",
       "      <td>0.106338</td>\n",
       "      <td>0.046064</td>\n",
       "      <td>0.028537</td>\n",
       "      <td>0.303929</td>\n",
       "      <td>0.667534</td>\n",
       "    </tr>\n",
       "    <tr>\n",
       "      <th>std</th>\n",
       "      <td>682.57234</td>\n",
       "      <td>0.175897</td>\n",
       "      <td>12874.765104</td>\n",
       "      <td>9695.943019</td>\n",
       "      <td>2259.787691</td>\n",
       "      <td>0.142627</td>\n",
       "      <td>133.310358</td>\n",
       "      <td>3.437689</td>\n",
       "      <td>0.219298</td>\n",
       "      <td>0.198238</td>\n",
       "      <td>0.118509</td>\n",
       "      <td>0.062720</td>\n",
       "      <td>0.021679</td>\n",
       "      <td>0.080973</td>\n",
       "      <td>0.092202</td>\n",
       "    </tr>\n",
       "    <tr>\n",
       "      <th>min</th>\n",
       "      <td>0.00000</td>\n",
       "      <td>0.038000</td>\n",
       "      <td>480.000000</td>\n",
       "      <td>480.000000</td>\n",
       "      <td>3186.000000</td>\n",
       "      <td>0.083300</td>\n",
       "      <td>708.000000</td>\n",
       "      <td>14.000000</td>\n",
       "      <td>0.000000</td>\n",
       "      <td>0.000000</td>\n",
       "      <td>0.000000</td>\n",
       "      <td>0.000000</td>\n",
       "      <td>0.002952</td>\n",
       "      <td>0.075059</td>\n",
       "      <td>0.384661</td>\n",
       "    </tr>\n",
       "    <tr>\n",
       "      <th>25%</th>\n",
       "      <td>590.75000</td>\n",
       "      <td>0.414575</td>\n",
       "      <td>8113.750000</td>\n",
       "      <td>17791.750000</td>\n",
       "      <td>6416.500000</td>\n",
       "      <td>0.271675</td>\n",
       "      <td>972.000000</td>\n",
       "      <td>21.000000</td>\n",
       "      <td>0.477575</td>\n",
       "      <td>0.045000</td>\n",
       "      <td>0.035900</td>\n",
       "      <td>0.010575</td>\n",
       "      <td>0.015270</td>\n",
       "      <td>0.251640</td>\n",
       "      <td>0.602832</td>\n",
       "    </tr>\n",
       "    <tr>\n",
       "      <th>50%</th>\n",
       "      <td>1181.50000</td>\n",
       "      <td>0.528650</td>\n",
       "      <td>15022.000000</td>\n",
       "      <td>23803.000000</td>\n",
       "      <td>7528.500000</td>\n",
       "      <td>0.357600</td>\n",
       "      <td>1037.000000</td>\n",
       "      <td>23.000000</td>\n",
       "      <td>0.629800</td>\n",
       "      <td>0.076800</td>\n",
       "      <td>0.066900</td>\n",
       "      <td>0.021750</td>\n",
       "      <td>0.022839</td>\n",
       "      <td>0.314879</td>\n",
       "      <td>0.658168</td>\n",
       "    </tr>\n",
       "    <tr>\n",
       "      <th>75%</th>\n",
       "      <td>1772.25000</td>\n",
       "      <td>0.657000</td>\n",
       "      <td>29192.500000</td>\n",
       "      <td>30818.750000</td>\n",
       "      <td>9082.750000</td>\n",
       "      <td>0.446925</td>\n",
       "      <td>1115.250000</td>\n",
       "      <td>25.000000</td>\n",
       "      <td>0.743750</td>\n",
       "      <td>0.157225</td>\n",
       "      <td>0.127100</td>\n",
       "      <td>0.054400</td>\n",
       "      <td>0.034750</td>\n",
       "      <td>0.364107</td>\n",
       "      <td>0.729016</td>\n",
       "    </tr>\n",
       "    <tr>\n",
       "      <th>max</th>\n",
       "      <td>2363.00000</td>\n",
       "      <td>0.977900</td>\n",
       "      <td>55056.000000</td>\n",
       "      <td>55056.000000</td>\n",
       "      <td>22146.000000</td>\n",
       "      <td>0.996300</td>\n",
       "      <td>1519.000000</td>\n",
       "      <td>34.000000</td>\n",
       "      <td>0.962000</td>\n",
       "      <td>1.000000</td>\n",
       "      <td>0.948700</td>\n",
       "      <td>0.437100</td>\n",
       "      <td>0.201153</td>\n",
       "      <td>0.508948</td>\n",
       "      <td>0.915559</td>\n",
       "    </tr>\n",
       "  </tbody>\n",
       "</table>\n",
       "</div>"
      ],
      "text/plain": [
       "       Unnamed: 0  Completion_rate  Tuition_in_state  Tuition_out_state  \\\n",
       "count  2364.00000      2364.000000       2364.000000        2364.000000   \n",
       "mean   1181.50000         0.539796      19759.014382       25244.847716   \n",
       "std     682.57234         0.175897      12874.765104        9695.943019   \n",
       "min       0.00000         0.038000        480.000000         480.000000   \n",
       "25%     590.75000         0.414575       8113.750000       17791.750000   \n",
       "50%    1181.50000         0.528650      15022.000000       23803.000000   \n",
       "75%    1772.25000         0.657000      29192.500000       30818.750000   \n",
       "max    2363.00000         0.977900      55056.000000       55056.000000   \n",
       "\n",
       "       Faculty_salary  Pell_grant_rate  SAT_average  ACT_50thPercentile  \\\n",
       "count     2364.000000      2364.000000  2364.000000         2364.000000   \n",
       "mean      7974.087140         0.370193  1055.552876           23.100254   \n",
       "std       2259.787691         0.142627   133.310358            3.437689   \n",
       "min       3186.000000         0.083300   708.000000           14.000000   \n",
       "25%       6416.500000         0.271675   972.000000           21.000000   \n",
       "50%       7528.500000         0.357600  1037.000000           23.000000   \n",
       "75%       9082.750000         0.446925  1115.250000           25.000000   \n",
       "max      22146.000000         0.996300  1519.000000           34.000000   \n",
       "\n",
       "         pct_White    pct_Black  pct_Hispanic    pct_Asian  Parents_middlesch  \\\n",
       "count  2364.000000  2364.000000   2364.000000  2364.000000        2364.000000   \n",
       "mean      0.580825     0.146871      0.106338     0.046064           0.028537   \n",
       "std       0.219298     0.198238      0.118509     0.062720           0.021679   \n",
       "min       0.000000     0.000000      0.000000     0.000000           0.002952   \n",
       "25%       0.477575     0.045000      0.035900     0.010575           0.015270   \n",
       "50%       0.629800     0.076800      0.066900     0.021750           0.022839   \n",
       "75%       0.743750     0.157225      0.127100     0.054400           0.034750   \n",
       "max       0.962000     1.000000      0.948700     0.437100           0.201153   \n",
       "\n",
       "       Parents_highsch  Parents_college  \n",
       "count      2364.000000      2364.000000  \n",
       "mean          0.303929         0.667534  \n",
       "std           0.080973         0.092202  \n",
       "min           0.075059         0.384661  \n",
       "25%           0.251640         0.602832  \n",
       "50%           0.314879         0.658168  \n",
       "75%           0.364107         0.729016  \n",
       "max           0.508948         0.915559  "
      ]
     },
     "execution_count": 75,
     "metadata": {},
     "output_type": "execute_result"
    }
   ],
   "source": [
    "df.describe()"
   ]
  },
  {
   "cell_type": "code",
   "execution_count": 76,
   "id": "28a56b82",
   "metadata": {
    "execution": {
     "iopub.execute_input": "2023-04-04T12:34:01.494280Z",
     "iopub.status.busy": "2023-04-04T12:34:01.492967Z",
     "iopub.status.idle": "2023-04-04T12:34:01.514615Z",
     "shell.execute_reply": "2023-04-04T12:34:01.513606Z"
    },
    "papermill": {
     "duration": 0.028873,
     "end_time": "2023-04-04T12:34:01.516536",
     "exception": false,
     "start_time": "2023-04-04T12:34:01.487663",
     "status": "completed"
    },
    "tags": []
   },
   "outputs": [],
   "source": [
    "features = ['Tuition_in_state','Tuition_out_state','Faculty_salary','Pell_grant_rate','SAT_average','ACT_50thPercentile','pct_White','pct_Black','pct_Hispanic','pct_Asian','Parents_middlesch','Parents_highsch','Parents_college'] \n",
    "X = df[features]\n",
    "y = df[\"Completion_rate\"]\n",
    "\n",
    "#Comment out when Sending to Kaggle\n",
    "# X_train, X_test, y_train, y_test = train_test_split(X, y, test_size=0.2, random_state=42)"
   ]
  },
  {
   "cell_type": "markdown",
   "id": "cdda438a",
   "metadata": {
    "papermill": {
     "duration": 0.0042,
     "end_time": "2023-04-04T12:34:01.525027",
     "exception": false,
     "start_time": "2023-04-04T12:34:01.520827",
     "status": "completed"
    },
    "tags": []
   },
   "source": [
    "# Data Preprocessing"
   ]
  },
  {
   "cell_type": "code",
   "execution_count": 77,
   "id": "6e8df4bd",
   "metadata": {
    "execution": {
     "iopub.execute_input": "2023-04-04T12:34:01.536412Z",
     "iopub.status.busy": "2023-04-04T12:34:01.535344Z",
     "iopub.status.idle": "2023-04-04T12:34:01.545035Z",
     "shell.execute_reply": "2023-04-04T12:34:01.544094Z"
    },
    "papermill": {
     "duration": 0.018117,
     "end_time": "2023-04-04T12:34:01.547801",
     "exception": false,
     "start_time": "2023-04-04T12:34:01.529684",
     "status": "completed"
    },
    "tags": []
   },
   "outputs": [],
   "source": [
    "#Comment out when training\n",
    "scaler = StandardScaler()\n",
    "scaler.fit(X)\n",
    "X_train = scaler.transform(X)"
   ]
  },
  {
   "cell_type": "code",
   "execution_count": null,
   "id": "fcf7f300",
   "metadata": {},
   "outputs": [],
   "source": [
    "#Comment out when sending to Kaggle\n",
    "# scaler.fit(X_train)\n",
    "# X_train = scaler.transform(X_train)\n",
    "# X_test = scaler.transform(X_test)"
   ]
  },
  {
   "cell_type": "code",
   "execution_count": 12,
   "id": "c86647d3",
   "metadata": {},
   "outputs": [
    {
     "data": {
      "text/plain": [
       "(2364, 13)"
      ]
     },
     "execution_count": 12,
     "metadata": {},
     "output_type": "execute_result"
    }
   ],
   "source": [
    "#Real X_Test\n",
    "real_X_test = pd.read_csv(\"/kaggle/input/us-college-completion-rate-analysis/x_test.csv\")\n",
    "real_X_test = real_X_test.drop(columns=['Unnamed: 0'])\n",
    "real_X_test = scaler.transform(real_X_test)"
   ]
  },
  {
   "cell_type": "markdown",
   "id": "f8d9a8cb",
   "metadata": {},
   "source": [
    "## Data Visualization to identify highly correlated features"
   ]
  },
  {
   "cell_type": "code",
   "execution_count": 63,
   "id": "239ee1c8",
   "metadata": {},
   "outputs": [],
   "source": [
    "#Obtain Correlation Coeff Matrix\n",
    "corr_matrix = X.corr()\n",
    "# # corr_array = corr_matrix['Completion_rate']\n",
    "# #corr_array[(corr_array<-0.5) | (corr_array>0.5)]\n",
    "# corr_array"
   ]
  },
  {
   "cell_type": "code",
   "execution_count": 62,
   "id": "fea8e01a",
   "metadata": {},
   "outputs": [
    {
     "data": {
      "text/html": [
       "<div>\n",
       "<style scoped>\n",
       "    .dataframe tbody tr th:only-of-type {\n",
       "        vertical-align: middle;\n",
       "    }\n",
       "\n",
       "    .dataframe tbody tr th {\n",
       "        vertical-align: top;\n",
       "    }\n",
       "\n",
       "    .dataframe thead th {\n",
       "        text-align: right;\n",
       "    }\n",
       "</style>\n",
       "<table border=\"1\" class=\"dataframe\">\n",
       "  <thead>\n",
       "    <tr style=\"text-align: right;\">\n",
       "      <th></th>\n",
       "      <th>Tuition_in_state</th>\n",
       "      <th>Tuition_out_state</th>\n",
       "      <th>Faculty_salary</th>\n",
       "      <th>Pell_grant_rate</th>\n",
       "      <th>SAT_average</th>\n",
       "      <th>ACT_50thPercentile</th>\n",
       "      <th>pct_White</th>\n",
       "      <th>pct_Black</th>\n",
       "      <th>pct_Hispanic</th>\n",
       "      <th>pct_Asian</th>\n",
       "      <th>Parents_middlesch</th>\n",
       "      <th>Parents_highsch</th>\n",
       "      <th>Parents_college</th>\n",
       "    </tr>\n",
       "  </thead>\n",
       "  <tbody>\n",
       "    <tr>\n",
       "      <th>Tuition_in_state</th>\n",
       "      <td>1.000000</td>\n",
       "      <td>0.860870</td>\n",
       "      <td>0.298569</td>\n",
       "      <td>-0.375985</td>\n",
       "      <td>0.444843</td>\n",
       "      <td>0.456642</td>\n",
       "      <td>-0.011421</td>\n",
       "      <td>-0.199060</td>\n",
       "      <td>0.033140</td>\n",
       "      <td>0.251759</td>\n",
       "      <td>-0.105846</td>\n",
       "      <td>-0.426460</td>\n",
       "      <td>0.399412</td>\n",
       "    </tr>\n",
       "    <tr>\n",
       "      <th>Tuition_out_state</th>\n",
       "      <td>0.860870</td>\n",
       "      <td>1.000000</td>\n",
       "      <td>0.584519</td>\n",
       "      <td>-0.524262</td>\n",
       "      <td>0.649695</td>\n",
       "      <td>0.660598</td>\n",
       "      <td>-0.009354</td>\n",
       "      <td>-0.303906</td>\n",
       "      <td>0.087540</td>\n",
       "      <td>0.470226</td>\n",
       "      <td>-0.084076</td>\n",
       "      <td>-0.572338</td>\n",
       "      <td>0.522406</td>\n",
       "    </tr>\n",
       "    <tr>\n",
       "      <th>Faculty_salary</th>\n",
       "      <td>0.298569</td>\n",
       "      <td>0.584519</td>\n",
       "      <td>1.000000</td>\n",
       "      <td>-0.514413</td>\n",
       "      <td>0.718393</td>\n",
       "      <td>0.713896</td>\n",
       "      <td>-0.094360</td>\n",
       "      <td>-0.274768</td>\n",
       "      <td>0.168813</td>\n",
       "      <td>0.624502</td>\n",
       "      <td>-0.020837</td>\n",
       "      <td>-0.558185</td>\n",
       "      <td>0.495107</td>\n",
       "    </tr>\n",
       "    <tr>\n",
       "      <th>Pell_grant_rate</th>\n",
       "      <td>-0.375985</td>\n",
       "      <td>-0.524262</td>\n",
       "      <td>-0.514413</td>\n",
       "      <td>1.000000</td>\n",
       "      <td>-0.737485</td>\n",
       "      <td>-0.736816</td>\n",
       "      <td>-0.529219</td>\n",
       "      <td>0.669486</td>\n",
       "      <td>0.103810</td>\n",
       "      <td>-0.244992</td>\n",
       "      <td>0.356753</td>\n",
       "      <td>0.653620</td>\n",
       "      <td>-0.657901</td>\n",
       "    </tr>\n",
       "    <tr>\n",
       "      <th>SAT_average</th>\n",
       "      <td>0.444843</td>\n",
       "      <td>0.649695</td>\n",
       "      <td>0.718393</td>\n",
       "      <td>-0.737485</td>\n",
       "      <td>1.000000</td>\n",
       "      <td>0.986638</td>\n",
       "      <td>0.269222</td>\n",
       "      <td>-0.488081</td>\n",
       "      <td>-0.056479</td>\n",
       "      <td>0.479142</td>\n",
       "      <td>-0.234166</td>\n",
       "      <td>-0.744104</td>\n",
       "      <td>0.708543</td>\n",
       "    </tr>\n",
       "    <tr>\n",
       "      <th>ACT_50thPercentile</th>\n",
       "      <td>0.456642</td>\n",
       "      <td>0.660598</td>\n",
       "      <td>0.713896</td>\n",
       "      <td>-0.736816</td>\n",
       "      <td>0.986638</td>\n",
       "      <td>1.000000</td>\n",
       "      <td>0.269703</td>\n",
       "      <td>-0.487423</td>\n",
       "      <td>-0.054970</td>\n",
       "      <td>0.473344</td>\n",
       "      <td>-0.237970</td>\n",
       "      <td>-0.747646</td>\n",
       "      <td>0.712548</td>\n",
       "    </tr>\n",
       "    <tr>\n",
       "      <th>pct_White</th>\n",
       "      <td>-0.011421</td>\n",
       "      <td>-0.009354</td>\n",
       "      <td>-0.094360</td>\n",
       "      <td>-0.529219</td>\n",
       "      <td>0.269222</td>\n",
       "      <td>0.269703</td>\n",
       "      <td>1.000000</td>\n",
       "      <td>-0.643439</td>\n",
       "      <td>-0.441355</td>\n",
       "      <td>-0.332201</td>\n",
       "      <td>-0.490850</td>\n",
       "      <td>-0.201484</td>\n",
       "      <td>0.292357</td>\n",
       "    </tr>\n",
       "    <tr>\n",
       "      <th>pct_Black</th>\n",
       "      <td>-0.199060</td>\n",
       "      <td>-0.303906</td>\n",
       "      <td>-0.274768</td>\n",
       "      <td>0.669486</td>\n",
       "      <td>-0.488081</td>\n",
       "      <td>-0.487423</td>\n",
       "      <td>-0.643439</td>\n",
       "      <td>1.000000</td>\n",
       "      <td>-0.207920</td>\n",
       "      <td>-0.235069</td>\n",
       "      <td>-0.020668</td>\n",
       "      <td>0.283124</td>\n",
       "      <td>-0.243785</td>\n",
       "    </tr>\n",
       "    <tr>\n",
       "      <th>pct_Hispanic</th>\n",
       "      <td>0.033140</td>\n",
       "      <td>0.087540</td>\n",
       "      <td>0.168813</td>\n",
       "      <td>0.103810</td>\n",
       "      <td>-0.056479</td>\n",
       "      <td>-0.054970</td>\n",
       "      <td>-0.441355</td>\n",
       "      <td>-0.207920</td>\n",
       "      <td>1.000000</td>\n",
       "      <td>0.282688</td>\n",
       "      <td>0.723356</td>\n",
       "      <td>0.121471</td>\n",
       "      <td>-0.276756</td>\n",
       "    </tr>\n",
       "    <tr>\n",
       "      <th>pct_Asian</th>\n",
       "      <td>0.251759</td>\n",
       "      <td>0.470226</td>\n",
       "      <td>0.624502</td>\n",
       "      <td>-0.244992</td>\n",
       "      <td>0.479142</td>\n",
       "      <td>0.473344</td>\n",
       "      <td>-0.332201</td>\n",
       "      <td>-0.235069</td>\n",
       "      <td>0.282688</td>\n",
       "      <td>1.000000</td>\n",
       "      <td>0.315605</td>\n",
       "      <td>-0.296989</td>\n",
       "      <td>0.186615</td>\n",
       "    </tr>\n",
       "    <tr>\n",
       "      <th>Parents_middlesch</th>\n",
       "      <td>-0.105846</td>\n",
       "      <td>-0.084076</td>\n",
       "      <td>-0.020837</td>\n",
       "      <td>0.356753</td>\n",
       "      <td>-0.234166</td>\n",
       "      <td>-0.237970</td>\n",
       "      <td>-0.490850</td>\n",
       "      <td>-0.020668</td>\n",
       "      <td>0.723356</td>\n",
       "      <td>0.315605</td>\n",
       "      <td>1.000000</td>\n",
       "      <td>0.420000</td>\n",
       "      <td>-0.603975</td>\n",
       "    </tr>\n",
       "    <tr>\n",
       "      <th>Parents_highsch</th>\n",
       "      <td>-0.426460</td>\n",
       "      <td>-0.572338</td>\n",
       "      <td>-0.558185</td>\n",
       "      <td>0.653620</td>\n",
       "      <td>-0.744104</td>\n",
       "      <td>-0.747646</td>\n",
       "      <td>-0.201484</td>\n",
       "      <td>0.283124</td>\n",
       "      <td>0.121471</td>\n",
       "      <td>-0.296989</td>\n",
       "      <td>0.420000</td>\n",
       "      <td>1.000000</td>\n",
       "      <td>-0.976969</td>\n",
       "    </tr>\n",
       "    <tr>\n",
       "      <th>Parents_college</th>\n",
       "      <td>0.399412</td>\n",
       "      <td>0.522406</td>\n",
       "      <td>0.495107</td>\n",
       "      <td>-0.657901</td>\n",
       "      <td>0.708543</td>\n",
       "      <td>0.712548</td>\n",
       "      <td>0.292357</td>\n",
       "      <td>-0.243785</td>\n",
       "      <td>-0.276756</td>\n",
       "      <td>0.186615</td>\n",
       "      <td>-0.603975</td>\n",
       "      <td>-0.976969</td>\n",
       "      <td>1.000000</td>\n",
       "    </tr>\n",
       "  </tbody>\n",
       "</table>\n",
       "</div>"
      ],
      "text/plain": [
       "                    Tuition_in_state  Tuition_out_state  Faculty_salary  \\\n",
       "Tuition_in_state            1.000000           0.860870        0.298569   \n",
       "Tuition_out_state           0.860870           1.000000        0.584519   \n",
       "Faculty_salary              0.298569           0.584519        1.000000   \n",
       "Pell_grant_rate            -0.375985          -0.524262       -0.514413   \n",
       "SAT_average                 0.444843           0.649695        0.718393   \n",
       "ACT_50thPercentile          0.456642           0.660598        0.713896   \n",
       "pct_White                  -0.011421          -0.009354       -0.094360   \n",
       "pct_Black                  -0.199060          -0.303906       -0.274768   \n",
       "pct_Hispanic                0.033140           0.087540        0.168813   \n",
       "pct_Asian                   0.251759           0.470226        0.624502   \n",
       "Parents_middlesch          -0.105846          -0.084076       -0.020837   \n",
       "Parents_highsch            -0.426460          -0.572338       -0.558185   \n",
       "Parents_college             0.399412           0.522406        0.495107   \n",
       "\n",
       "                    Pell_grant_rate  SAT_average  ACT_50thPercentile  \\\n",
       "Tuition_in_state          -0.375985     0.444843            0.456642   \n",
       "Tuition_out_state         -0.524262     0.649695            0.660598   \n",
       "Faculty_salary            -0.514413     0.718393            0.713896   \n",
       "Pell_grant_rate            1.000000    -0.737485           -0.736816   \n",
       "SAT_average               -0.737485     1.000000            0.986638   \n",
       "ACT_50thPercentile        -0.736816     0.986638            1.000000   \n",
       "pct_White                 -0.529219     0.269222            0.269703   \n",
       "pct_Black                  0.669486    -0.488081           -0.487423   \n",
       "pct_Hispanic               0.103810    -0.056479           -0.054970   \n",
       "pct_Asian                 -0.244992     0.479142            0.473344   \n",
       "Parents_middlesch          0.356753    -0.234166           -0.237970   \n",
       "Parents_highsch            0.653620    -0.744104           -0.747646   \n",
       "Parents_college           -0.657901     0.708543            0.712548   \n",
       "\n",
       "                    pct_White  pct_Black  pct_Hispanic  pct_Asian  \\\n",
       "Tuition_in_state    -0.011421  -0.199060      0.033140   0.251759   \n",
       "Tuition_out_state   -0.009354  -0.303906      0.087540   0.470226   \n",
       "Faculty_salary      -0.094360  -0.274768      0.168813   0.624502   \n",
       "Pell_grant_rate     -0.529219   0.669486      0.103810  -0.244992   \n",
       "SAT_average          0.269222  -0.488081     -0.056479   0.479142   \n",
       "ACT_50thPercentile   0.269703  -0.487423     -0.054970   0.473344   \n",
       "pct_White            1.000000  -0.643439     -0.441355  -0.332201   \n",
       "pct_Black           -0.643439   1.000000     -0.207920  -0.235069   \n",
       "pct_Hispanic        -0.441355  -0.207920      1.000000   0.282688   \n",
       "pct_Asian           -0.332201  -0.235069      0.282688   1.000000   \n",
       "Parents_middlesch   -0.490850  -0.020668      0.723356   0.315605   \n",
       "Parents_highsch     -0.201484   0.283124      0.121471  -0.296989   \n",
       "Parents_college      0.292357  -0.243785     -0.276756   0.186615   \n",
       "\n",
       "                    Parents_middlesch  Parents_highsch  Parents_college  \n",
       "Tuition_in_state            -0.105846        -0.426460         0.399412  \n",
       "Tuition_out_state           -0.084076        -0.572338         0.522406  \n",
       "Faculty_salary              -0.020837        -0.558185         0.495107  \n",
       "Pell_grant_rate              0.356753         0.653620        -0.657901  \n",
       "SAT_average                 -0.234166        -0.744104         0.708543  \n",
       "ACT_50thPercentile          -0.237970        -0.747646         0.712548  \n",
       "pct_White                   -0.490850        -0.201484         0.292357  \n",
       "pct_Black                   -0.020668         0.283124        -0.243785  \n",
       "pct_Hispanic                 0.723356         0.121471        -0.276756  \n",
       "pct_Asian                    0.315605        -0.296989         0.186615  \n",
       "Parents_middlesch            1.000000         0.420000        -0.603975  \n",
       "Parents_highsch              0.420000         1.000000        -0.976969  \n",
       "Parents_college             -0.603975        -0.976969         1.000000  "
      ]
     },
     "execution_count": 62,
     "metadata": {},
     "output_type": "execute_result"
    }
   ],
   "source": [
    "corr_matrix"
   ]
  },
  {
   "attachments": {
    "image-2.png": {
     "image/png": "[encoded data removed]"
    },
    "image.png": {
     "image/png": "[encoded data removed]"
    }
   },
   "cell_type": "markdown",
   "id": "c0c8f5b9",
   "metadata": {},
   "source": [
    "From the Correlation Matrix:\n",
    "\n",
    "Tuition_in_state and Tuition_out_state have high correlation (0.860870). SAT_average and ACT_50thPercentile have high correlation 0.986638.\n",
    "Proposed Solution: Merging each set of highly correlated dataset by their averages to create 2 new features: Tuition_State_Ave and ACT_SAT_Ave\n",
    "\n",
    "For Tuition_in_state and Tuition_out_state, it is reasonable to take the average as both features have similar data magitudes\n",
    "![image.png](attachment:image.png)\n",
    "\n",
    "For SAT_average and ACT_50thPercentile, it is not straightforward as ACT_50thPercentile dataset values are several orders of magnitude less than SAT_average. Hence, the ACT_50thPercentile dataset is scaled up by 50 times before the average of both features is taken.\n",
    "![image-2.png](attachment:image-2.png)"
   ]
  },
  {
   "cell_type": "markdown",
   "id": "61ee6242",
   "metadata": {},
   "source": [
    "# Feature Engineering Attempt"
   ]
  },
  {
   "cell_type": "code",
   "execution_count": 5,
   "id": "f5f572ef",
   "metadata": {},
   "outputs": [],
   "source": [
    "def feature_eng(X): #Expecting a labelled DataFrame\n",
    "    result = X.copy()\n",
    "    result['Tuition_State_Ave']= result.loc[:, ['Tuition_in_state','Tuition_out_state']].sum(axis=1)\n",
    "    result['Tuition_State_Ave'] = result['Tuition_State_Ave']/2\n",
    "    del result['Tuition_in_state']\n",
    "    del result['Tuition_out_state']\n",
    "    \n",
    "    result['ACT_50thPercentile'] = result['ACT_50thPercentile']*50\n",
    "    result['ACT_SAT_Ave']= result.loc[:, ['SAT_average','ACT_50thPercentile']].sum(axis=1)\n",
    "    result['ACT_SAT_Ave'] = result['ACT_SAT_Ave']/2\n",
    "    \n",
    "    del result['SAT_average']\n",
    "    del result['ACT_50thPercentile']\n",
    "    \n",
    "    return result\n",
    "    "
   ]
  },
  {
   "cell_type": "code",
   "execution_count": 78,
   "id": "d3f5ecd8",
   "metadata": {},
   "outputs": [
    {
     "data": {
      "text/html": [
       "<div>\n",
       "<style scoped>\n",
       "    .dataframe tbody tr th:only-of-type {\n",
       "        vertical-align: middle;\n",
       "    }\n",
       "\n",
       "    .dataframe tbody tr th {\n",
       "        vertical-align: top;\n",
       "    }\n",
       "\n",
       "    .dataframe thead th {\n",
       "        text-align: right;\n",
       "    }\n",
       "</style>\n",
       "<table border=\"1\" class=\"dataframe\">\n",
       "  <thead>\n",
       "    <tr style=\"text-align: right;\">\n",
       "      <th></th>\n",
       "      <th>Unnamed: 0</th>\n",
       "      <th>Completion_rate</th>\n",
       "      <th>Faculty_salary</th>\n",
       "      <th>Pell_grant_rate</th>\n",
       "      <th>pct_White</th>\n",
       "      <th>pct_Black</th>\n",
       "      <th>pct_Hispanic</th>\n",
       "      <th>pct_Asian</th>\n",
       "      <th>Parents_middlesch</th>\n",
       "      <th>Parents_highsch</th>\n",
       "      <th>Parents_college</th>\n",
       "      <th>Tuition_State_Ave</th>\n",
       "      <th>ACT_SAT_Ave</th>\n",
       "    </tr>\n",
       "  </thead>\n",
       "  <tbody>\n",
       "    <tr>\n",
       "      <th>0</th>\n",
       "      <td>0</td>\n",
       "      <td>0.6552</td>\n",
       "      <td>4285</td>\n",
       "      <td>0.2531</td>\n",
       "      <td>0.3771</td>\n",
       "      <td>0.0612</td>\n",
       "      <td>0.0590</td>\n",
       "      <td>0.1345</td>\n",
       "      <td>0.011561</td>\n",
       "      <td>0.226397</td>\n",
       "      <td>0.762042</td>\n",
       "      <td>33560.0</td>\n",
       "      <td>1039.5</td>\n",
       "    </tr>\n",
       "    <tr>\n",
       "      <th>1</th>\n",
       "      <td>1</td>\n",
       "      <td>0.5246</td>\n",
       "      <td>9148</td>\n",
       "      <td>0.4752</td>\n",
       "      <td>0.2866</td>\n",
       "      <td>0.0331</td>\n",
       "      <td>0.4212</td>\n",
       "      <td>0.1011</td>\n",
       "      <td>0.107411</td>\n",
       "      <td>0.375165</td>\n",
       "      <td>0.517424</td>\n",
       "      <td>12963.0</td>\n",
       "      <td>1006.5</td>\n",
       "    </tr>\n",
       "    <tr>\n",
       "      <th>2</th>\n",
       "      <td>2</td>\n",
       "      <td>0.4030</td>\n",
       "      <td>7232</td>\n",
       "      <td>0.4668</td>\n",
       "      <td>0.3085</td>\n",
       "      <td>0.1426</td>\n",
       "      <td>0.2309</td>\n",
       "      <td>0.0149</td>\n",
       "      <td>0.091241</td>\n",
       "      <td>0.361314</td>\n",
       "      <td>0.547445</td>\n",
       "      <td>23144.0</td>\n",
       "      <td>1017.0</td>\n",
       "    </tr>\n",
       "    <tr>\n",
       "      <th>3</th>\n",
       "      <td>3</td>\n",
       "      <td>0.5472</td>\n",
       "      <td>9284</td>\n",
       "      <td>0.6369</td>\n",
       "      <td>0.1272</td>\n",
       "      <td>0.0572</td>\n",
       "      <td>0.6282</td>\n",
       "      <td>0.0557</td>\n",
       "      <td>0.163236</td>\n",
       "      <td>0.433621</td>\n",
       "      <td>0.403142</td>\n",
       "      <td>12190.0</td>\n",
       "      <td>888.5</td>\n",
       "    </tr>\n",
       "    <tr>\n",
       "      <th>4</th>\n",
       "      <td>4</td>\n",
       "      <td>0.8166</td>\n",
       "      <td>11984</td>\n",
       "      <td>0.1337</td>\n",
       "      <td>0.4251</td>\n",
       "      <td>0.0786</td>\n",
       "      <td>0.2268</td>\n",
       "      <td>0.0549</td>\n",
       "      <td>0.014868</td>\n",
       "      <td>0.186091</td>\n",
       "      <td>0.799041</td>\n",
       "      <td>47004.0</td>\n",
       "      <td>1411.5</td>\n",
       "    </tr>\n",
       "    <tr>\n",
       "      <th>...</th>\n",
       "      <td>...</td>\n",
       "      <td>...</td>\n",
       "      <td>...</td>\n",
       "      <td>...</td>\n",
       "      <td>...</td>\n",
       "      <td>...</td>\n",
       "      <td>...</td>\n",
       "      <td>...</td>\n",
       "      <td>...</td>\n",
       "      <td>...</td>\n",
       "      <td>...</td>\n",
       "      <td>...</td>\n",
       "      <td>...</td>\n",
       "    </tr>\n",
       "    <tr>\n",
       "      <th>2359</th>\n",
       "      <td>2359</td>\n",
       "      <td>0.5311</td>\n",
       "      <td>6705</td>\n",
       "      <td>0.3402</td>\n",
       "      <td>0.6830</td>\n",
       "      <td>0.0544</td>\n",
       "      <td>0.0385</td>\n",
       "      <td>0.0225</td>\n",
       "      <td>0.019266</td>\n",
       "      <td>0.439450</td>\n",
       "      <td>0.541284</td>\n",
       "      <td>24090.0</td>\n",
       "      <td>974.5</td>\n",
       "    </tr>\n",
       "    <tr>\n",
       "      <th>2360</th>\n",
       "      <td>2360</td>\n",
       "      <td>0.5371</td>\n",
       "      <td>6340</td>\n",
       "      <td>0.4075</td>\n",
       "      <td>0.6215</td>\n",
       "      <td>0.1582</td>\n",
       "      <td>0.0883</td>\n",
       "      <td>0.0257</td>\n",
       "      <td>0.028593</td>\n",
       "      <td>0.404816</td>\n",
       "      <td>0.566591</td>\n",
       "      <td>36660.0</td>\n",
       "      <td>1091.5</td>\n",
       "    </tr>\n",
       "    <tr>\n",
       "      <th>2361</th>\n",
       "      <td>2361</td>\n",
       "      <td>0.3677</td>\n",
       "      <td>6689</td>\n",
       "      <td>0.5791</td>\n",
       "      <td>0.5842</td>\n",
       "      <td>0.2277</td>\n",
       "      <td>0.0569</td>\n",
       "      <td>0.0221</td>\n",
       "      <td>0.029851</td>\n",
       "      <td>0.370421</td>\n",
       "      <td>0.599729</td>\n",
       "      <td>30331.0</td>\n",
       "      <td>1054.5</td>\n",
       "    </tr>\n",
       "    <tr>\n",
       "      <th>2362</th>\n",
       "      <td>2362</td>\n",
       "      <td>0.5541</td>\n",
       "      <td>9312</td>\n",
       "      <td>0.2151</td>\n",
       "      <td>0.7347</td>\n",
       "      <td>0.0113</td>\n",
       "      <td>0.0718</td>\n",
       "      <td>0.0117</td>\n",
       "      <td>0.017512</td>\n",
       "      <td>0.259759</td>\n",
       "      <td>0.722729</td>\n",
       "      <td>10635.0</td>\n",
       "      <td>1151.0</td>\n",
       "    </tr>\n",
       "    <tr>\n",
       "      <th>2363</th>\n",
       "      <td>2363</td>\n",
       "      <td>0.5871</td>\n",
       "      <td>8178</td>\n",
       "      <td>0.2640</td>\n",
       "      <td>0.5974</td>\n",
       "      <td>0.1482</td>\n",
       "      <td>0.0933</td>\n",
       "      <td>0.0304</td>\n",
       "      <td>0.011107</td>\n",
       "      <td>0.249280</td>\n",
       "      <td>0.739613</td>\n",
       "      <td>33358.0</td>\n",
       "      <td>1101.5</td>\n",
       "    </tr>\n",
       "  </tbody>\n",
       "</table>\n",
       "<p>2364 rows × 13 columns</p>\n",
       "</div>"
      ],
      "text/plain": [
       "      Unnamed: 0  Completion_rate  Faculty_salary  Pell_grant_rate  pct_White  \\\n",
       "0              0           0.6552            4285           0.2531     0.3771   \n",
       "1              1           0.5246            9148           0.4752     0.2866   \n",
       "2              2           0.4030            7232           0.4668     0.3085   \n",
       "3              3           0.5472            9284           0.6369     0.1272   \n",
       "4              4           0.8166           11984           0.1337     0.4251   \n",
       "...          ...              ...             ...              ...        ...   \n",
       "2359        2359           0.5311            6705           0.3402     0.6830   \n",
       "2360        2360           0.5371            6340           0.4075     0.6215   \n",
       "2361        2361           0.3677            6689           0.5791     0.5842   \n",
       "2362        2362           0.5541            9312           0.2151     0.7347   \n",
       "2363        2363           0.5871            8178           0.2640     0.5974   \n",
       "\n",
       "      pct_Black  pct_Hispanic  pct_Asian  Parents_middlesch  Parents_highsch  \\\n",
       "0        0.0612        0.0590     0.1345           0.011561         0.226397   \n",
       "1        0.0331        0.4212     0.1011           0.107411         0.375165   \n",
       "2        0.1426        0.2309     0.0149           0.091241         0.361314   \n",
       "3        0.0572        0.6282     0.0557           0.163236         0.433621   \n",
       "4        0.0786        0.2268     0.0549           0.014868         0.186091   \n",
       "...         ...           ...        ...                ...              ...   \n",
       "2359     0.0544        0.0385     0.0225           0.019266         0.439450   \n",
       "2360     0.1582        0.0883     0.0257           0.028593         0.404816   \n",
       "2361     0.2277        0.0569     0.0221           0.029851         0.370421   \n",
       "2362     0.0113        0.0718     0.0117           0.017512         0.259759   \n",
       "2363     0.1482        0.0933     0.0304           0.011107         0.249280   \n",
       "\n",
       "      Parents_college  Tuition_State_Ave  ACT_SAT_Ave  \n",
       "0            0.762042            33560.0       1039.5  \n",
       "1            0.517424            12963.0       1006.5  \n",
       "2            0.547445            23144.0       1017.0  \n",
       "3            0.403142            12190.0        888.5  \n",
       "4            0.799041            47004.0       1411.5  \n",
       "...               ...                ...          ...  \n",
       "2359         0.541284            24090.0        974.5  \n",
       "2360         0.566591            36660.0       1091.5  \n",
       "2361         0.599729            30331.0       1054.5  \n",
       "2362         0.722729            10635.0       1151.0  \n",
       "2363         0.739613            33358.0       1101.5  \n",
       "\n",
       "[2364 rows x 13 columns]"
      ]
     },
     "execution_count": 78,
     "metadata": {},
     "output_type": "execute_result"
    }
   ],
   "source": [
    "feateng_df = feature_eng(df)\n",
    "feateng_df"
   ]
  },
  {
   "cell_type": "code",
   "execution_count": 79,
   "id": "5f8b12eb",
   "metadata": {},
   "outputs": [],
   "source": [
    "feat_eng_features = ['Faculty_salary','Pell_grant_rate','pct_White','pct_Black','pct_Hispanic','pct_Asian','Parents_middlesch','Parents_highsch','Parents_college','Tuition_State_Ave','ACT_SAT_Ave'] \n",
    "X = feateng_df[feat_eng_features]\n",
    "y = feateng_df[\"Completion_rate\"]\n",
    "\n",
    "#Comment out when Sending to Kaggle\n",
    "# X_train, X_test, y_train, y_test = train_test_split(X, y, test_size=0.2, random_state=42)"
   ]
  },
  {
   "cell_type": "markdown",
   "id": "c3a6810a",
   "metadata": {},
   "source": [
    "## Feature Eng Data Preprocessing"
   ]
  },
  {
   "cell_type": "code",
   "execution_count": 80,
   "id": "3e9cf2e1",
   "metadata": {},
   "outputs": [],
   "source": [
    "#Comment out when training\n",
    "scaler = StandardScaler()\n",
    "scaler.fit(X)\n",
    "X_train = scaler.transform(X)"
   ]
  },
  {
   "cell_type": "code",
   "execution_count": null,
   "id": "d042eb54",
   "metadata": {},
   "outputs": [],
   "source": [
    "#Comment out when sending to Kaggle\n",
    "# scaler.fit(X_train)\n",
    "# X_train = scaler.transform(X_train)\n",
    "# X_test = scaler.transform(X_test)"
   ]
  },
  {
   "cell_type": "code",
   "execution_count": null,
   "id": "366fefe8",
   "metadata": {},
   "outputs": [],
   "source": [
    "#Real X_Test\n",
    "real_X_test = pd.read_csv(\"/kaggle/input/us-college-completion-rate-analysis/x_test.csv\")\n",
    "real_X_test = real_X_test.drop(columns=['Unnamed: 0'])\n",
    "feateng_real_X_test = feature_eng(real_X_test)\n",
    "real_X_test = scaler.transform(feateng_real_X_test)"
   ]
  },
  {
   "cell_type": "markdown",
   "id": "d29f6a57",
   "metadata": {},
   "source": [
    "## XGBOOST Hyperparameter tuning"
   ]
  },
  {
   "cell_type": "markdown",
   "id": "bc9a7f08",
   "metadata": {},
   "source": [
    "### 1st Optimization Run"
   ]
  },
  {
   "cell_type": "code",
   "execution_count": 30,
   "id": "1b908213",
   "metadata": {},
   "outputs": [
    {
     "data": {
      "text/plain": [
       "{'colsample_bytree': 0.75,\n",
       " 'learning_rate': 0.1,\n",
       " 'max_depth': 50,\n",
       " 'subsample': 0.5}"
      ]
     },
     "execution_count": 30,
     "metadata": {},
     "output_type": "execute_result"
    }
   ],
   "source": [
    "# xgb_param_grid = { \n",
    "#     'max_depth' : [6,20,50,80],\n",
    "#     'learning_rate' :[0.01,0.1,1],\n",
    "#     'colsample_bytree':[0.5,0.75,1],\n",
    "#     'subsample': [0.5,0.75,1]\n",
    "    \n",
    "    \n",
    "# }\n",
    "\n",
    "# xgb_tuned = xgb.XGBRegressor()\n",
    "# CV_xgb_REG = GridSearchCV(estimator=xgb_tuned, param_grid=xgb_param_grid, scoring ='neg_root_mean_squared_error')\n",
    "# CV_xgb_REG.fit(X_train, y_train)\n",
    "# CV_xgb_REG.best_params_\n",
    "\n",
    "#Output:\n",
    "# {'colsample_bytree': 0.75,\n",
    "#  'learning_rate': 0.1,\n",
    "#  'max_depth': 50,\n",
    "#  'subsample': 0.5}"
   ]
  },
  {
   "cell_type": "markdown",
   "id": "efc44237",
   "metadata": {},
   "source": [
    "### 2nd Optimization Run"
   ]
  },
  {
   "cell_type": "code",
   "execution_count": 31,
   "id": "64ebab6e",
   "metadata": {},
   "outputs": [
    {
     "data": {
      "text/plain": [
       "{'colsample_bytree': 0.75,\n",
       " 'learning_rate': 0.05,\n",
       " 'max_depth': 40,\n",
       " 'subsample': 0.6}"
      ]
     },
     "execution_count": 31,
     "metadata": {},
     "output_type": "execute_result"
    }
   ],
   "source": [
    "# xgb_param_grid = { \n",
    "#     'max_depth' : [40,50,60],\n",
    "#     'learning_rate' :[0.05,0.1,0.2,0.3],\n",
    "#     'colsample_bytree':[0.65,0.75,0.85],\n",
    "#     'subsample': [0.4,0.5,0.6]\n",
    "    \n",
    "    \n",
    "# }\n",
    "\n",
    "# xgb_tuned = xgb.XGBRegressor()\n",
    "# CV_xgb_REG = GridSearchCV(estimator=xgb_tuned, param_grid=xgb_param_grid, scoring ='neg_root_mean_squared_error')\n",
    "# CV_xgb_REG.fit(X_train, y_train)\n",
    "# CV_xgb_REG.best_params_\n",
    "\n",
    "#Output:\n",
    "# {'colsample_bytree': 0.75,\n",
    "#  'learning_rate': 0.05,\n",
    "#  'max_depth': 40,\n",
    "#  'subsample': 0.6}"
   ]
  },
  {
   "cell_type": "markdown",
   "id": "adec658b",
   "metadata": {},
   "source": [
    "### 3rd Optimization Run"
   ]
  },
  {
   "cell_type": "code",
   "execution_count": 32,
   "id": "ad834e24",
   "metadata": {},
   "outputs": [
    {
     "data": {
      "text/plain": [
       "{'colsample_bytree': 0.75,\n",
       " 'learning_rate': 0.05,\n",
       " 'max_depth': 25,\n",
       " 'subsample': 0.6}"
      ]
     },
     "execution_count": 32,
     "metadata": {},
     "output_type": "execute_result"
    }
   ],
   "source": [
    "# xgb_param_grid = { \n",
    "#     'max_depth' : [15,20,25,30,35,40,45],\n",
    "#     'learning_rate' :[0.03,0.05,0.07],\n",
    "#     'subsample': [0.6],\n",
    "#     'colsample_bytree': [0.75]\n",
    "    \n",
    "    \n",
    "# }\n",
    "\n",
    "# xgb_tuned = xgb.XGBRegressor()\n",
    "# CV_xgb_REG = GridSearchCV(estimator=xgb_tuned, param_grid=xgb_param_grid, scoring ='neg_root_mean_squared_error')\n",
    "# CV_xgb_REG.fit(X_train, y_train)\n",
    "# CV_xgb_REG.best_params_\n",
    "\n",
    "# {'colsample_bytree': 0.75,\n",
    "#  'learning_rate': 0.05,\n",
    "#  'max_depth': 25,\n",
    "#  'subsample': 0.6}"
   ]
  },
  {
   "cell_type": "markdown",
   "id": "2d15d639",
   "metadata": {},
   "source": [
    "## n_estimator hypertuning using 3rd Optimization Run"
   ]
  },
  {
   "cell_type": "markdown",
   "id": "3591470e",
   "metadata": {},
   "source": [
    "n_estimators=100"
   ]
  },
  {
   "cell_type": "code",
   "execution_count": 33,
   "id": "c63a45a7",
   "metadata": {},
   "outputs": [
    {
     "name": "stdout",
     "output_type": "stream",
     "text": [
      "0.9963796579068149\n"
     ]
    }
   ],
   "source": [
    "# XGB_model = xgb.XGBRegressor(n_estimators=100,subsample = 0.6, max_depth = 25, learning_rate = 0.05, colsample_bytree = 0.75)\n",
    "# XGB_model.fit(X_train, y_train)\n",
    "# xgb_r_sq = XGB_model.score(X_train, y_train)\n",
    "# print(xgb_r_sq)\n",
    "\n",
    "#0.9963796579068149"
   ]
  },
  {
   "cell_type": "code",
   "execution_count": 34,
   "id": "604b82ca",
   "metadata": {},
   "outputs": [
    {
     "data": {
      "text/plain": [
       "0.0656162902046468"
      ]
     },
     "execution_count": 34,
     "metadata": {},
     "output_type": "execute_result"
    }
   ],
   "source": [
    "# #Using model to obtain predictions for the Train Test split\n",
    "# y_pred_TEST_XGB_model = XGB_model.predict(X_test)\n",
    "\n",
    "# #Testing RMSE error for the Train Test split\n",
    "# RMSE = mean_squared_error(y_test, y_pred_TEST_XGB_model, squared=False)\n",
    "# RMSE\n",
    "\n",
    "#0.0656162902046468"
   ]
  },
  {
   "cell_type": "markdown",
   "id": "ee2ea37e",
   "metadata": {},
   "source": [
    "n_estimators=200"
   ]
  },
  {
   "cell_type": "code",
   "execution_count": 37,
   "id": "283030a0",
   "metadata": {},
   "outputs": [
    {
     "name": "stdout",
     "output_type": "stream",
     "text": [
      "0.9998873938181452\n"
     ]
    }
   ],
   "source": [
    "# #200\n",
    "# XGB_model = xgb.XGBRegressor(n_estimators=200,subsample = 0.6, max_depth = 25, learning_rate = 0.05, colsample_bytree = 0.75)\n",
    "# XGB_model.fit(X_train, y_train)\n",
    "# xgb_r_sq = XGB_model.score(X_train, y_train)\n",
    "# print(xgb_r_sq)\n",
    "\n",
    "#0.9998873938181452"
   ]
  },
  {
   "cell_type": "code",
   "execution_count": 38,
   "id": "84e94a79",
   "metadata": {},
   "outputs": [
    {
     "data": {
      "text/plain": [
       "0.0643443150838284"
      ]
     },
     "execution_count": 38,
     "metadata": {},
     "output_type": "execute_result"
    }
   ],
   "source": [
    "# #Using model to obtain predictions for the Train Test split\n",
    "# y_pred_TEST_XGB_model = XGB_model.predict(X_test)\n",
    "\n",
    "# #Testing RMSE error for the Train Test split\n",
    "# RMSE = mean_squared_error(y_test, y_pred_TEST_XGB_model, squared=False)\n",
    "# RMSE\n",
    "\n",
    "#0.0643443150838284"
   ]
  },
  {
   "cell_type": "markdown",
   "id": "9f9d440a",
   "metadata": {},
   "source": [
    "n_estimators=300"
   ]
  },
  {
   "cell_type": "code",
   "execution_count": 39,
   "id": "1ff15dbd",
   "metadata": {},
   "outputs": [
    {
     "name": "stdout",
     "output_type": "stream",
     "text": [
      "0.9999881494947483\n"
     ]
    }
   ],
   "source": [
    "# #300\n",
    "# XGB_model = xgb.XGBRegressor(n_estimators=300,subsample = 0.6, max_depth = 25, learning_rate = 0.05, colsample_bytree = 0.75)\n",
    "# XGB_model.fit(X_train, y_train)\n",
    "# xgb_r_sq = XGB_model.score(X_train, y_train)\n",
    "# print(xgb_r_sq)\n",
    "\n",
    "#0.9999881494947483"
   ]
  },
  {
   "cell_type": "code",
   "execution_count": 40,
   "id": "ca2742de",
   "metadata": {},
   "outputs": [
    {
     "data": {
      "text/plain": [
       "0.06423473506438508"
      ]
     },
     "execution_count": 40,
     "metadata": {},
     "output_type": "execute_result"
    }
   ],
   "source": [
    "# #Using model to obtain predictions for the Train Test split\n",
    "# y_pred_TEST_XGB_model = XGB_model.predict(X_test)\n",
    "\n",
    "# #Testing RMSE error for the Train Test split\n",
    "# RMSE = mean_squared_error(y_test, y_pred_TEST_XGB_model, squared=False)\n",
    "# RMSE\n",
    "\n",
    "#0.06423473506438508"
   ]
  },
  {
   "cell_type": "markdown",
   "id": "5b870275",
   "metadata": {},
   "source": [
    "n_estimators=400"
   ]
  },
  {
   "cell_type": "code",
   "execution_count": 41,
   "id": "6ddff148",
   "metadata": {},
   "outputs": [
    {
     "name": "stdout",
     "output_type": "stream",
     "text": [
      "0.9999915213055444\n"
     ]
    }
   ],
   "source": [
    "# #400\n",
    "# XGB_model = xgb.XGBRegressor(n_estimators=400,subsample = 0.6, max_depth = 25, learning_rate = 0.05, colsample_bytree = 0.75)\n",
    "# XGB_model.fit(X_train, y_train)\n",
    "# xgb_r_sq = XGB_model.score(X_train, y_train)\n",
    "# print(xgb_r_sq)\n",
    "\n",
    "#0.9999915213055444"
   ]
  },
  {
   "cell_type": "code",
   "execution_count": 42,
   "id": "684621b2",
   "metadata": {},
   "outputs": [
    {
     "data": {
      "text/plain": [
       "0.06422398755935001"
      ]
     },
     "execution_count": 42,
     "metadata": {},
     "output_type": "execute_result"
    }
   ],
   "source": [
    "# #Using model to obtain predictions for the Train Test split\n",
    "# y_pred_TEST_XGB_model = XGB_model.predict(X_test)\n",
    "\n",
    "# #Testing RMSE error for the Train Test split\n",
    "# RMSE = mean_squared_error(y_test, y_pred_TEST_XGB_model, squared=False)\n",
    "# RMSE\n",
    "\n",
    "#0.06422398755935001"
   ]
  },
  {
   "cell_type": "markdown",
   "id": "c2a48a07",
   "metadata": {},
   "source": [
    "n_estimators=500"
   ]
  },
  {
   "cell_type": "code",
   "execution_count": 45,
   "id": "c40ba4c7",
   "metadata": {},
   "outputs": [
    {
     "name": "stdout",
     "output_type": "stream",
     "text": [
      "0.9999921918207533\n"
     ]
    }
   ],
   "source": [
    "# # #500\n",
    "# XGB_model = xgb.XGBRegressor(n_estimators=500,subsample = 0.6, max_depth = 25, learning_rate = 0.05, colsample_bytree = 0.75)\n",
    "# XGB_model.fit(X_train, y_train)\n",
    "# xgb_r_sq = XGB_model.score(X_train, y_train)\n",
    "# print(xgb_r_sq)\n",
    "\n",
    "#0.9999921918207533"
   ]
  },
  {
   "cell_type": "code",
   "execution_count": 46,
   "id": "556722fb",
   "metadata": {},
   "outputs": [
    {
     "data": {
      "text/plain": [
       "0.06422508035646513"
      ]
     },
     "execution_count": 46,
     "metadata": {},
     "output_type": "execute_result"
    }
   ],
   "source": [
    "# #Using model to obtain predictions for the Train Test split\n",
    "# y_pred_TEST_XGB_model = XGB_model.predict(X_test)\n",
    "\n",
    "# #Testing RMSE error for the Train Test split\n",
    "# RMSE = mean_squared_error(y_test, y_pred_TEST_XGB_model, squared=False)\n",
    "# RMSE\n",
    "\n",
    "#0.06422508035646513"
   ]
  },
  {
   "cell_type": "markdown",
   "id": "202232e7",
   "metadata": {},
   "source": [
    "n_estimators=600"
   ]
  },
  {
   "cell_type": "code",
   "execution_count": 47,
   "id": "c9309880",
   "metadata": {},
   "outputs": [
    {
     "name": "stdout",
     "output_type": "stream",
     "text": [
      "0.9999924386105594\n"
     ]
    }
   ],
   "source": [
    "# #600\n",
    "# XGB_model = xgb.XGBRegressor(n_estimators=600,subsample = 0.6, max_depth = 25, learning_rate = 0.05, colsample_bytree = 0.75)\n",
    "# XGB_model.fit(X_train, y_train)\n",
    "# xgb_r_sq = XGB_model.score(X_train, y_train)\n",
    "# print(xgb_r_sq)\n",
    "\n",
    "#0.9999924386105594"
   ]
  },
  {
   "cell_type": "code",
   "execution_count": 48,
   "id": "bbb0f0c8",
   "metadata": {},
   "outputs": [
    {
     "data": {
      "text/plain": [
       "0.06422550966550059"
      ]
     },
     "execution_count": 48,
     "metadata": {},
     "output_type": "execute_result"
    }
   ],
   "source": [
    "# #Using model to obtain predictions for the Train Test split\n",
    "# y_pred_TEST_XGB_model = XGB_model.predict(X_test)\n",
    "\n",
    "# #Testing RMSE error for the Train Test split\n",
    "# RMSE = mean_squared_error(y_test, y_pred_TEST_XGB_model, squared=False)\n",
    "# RMSE\n",
    "\n",
    "#0.06422550966550059"
   ]
  },
  {
   "cell_type": "markdown",
   "id": "60102b1b",
   "metadata": {},
   "source": [
    "Even though the training R_squared (0.9999924386105594) score of the model when n_estimators = 600 is greater than that of the training R_squared score (0.9999921918207533) of the model when n_estimators = 500 , the test RMSE (0.06422550966550059) of the model when n_estimators = 600 is greater than the test RMSE (0.06422508035646513) of the model when n_estimators = 500, this shows overfitting when n_estimators = 600 and the final model for the Feature_Engineering XGB Regressor model has the following parameters:\n",
    "\n",
    "n_estimators=500,subsample = 0.6, max_depth = 25, learning_rate = 0.05, colsample_bytree = 0.75"
   ]
  },
  {
   "cell_type": "markdown",
   "id": "44ee4194",
   "metadata": {},
   "source": [
    "## Using Final Model to make prediction for Kaggle Submission"
   ]
  },
  {
   "cell_type": "code",
   "execution_count": 81,
   "id": "6f629404",
   "metadata": {},
   "outputs": [],
   "source": [
    "real_X_test = pd.read_csv(\"/kaggle/input/us-college-completion-rate-analysis/x_test.csv\")\n",
    "real_X_test = real_X_test.drop(columns=['Unnamed: 0'])\n",
    "feateng_real_X_test = feature_eng(real_X_test)\n",
    "real_X_test = scaler.transform(feateng_real_X_test)"
   ]
  },
  {
   "cell_type": "code",
   "execution_count": 55,
   "id": "5d3d839e",
   "metadata": {},
   "outputs": [
    {
     "name": "stdout",
     "output_type": "stream",
     "text": [
      "[0.4102688  0.4604709  0.52974486 ... 0.55626214 0.6168811  0.6525417 ]\n"
     ]
    }
   ],
   "source": [
    "XGB_model = xgb.XGBRegressor(n_estimators=500,subsample = 0.6, max_depth = 25, learning_rate = 0.05, colsample_bytree = 0.75)\n",
    "XGB_model.fit(X_train, y.to_numpy())\n",
    "true_y_pred_TEST_XGB_tuned = XGB_model.predict(real_X_test)\n",
    "print(true_y_pred_TEST_XGB_tuned)"
   ]
  },
  {
   "cell_type": "markdown",
   "id": "4cb56cb5",
   "metadata": {},
   "source": []
  },
  {
   "cell_type": "markdown",
   "id": "12c832a4",
   "metadata": {
    "papermill": {
     "duration": 0.004174,
     "end_time": "2023-04-04T12:34:03.255082",
     "exception": false,
     "start_time": "2023-04-04T12:34:03.250908",
     "status": "completed"
    },
    "tags": []
   },
   "source": [
    "### Creating our submission"
   ]
  },
  {
   "cell_type": "code",
   "execution_count": 56,
   "id": "1bc28e9e",
   "metadata": {
    "execution": {
     "iopub.execute_input": "2023-04-04T12:34:03.266647Z",
     "iopub.status.busy": "2023-04-04T12:34:03.266279Z",
     "iopub.status.idle": "2023-04-04T12:34:03.289377Z",
     "shell.execute_reply": "2023-04-04T12:34:03.288366Z"
    },
    "papermill": {
     "duration": 0.033156,
     "end_time": "2023-04-04T12:34:03.292502",
     "exception": false,
     "start_time": "2023-04-04T12:34:03.259346",
     "status": "completed"
    },
    "tags": []
   },
   "outputs": [
    {
     "data": {
      "text/html": [
       "<div>\n",
       "<style scoped>\n",
       "    .dataframe tbody tr th:only-of-type {\n",
       "        vertical-align: middle;\n",
       "    }\n",
       "\n",
       "    .dataframe tbody tr th {\n",
       "        vertical-align: top;\n",
       "    }\n",
       "\n",
       "    .dataframe thead th {\n",
       "        text-align: right;\n",
       "    }\n",
       "</style>\n",
       "<table border=\"1\" class=\"dataframe\">\n",
       "  <thead>\n",
       "    <tr style=\"text-align: right;\">\n",
       "      <th></th>\n",
       "      <th>Completion_rate</th>\n",
       "    </tr>\n",
       "  </thead>\n",
       "  <tbody>\n",
       "    <tr>\n",
       "      <th>0</th>\n",
       "      <td>0.410269</td>\n",
       "    </tr>\n",
       "    <tr>\n",
       "      <th>1</th>\n",
       "      <td>0.460471</td>\n",
       "    </tr>\n",
       "    <tr>\n",
       "      <th>2</th>\n",
       "      <td>0.529745</td>\n",
       "    </tr>\n",
       "    <tr>\n",
       "      <th>3</th>\n",
       "      <td>0.428105</td>\n",
       "    </tr>\n",
       "    <tr>\n",
       "      <th>4</th>\n",
       "      <td>0.499727</td>\n",
       "    </tr>\n",
       "    <tr>\n",
       "      <th>...</th>\n",
       "      <td>...</td>\n",
       "    </tr>\n",
       "    <tr>\n",
       "      <th>1160</th>\n",
       "      <td>0.477834</td>\n",
       "    </tr>\n",
       "    <tr>\n",
       "      <th>1161</th>\n",
       "      <td>0.491224</td>\n",
       "    </tr>\n",
       "    <tr>\n",
       "      <th>1162</th>\n",
       "      <td>0.556262</td>\n",
       "    </tr>\n",
       "    <tr>\n",
       "      <th>1163</th>\n",
       "      <td>0.616881</td>\n",
       "    </tr>\n",
       "    <tr>\n",
       "      <th>1164</th>\n",
       "      <td>0.652542</td>\n",
       "    </tr>\n",
       "  </tbody>\n",
       "</table>\n",
       "<p>1165 rows × 1 columns</p>\n",
       "</div>"
      ],
      "text/plain": [
       "      Completion_rate\n",
       "0            0.410269\n",
       "1            0.460471\n",
       "2            0.529745\n",
       "3            0.428105\n",
       "4            0.499727\n",
       "...               ...\n",
       "1160         0.477834\n",
       "1161         0.491224\n",
       "1162         0.556262\n",
       "1163         0.616881\n",
       "1164         0.652542\n",
       "\n",
       "[1165 rows x 1 columns]"
      ]
     },
     "execution_count": 56,
     "metadata": {},
     "output_type": "execute_result"
    }
   ],
   "source": [
    "submission = pd.DataFrame.from_dict({'Completion_rate': true_y_pred_TEST_XGB_tuned})\n",
    "submission"
   ]
  },
  {
   "cell_type": "code",
   "execution_count": 57,
   "id": "0a613631",
   "metadata": {
    "execution": {
     "iopub.execute_input": "2023-04-04T12:34:03.305172Z",
     "iopub.status.busy": "2023-04-04T12:34:03.303733Z",
     "iopub.status.idle": "2023-04-04T12:34:03.317452Z",
     "shell.execute_reply": "2023-04-04T12:34:03.315552Z"
    },
    "papermill": {
     "duration": 0.023032,
     "end_time": "2023-04-04T12:34:03.320474",
     "exception": false,
     "start_time": "2023-04-04T12:34:03.297442",
     "status": "completed"
    },
    "tags": []
   },
   "outputs": [],
   "source": [
    "submission.to_csv('submission.csv', index = True, index_label = \"id\") "
   ]
  },
  {
   "cell_type": "markdown",
   "id": "2b5cb054",
   "metadata": {
    "papermill": {
     "duration": 0.004253,
     "end_time": "2023-04-04T12:34:03.329568",
     "exception": false,
     "start_time": "2023-04-04T12:34:03.325315",
     "status": "completed"
    },
    "tags": []
   },
   "source": [
    "### To submit your submission\n",
    "\n",
    "On the panel on your right, select the drop down \"Submit to competition\", and submit this notebook. Ensure that your submission is named ```submission.csv```!"
   ]
  }
 ],
 "metadata": {
  "kernelspec": {
   "display_name": "Python 3 (ipykernel)",
   "language": "python",
   "name": "python3"
  },
  "language_info": {
   "codemirror_mode": {
    "name": "ipython",
    "version": 3
   },
   "file_extension": ".py",
   "mimetype": "text/x-python",
   "name": "python",
   "nbconvert_exporter": "python",
   "pygments_lexer": "ipython3",
   "version": "3.8.16"
  },
  "papermill": {
   "default_parameters": {},
   "duration": 21.044189,
   "end_time": "2023-04-04T12:34:04.758875",
   "environment_variables": {},
   "exception": null,
   "input_path": "__notebook__.ipynb",
   "output_path": "__notebook__.ipynb",
   "parameters": {},
   "start_time": "2023-04-04T12:33:43.714686",
   "version": "2.4.0"
  }
 },
 "nbformat": 4,
 "nbformat_minor": 5
}
