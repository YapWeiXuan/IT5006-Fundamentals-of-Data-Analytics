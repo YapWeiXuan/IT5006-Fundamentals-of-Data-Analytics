{
 "cells": [
  {
   "cell_type": "code",
   "execution_count": 1,
   "id": "35513a69",
   "metadata": {
    "_cell_guid": "b1076dfc-b9ad-4769-8c92-a6c4dae69d19",
    "_uuid": "8f2839f25d086af736a60e9eeb907d3b93b6e0e5",
    "execution": {
     "iopub.execute_input": "2023-04-04T12:33:52.853776Z",
     "iopub.status.busy": "2023-04-04T12:33:52.853187Z",
     "iopub.status.idle": "2023-04-04T12:34:01.431684Z",
     "shell.execute_reply": "2023-04-04T12:34:01.429232Z"
    },
    "papermill": {
     "duration": 8.588716,
     "end_time": "2023-04-04T12:34:01.435163",
     "exception": false,
     "start_time": "2023-04-04T12:33:52.846447",
     "status": "completed"
    },
    "tags": []
   },
   "outputs": [],
   "source": [
    "# This Python 3 environment comes with many helpful analytics libraries installed\n",
    "# It is defined by the kaggle/python Docker image: https://github.com/kaggle/docker-python\n",
    "# For example, here's several helpful packages to load\n",
    "\n",
    "import numpy as np # linear algebra\n",
    "import pandas as pd # data processing, CSV file I/O (e.g. pd.read_csv)\n",
    "from sklearn.preprocessing import StandardScaler\n",
    "import torch\n",
    "import torch.nn as nn\n",
    "import torch.optim as optim\n",
    "import tqdm\n",
    "import copy\n",
    "from torchmetrics.functional import r2_score as torch_r2_score\n",
    "from sklearn.ensemble import RandomForestRegressor\n",
    "import matplotlib.pyplot as plt\n",
    "from sklearn.model_selection import train_test_split\n",
    "!pip install xgboost\n",
    "import xgboost as xgb\n",
    "from sklearn.metrics import mean_squared_error\n",
    "from sklearn.model_selection import GridSearchCV\n",
    "\n",
    "# Input data files are available in the read-only \"../input/\" directory\n",
    "# For example, running this (by clicking run or pressing Shift+Enter) will list all files under the input directory\n",
    "\n",
    "import os\n",
    "for dirname, _, filenames in os.walk('/kaggle/input'):\n",
    "    for filename in filenames:\n",
    "        print(os.path.join(dirname, filename))\n",
    "\n",
    "# You can write up to 20GB to the current directory (/kaggle/working/) that gets preserved as output when you create a version using \"Save & Run All\" \n",
    "# You can also write temporary files to /kaggle/temp/, but they won't be saved outside of the current session"
   ]
  },
  {
   "cell_type": "markdown",
   "id": "9d560ff6",
   "metadata": {
    "papermill": {
     "duration": 0.003899,
     "end_time": "2023-04-04T12:34:01.443632",
     "exception": false,
     "start_time": "2023-04-04T12:34:01.439733",
     "status": "completed"
    },
    "tags": []
   },
   "source": [
    "# Importing the data"
   ]
  },
  {
   "cell_type": "code",
   "execution_count": 103,
   "id": "1d6386f0",
   "metadata": {
    "execution": {
     "iopub.execute_input": "2023-04-04T12:34:01.453602Z",
     "iopub.status.busy": "2023-04-04T12:34:01.453242Z",
     "iopub.status.idle": "2023-04-04T12:34:01.481004Z",
     "shell.execute_reply": "2023-04-04T12:34:01.479574Z"
    },
    "papermill": {
     "duration": 0.035882,
     "end_time": "2023-04-04T12:34:01.483465",
     "exception": false,
     "start_time": "2023-04-04T12:34:01.447583",
     "status": "completed"
    },
    "tags": []
   },
   "outputs": [],
   "source": [
    "df = pd.read_csv(\"/kaggle/input/us-college-completion-rate-analysis/train.csv\")"
   ]
  },
  {
   "cell_type": "markdown",
   "id": "2c3b046c",
   "metadata": {},
   "source": [
    "# Removing outliers"
   ]
  },
  {
   "cell_type": "markdown",
   "id": "a5115198",
   "metadata": {},
   "source": [
    "Outlier Management\n",
    "\n",
    "Outlier Removal was first attempted on the training dataset. However, after removal of outliers, only ~70% of the training dataset. This great reduction in the training dataset also reduces the model's prediction ability with less data to work with.\n",
    "\n",
    "To maintain the training dataset size, capping outliers at the upper limit(75% Quartile + (1.5*InterQuartileRange)) and lower limit (25% Quartile - 1.5*(1.5*InterQuartileRange)) was selected."
   ]
  },
  {
   "cell_type": "code",
   "execution_count": 80,
   "id": "e8d1313a",
   "metadata": {},
   "outputs": [],
   "source": [
    "def capping_outliers(X,num): #Expecting a labelled columns dataframe\n",
    "    if num==1:\n",
    "        X_cols = X.columns[2:]\n",
    "        result = pd.DataFrame()\n",
    "        result = pd.concat([result,pd.DataFrame(X['Completion_rate'])],axis=1)\n",
    "    else:\n",
    "        X_cols = X.columns[1:]\n",
    "        result = pd.DataFrame()\n",
    "    \n",
    "    for i in X_cols:\n",
    "        test = pd.DataFrame(X[i])\n",
    "        \n",
    "        Lower_Quartile = X[i].quantile(0.25)\n",
    "        Upper_Quartile = X[i].quantile(0.75)\n",
    "        IQR = Upper_Quartile- Lower_Quartile\n",
    "        Upper_Limit = Upper_Quartile + (1.5*IQR)\n",
    "        Lower_Limit = Lower_Quartile - (1.5*IQR)\n",
    "        \n",
    "        upper_array=np.array(X[i]>=Upper_Limit)\n",
    "        lower_array=np.array(X[i]<=Lower_Limit)\n",
    "        \n",
    "        test.loc[upper_array] =Upper_Limit\n",
    "        test.loc[lower_array] = Lower_Limit\n",
    "        \n",
    "        result = pd.concat([result,test],axis=1)\n",
    "        \n",
    "    return result"
   ]
  },
  {
   "cell_type": "code",
   "execution_count": 104,
   "id": "994fc911",
   "metadata": {},
   "outputs": [
    {
     "data": {
      "text/html": [
       "<div>\n",
       "<style scoped>\n",
       "    .dataframe tbody tr th:only-of-type {\n",
       "        vertical-align: middle;\n",
       "    }\n",
       "\n",
       "    .dataframe tbody tr th {\n",
       "        vertical-align: top;\n",
       "    }\n",
       "\n",
       "    .dataframe thead th {\n",
       "        text-align: right;\n",
       "    }\n",
       "</style>\n",
       "<table border=\"1\" class=\"dataframe\">\n",
       "  <thead>\n",
       "    <tr style=\"text-align: right;\">\n",
       "      <th></th>\n",
       "      <th>Completion_rate</th>\n",
       "      <th>Tuition_in_state</th>\n",
       "      <th>Tuition_out_state</th>\n",
       "      <th>Faculty_salary</th>\n",
       "      <th>Pell_grant_rate</th>\n",
       "      <th>SAT_average</th>\n",
       "      <th>ACT_50thPercentile</th>\n",
       "      <th>pct_White</th>\n",
       "      <th>pct_Black</th>\n",
       "      <th>pct_Hispanic</th>\n",
       "      <th>pct_Asian</th>\n",
       "      <th>Parents_middlesch</th>\n",
       "      <th>Parents_highsch</th>\n",
       "      <th>Parents_college</th>\n",
       "    </tr>\n",
       "  </thead>\n",
       "  <tbody>\n",
       "    <tr>\n",
       "      <th>0</th>\n",
       "      <td>0.6552</td>\n",
       "      <td>33560.0</td>\n",
       "      <td>33560.0</td>\n",
       "      <td>4285.0</td>\n",
       "      <td>0.2531</td>\n",
       "      <td>1029.0</td>\n",
       "      <td>21</td>\n",
       "      <td>0.3771</td>\n",
       "      <td>0.0612</td>\n",
       "      <td>0.0590</td>\n",
       "      <td>0.120137</td>\n",
       "      <td>0.011561</td>\n",
       "      <td>0.226397</td>\n",
       "      <td>0.762042</td>\n",
       "    </tr>\n",
       "    <tr>\n",
       "      <th>1</th>\n",
       "      <td>0.5246</td>\n",
       "      <td>7383.0</td>\n",
       "      <td>18543.0</td>\n",
       "      <td>9148.0</td>\n",
       "      <td>0.4752</td>\n",
       "      <td>963.0</td>\n",
       "      <td>21</td>\n",
       "      <td>0.2866</td>\n",
       "      <td>0.0331</td>\n",
       "      <td>0.2639</td>\n",
       "      <td>0.101100</td>\n",
       "      <td>0.063970</td>\n",
       "      <td>0.375165</td>\n",
       "      <td>0.517424</td>\n",
       "    </tr>\n",
       "    <tr>\n",
       "      <th>2</th>\n",
       "      <td>0.4030</td>\n",
       "      <td>23144.0</td>\n",
       "      <td>23144.0</td>\n",
       "      <td>7232.0</td>\n",
       "      <td>0.4668</td>\n",
       "      <td>984.0</td>\n",
       "      <td>21</td>\n",
       "      <td>0.3085</td>\n",
       "      <td>0.1426</td>\n",
       "      <td>0.2309</td>\n",
       "      <td>0.014900</td>\n",
       "      <td>0.063970</td>\n",
       "      <td>0.361314</td>\n",
       "      <td>0.547445</td>\n",
       "    </tr>\n",
       "    <tr>\n",
       "      <th>3</th>\n",
       "      <td>0.5472</td>\n",
       "      <td>6610.0</td>\n",
       "      <td>17770.0</td>\n",
       "      <td>9284.0</td>\n",
       "      <td>0.6369</td>\n",
       "      <td>877.0</td>\n",
       "      <td>18</td>\n",
       "      <td>0.1272</td>\n",
       "      <td>0.0572</td>\n",
       "      <td>0.2639</td>\n",
       "      <td>0.055700</td>\n",
       "      <td>0.063970</td>\n",
       "      <td>0.433621</td>\n",
       "      <td>0.413556</td>\n",
       "    </tr>\n",
       "    <tr>\n",
       "      <th>4</th>\n",
       "      <td>0.8166</td>\n",
       "      <td>47004.0</td>\n",
       "      <td>47004.0</td>\n",
       "      <td>11984.0</td>\n",
       "      <td>0.1337</td>\n",
       "      <td>1323.0</td>\n",
       "      <td>30</td>\n",
       "      <td>0.4251</td>\n",
       "      <td>0.0786</td>\n",
       "      <td>0.2268</td>\n",
       "      <td>0.054900</td>\n",
       "      <td>0.014868</td>\n",
       "      <td>0.186091</td>\n",
       "      <td>0.799041</td>\n",
       "    </tr>\n",
       "    <tr>\n",
       "      <th>...</th>\n",
       "      <td>...</td>\n",
       "      <td>...</td>\n",
       "      <td>...</td>\n",
       "      <td>...</td>\n",
       "      <td>...</td>\n",
       "      <td>...</td>\n",
       "      <td>...</td>\n",
       "      <td>...</td>\n",
       "      <td>...</td>\n",
       "      <td>...</td>\n",
       "      <td>...</td>\n",
       "      <td>...</td>\n",
       "      <td>...</td>\n",
       "      <td>...</td>\n",
       "    </tr>\n",
       "    <tr>\n",
       "      <th>2359</th>\n",
       "      <td>0.5311</td>\n",
       "      <td>24090.0</td>\n",
       "      <td>24090.0</td>\n",
       "      <td>6705.0</td>\n",
       "      <td>0.3402</td>\n",
       "      <td>949.0</td>\n",
       "      <td>20</td>\n",
       "      <td>0.6830</td>\n",
       "      <td>0.0544</td>\n",
       "      <td>0.0385</td>\n",
       "      <td>0.022500</td>\n",
       "      <td>0.019266</td>\n",
       "      <td>0.439450</td>\n",
       "      <td>0.541284</td>\n",
       "    </tr>\n",
       "    <tr>\n",
       "      <th>2360</th>\n",
       "      <td>0.5371</td>\n",
       "      <td>36660.0</td>\n",
       "      <td>36660.0</td>\n",
       "      <td>6340.0</td>\n",
       "      <td>0.4075</td>\n",
       "      <td>1033.0</td>\n",
       "      <td>23</td>\n",
       "      <td>0.6215</td>\n",
       "      <td>0.1582</td>\n",
       "      <td>0.0883</td>\n",
       "      <td>0.025700</td>\n",
       "      <td>0.028593</td>\n",
       "      <td>0.404816</td>\n",
       "      <td>0.566591</td>\n",
       "    </tr>\n",
       "    <tr>\n",
       "      <th>2361</th>\n",
       "      <td>0.3677</td>\n",
       "      <td>30331.0</td>\n",
       "      <td>30331.0</td>\n",
       "      <td>6689.0</td>\n",
       "      <td>0.5791</td>\n",
       "      <td>1009.0</td>\n",
       "      <td>22</td>\n",
       "      <td>0.5842</td>\n",
       "      <td>0.2277</td>\n",
       "      <td>0.0569</td>\n",
       "      <td>0.022100</td>\n",
       "      <td>0.029851</td>\n",
       "      <td>0.370421</td>\n",
       "      <td>0.599729</td>\n",
       "    </tr>\n",
       "    <tr>\n",
       "      <th>2362</th>\n",
       "      <td>0.5541</td>\n",
       "      <td>5055.0</td>\n",
       "      <td>16215.0</td>\n",
       "      <td>9312.0</td>\n",
       "      <td>0.2151</td>\n",
       "      <td>1102.0</td>\n",
       "      <td>24</td>\n",
       "      <td>0.7347</td>\n",
       "      <td>0.0113</td>\n",
       "      <td>0.0718</td>\n",
       "      <td>0.011700</td>\n",
       "      <td>0.017512</td>\n",
       "      <td>0.259759</td>\n",
       "      <td>0.722729</td>\n",
       "    </tr>\n",
       "    <tr>\n",
       "      <th>2363</th>\n",
       "      <td>0.5871</td>\n",
       "      <td>33358.0</td>\n",
       "      <td>33358.0</td>\n",
       "      <td>8178.0</td>\n",
       "      <td>0.2640</td>\n",
       "      <td>1053.0</td>\n",
       "      <td>23</td>\n",
       "      <td>0.5974</td>\n",
       "      <td>0.1482</td>\n",
       "      <td>0.0933</td>\n",
       "      <td>0.030400</td>\n",
       "      <td>0.011107</td>\n",
       "      <td>0.249280</td>\n",
       "      <td>0.739613</td>\n",
       "    </tr>\n",
       "  </tbody>\n",
       "</table>\n",
       "<p>2364 rows × 14 columns</p>\n",
       "</div>"
      ],
      "text/plain": [
       "      Completion_rate  Tuition_in_state  Tuition_out_state  Faculty_salary  \\\n",
       "0              0.6552           33560.0            33560.0          4285.0   \n",
       "1              0.5246            7383.0            18543.0          9148.0   \n",
       "2              0.4030           23144.0            23144.0          7232.0   \n",
       "3              0.5472            6610.0            17770.0          9284.0   \n",
       "4              0.8166           47004.0            47004.0         11984.0   \n",
       "...               ...               ...                ...             ...   \n",
       "2359           0.5311           24090.0            24090.0          6705.0   \n",
       "2360           0.5371           36660.0            36660.0          6340.0   \n",
       "2361           0.3677           30331.0            30331.0          6689.0   \n",
       "2362           0.5541            5055.0            16215.0          9312.0   \n",
       "2363           0.5871           33358.0            33358.0          8178.0   \n",
       "\n",
       "      Pell_grant_rate  SAT_average  ACT_50thPercentile  pct_White  pct_Black  \\\n",
       "0              0.2531       1029.0                  21     0.3771     0.0612   \n",
       "1              0.4752        963.0                  21     0.2866     0.0331   \n",
       "2              0.4668        984.0                  21     0.3085     0.1426   \n",
       "3              0.6369        877.0                  18     0.1272     0.0572   \n",
       "4              0.1337       1323.0                  30     0.4251     0.0786   \n",
       "...               ...          ...                 ...        ...        ...   \n",
       "2359           0.3402        949.0                  20     0.6830     0.0544   \n",
       "2360           0.4075       1033.0                  23     0.6215     0.1582   \n",
       "2361           0.5791       1009.0                  22     0.5842     0.2277   \n",
       "2362           0.2151       1102.0                  24     0.7347     0.0113   \n",
       "2363           0.2640       1053.0                  23     0.5974     0.1482   \n",
       "\n",
       "      pct_Hispanic  pct_Asian  Parents_middlesch  Parents_highsch  \\\n",
       "0           0.0590   0.120137           0.011561         0.226397   \n",
       "1           0.2639   0.101100           0.063970         0.375165   \n",
       "2           0.2309   0.014900           0.063970         0.361314   \n",
       "3           0.2639   0.055700           0.063970         0.433621   \n",
       "4           0.2268   0.054900           0.014868         0.186091   \n",
       "...            ...        ...                ...              ...   \n",
       "2359        0.0385   0.022500           0.019266         0.439450   \n",
       "2360        0.0883   0.025700           0.028593         0.404816   \n",
       "2361        0.0569   0.022100           0.029851         0.370421   \n",
       "2362        0.0718   0.011700           0.017512         0.259759   \n",
       "2363        0.0933   0.030400           0.011107         0.249280   \n",
       "\n",
       "      Parents_college  \n",
       "0            0.762042  \n",
       "1            0.517424  \n",
       "2            0.547445  \n",
       "3            0.413556  \n",
       "4            0.799041  \n",
       "...               ...  \n",
       "2359         0.541284  \n",
       "2360         0.566591  \n",
       "2361         0.599729  \n",
       "2362         0.722729  \n",
       "2363         0.739613  \n",
       "\n",
       "[2364 rows x 14 columns]"
      ]
     },
     "execution_count": 104,
     "metadata": {},
     "output_type": "execute_result"
    }
   ],
   "source": [
    "capped_outliers_data = capping_outliers(df,1)\n",
    "capped_outliers_data"
   ]
  },
  {
   "cell_type": "code",
   "execution_count": 105,
   "id": "e3c79d34",
   "metadata": {},
   "outputs": [
    {
     "data": {
      "text/plain": [
       "Index(['Tuition_in_state', 'Tuition_out_state', 'Faculty_salary',\n",
       "       'Pell_grant_rate', 'SAT_average', 'ACT_50thPercentile', 'pct_White',\n",
       "       'pct_Black', 'pct_Hispanic', 'pct_Asian', 'Parents_middlesch',\n",
       "       'Parents_highsch', 'Parents_college'],\n",
       "      dtype='object')"
      ]
     },
     "execution_count": 105,
     "metadata": {},
     "output_type": "execute_result"
    }
   ],
   "source": [
    "feature_names = capped_outliers_data.columns[1:]\n",
    "feature_names"
   ]
  },
  {
   "cell_type": "code",
   "execution_count": 106,
   "id": "8967dc36",
   "metadata": {},
   "outputs": [],
   "source": [
    "features = ['Tuition_in_state','Tuition_out_state','Faculty_salary','Pell_grant_rate','SAT_average','ACT_50thPercentile','pct_White','pct_Black','pct_Hispanic','pct_Asian','Parents_middlesch','Parents_highsch','Parents_college'] \n",
    "X = capped_outliers_data[features]\n",
    "y = capped_outliers_data[\"Completion_rate\"]\n",
    "\n",
    "#Comment out when sending to Kaggle\n",
    "# X_train, X_test, y_train, y_test = train_test_split(X, y, test_size=0.2, random_state=42)"
   ]
  },
  {
   "cell_type": "markdown",
   "id": "cdda438a",
   "metadata": {
    "papermill": {
     "duration": 0.0042,
     "end_time": "2023-04-04T12:34:01.525027",
     "exception": false,
     "start_time": "2023-04-04T12:34:01.520827",
     "status": "completed"
    },
    "tags": []
   },
   "source": [
    "# Data Preprocessing"
   ]
  },
  {
   "cell_type": "code",
   "execution_count": 107,
   "id": "6e8df4bd",
   "metadata": {
    "execution": {
     "iopub.execute_input": "2023-04-04T12:34:01.536412Z",
     "iopub.status.busy": "2023-04-04T12:34:01.535344Z",
     "iopub.status.idle": "2023-04-04T12:34:01.545035Z",
     "shell.execute_reply": "2023-04-04T12:34:01.544094Z"
    },
    "papermill": {
     "duration": 0.018117,
     "end_time": "2023-04-04T12:34:01.547801",
     "exception": false,
     "start_time": "2023-04-04T12:34:01.529684",
     "status": "completed"
    },
    "tags": []
   },
   "outputs": [],
   "source": [
    "#Comment out when training\n",
    "scaler = StandardScaler()\n",
    "scaler.fit(X)\n",
    "X_train = scaler.transform(X)"
   ]
  },
  {
   "cell_type": "code",
   "execution_count": null,
   "id": "81a37060",
   "metadata": {},
   "outputs": [],
   "source": [
    "#Comment out when sending to Kaggle\n",
    "# scaler.fit(X_train)\n",
    "# X_train = scaler.transform(X_train)\n",
    "# X_test = scaler.transform(X_test)"
   ]
  },
  {
   "cell_type": "code",
   "execution_count": 96,
   "id": "6e7c8d46",
   "metadata": {},
   "outputs": [],
   "source": [
    "#Real X_Test\n",
    "real_X_test = pd.read_csv(\"/kaggle/input/us-college-completion-rate-analysis/x_test.csv\")\n",
    "real_X_test = real_X_test.drop(columns=['Unnamed: 0'])\n",
    "real_X_test = scaler.transform(real_X_test)"
   ]
  },
  {
   "cell_type": "markdown",
   "id": "d30bb98e",
   "metadata": {},
   "source": [
    "## XGBOOST Hyperparameter tuning"
   ]
  },
  {
   "cell_type": "code",
   "execution_count": 44,
   "id": "1f5a5e90",
   "metadata": {},
   "outputs": [
    {
     "data": {
      "text/plain": [
       "{'colsample_bytree': 1,\n",
       " 'learning_rate': 0.1,\n",
       " 'max_depth': 50,\n",
       " 'subsample': 0.75}"
      ]
     },
     "execution_count": 44,
     "metadata": {},
     "output_type": "execute_result"
    }
   ],
   "source": [
    "# xgb_param_grid = { \n",
    "#     'max_depth' : [6,20,50,80],\n",
    "#     'learning_rate' :[0.01,0.1,1],\n",
    "#     'colsample_bytree':[0.5,0.75,1],\n",
    "#     'subsample': [0.5,0.75,1]\n",
    "    \n",
    "    \n",
    "# }\n",
    "\n",
    "# xgb_tuned = xgb.XGBRegressor()\n",
    "# CV_xgb_REG = GridSearchCV(estimator=xgb_tuned, param_grid=xgb_param_grid, scoring ='neg_root_mean_squared_error')\n",
    "# CV_xgb_REG.fit(X_train, y_train)\n",
    "# CV_xgb_REG.best_params_\n",
    "\n",
    "#Output:\n",
    "# {'colsample_bytree': 1,\n",
    "#  'learning_rate': 0.1,\n",
    "#  'max_depth': 50,\n",
    "#  'subsample': 0.75}"
   ]
  },
  {
   "cell_type": "code",
   "execution_count": 45,
   "id": "a5085958",
   "metadata": {},
   "outputs": [
    {
     "data": {
      "text/plain": [
       "{'colsample_bytree': 0.9,\n",
       " 'learning_rate': 0.05,\n",
       " 'max_depth': 30,\n",
       " 'subsample': 0.65}"
      ]
     },
     "execution_count": 45,
     "metadata": {},
     "output_type": "execute_result"
    }
   ],
   "source": [
    "# xgb_param_grid = { \n",
    "#     'max_depth' : [30,40,50,60],\n",
    "#     'learning_rate' :[0.05,0.1,0.2],\n",
    "#     'colsample_bytree':[0.8,0.9,1],\n",
    "#     'subsample': [0.65,0.75,0.85]\n",
    "    \n",
    "    \n",
    "# }\n",
    "\n",
    "# xgb_tuned = xgb.XGBRegressor()\n",
    "# CV_xgb_REG = GridSearchCV(estimator=xgb_tuned, param_grid=xgb_param_grid, scoring ='neg_root_mean_squared_error')\n",
    "# CV_xgb_REG.fit(X_train, y_train)\n",
    "# CV_xgb_REG.best_params_\n",
    "\n",
    "#Output:\n",
    "# {'colsample_bytree': 0.9,\n",
    "#  'learning_rate': 0.05,\n",
    "#  'max_depth': 30,\n",
    "#  'subsample': 0.65}"
   ]
  },
  {
   "cell_type": "code",
   "execution_count": 47,
   "id": "71836aa5",
   "metadata": {},
   "outputs": [
    {
     "data": {
      "text/plain": [
       "{'colsample_bytree': 0.9,\n",
       " 'learning_rate': 0.06,\n",
       " 'max_depth': 25,\n",
       " 'subsample': 0.65}"
      ]
     },
     "execution_count": 47,
     "metadata": {},
     "output_type": "execute_result"
    }
   ],
   "source": [
    "# xgb_param_grid = { \n",
    "#     'max_depth' : [15,20,25,30,35],\n",
    "#     'learning_rate' :[0.03,0.04,0.05,0.06,0.07,0.08],\n",
    "#     'colsample_bytree':[0.9],\n",
    "#     'subsample': [0.65]\n",
    "    \n",
    "    \n",
    "# }\n",
    "\n",
    "# xgb_tuned = xgb.XGBRegressor()\n",
    "# CV_xgb_REG = GridSearchCV(estimator=xgb_tuned, param_grid=xgb_param_grid, scoring ='neg_root_mean_squared_error')\n",
    "# CV_xgb_REG.fit(X_train, y_train)\n",
    "# CV_xgb_REG.best_params_\n",
    "\n",
    "#Output:\n",
    "# {'colsample_bytree': 0.9,\n",
    "#  'learning_rate': 0.06,\n",
    "#  'max_depth': 25,\n",
    "#  'subsample': 0.65}"
   ]
  },
  {
   "cell_type": "markdown",
   "id": "9436ddde",
   "metadata": {},
   "source": [
    "## Optimizing n_estimators parameter"
   ]
  },
  {
   "cell_type": "markdown",
   "id": "0eb462ab",
   "metadata": {},
   "source": [
    "n_estimators = 100"
   ]
  },
  {
   "cell_type": "code",
   "execution_count": 58,
   "id": "74916294",
   "metadata": {},
   "outputs": [
    {
     "name": "stdout",
     "output_type": "stream",
     "text": [
      "0.9988690551198027\n"
     ]
    }
   ],
   "source": [
    "# XGB_model = xgb.XGBRegressor(n_estimators=100,subsample = 0.65, max_depth = 25, learning_rate = 0.06, colsample_bytree = 0.9)\n",
    "# XGB_model.fit(X_train, y_train)\n",
    "# xgb_r_sq = XGB_model.score(X_train, y_train)\n",
    "# print(xgb_r_sq)\n",
    "\n",
    "#0.9988690551198027"
   ]
  },
  {
   "cell_type": "code",
   "execution_count": 59,
   "id": "524717a1",
   "metadata": {},
   "outputs": [
    {
     "data": {
      "text/plain": [
       "0.06491004234150678"
      ]
     },
     "execution_count": 59,
     "metadata": {},
     "output_type": "execute_result"
    }
   ],
   "source": [
    "# #Using model to obtain predictions for the Train Test split\n",
    "# y_pred_TEST_XGB_model = XGB_model.predict(X_test)\n",
    "\n",
    "# #Testing RMSE error for the Train Test split\n",
    "# RMSE = mean_squared_error(y_test, y_pred_TEST_XGB_model, squared=False)\n",
    "# RMSE\n",
    "\n",
    "#0.06491004234150678"
   ]
  },
  {
   "cell_type": "markdown",
   "id": "0982dec8",
   "metadata": {},
   "source": [
    "n_estimators =200"
   ]
  },
  {
   "cell_type": "code",
   "execution_count": 60,
   "id": "a116f782",
   "metadata": {},
   "outputs": [
    {
     "name": "stdout",
     "output_type": "stream",
     "text": [
      "0.999981317382156\n"
     ]
    }
   ],
   "source": [
    "# XGB_model = xgb.XGBRegressor(n_estimators=200,subsample = 0.65, max_depth = 25, learning_rate = 0.06, colsample_bytree = 0.9)\n",
    "# XGB_model.fit(X_train, y_train)\n",
    "# xgb_r_sq = XGB_model.score(X_train, y_train)\n",
    "# print(xgb_r_sq)\n",
    "\n",
    "#0.999981317382156"
   ]
  },
  {
   "cell_type": "code",
   "execution_count": 61,
   "id": "a350f794",
   "metadata": {},
   "outputs": [
    {
     "data": {
      "text/plain": [
       "0.06423899265251357"
      ]
     },
     "execution_count": 61,
     "metadata": {},
     "output_type": "execute_result"
    }
   ],
   "source": [
    "# #Using model to obtain predictions for the Train Test split\n",
    "# y_pred_TEST_XGB_model = XGB_model.predict(X_test)\n",
    "\n",
    "# #Testing RMSE error for the Train Test split\n",
    "# RMSE = mean_squared_error(y_test, y_pred_TEST_XGB_model, squared=False)\n",
    "# RMSE\n",
    "\n",
    "#0.06423899265251357"
   ]
  },
  {
   "cell_type": "markdown",
   "id": "d33fa17b",
   "metadata": {},
   "source": [
    "n_estimators = 300"
   ]
  },
  {
   "cell_type": "code",
   "execution_count": 62,
   "id": "a1f67100",
   "metadata": {},
   "outputs": [
    {
     "name": "stdout",
     "output_type": "stream",
     "text": [
      "0.9999914656642858\n"
     ]
    }
   ],
   "source": [
    "# XGB_model = xgb.XGBRegressor(n_estimators=300,subsample = 0.65, max_depth = 25, learning_rate = 0.06, colsample_bytree = 0.9)\n",
    "# XGB_model.fit(X_train, y_train)\n",
    "# xgb_r_sq = XGB_model.score(X_train, y_train)\n",
    "# print(xgb_r_sq)\n",
    "\n",
    "#0.9999914656642858"
   ]
  },
  {
   "cell_type": "code",
   "execution_count": 63,
   "id": "18078ae7",
   "metadata": {},
   "outputs": [
    {
     "data": {
      "text/plain": [
       "0.0642247993077135"
      ]
     },
     "execution_count": 63,
     "metadata": {},
     "output_type": "execute_result"
    }
   ],
   "source": [
    "# #Using model to obtain predictions for the Train Test split\n",
    "# y_pred_TEST_XGB_model = XGB_model.predict(X_test)\n",
    "\n",
    "# #Testing RMSE error for the Train Test split\n",
    "# RMSE = mean_squared_error(y_test, y_pred_TEST_XGB_model, squared=False)\n",
    "# RMSE\n",
    "\n",
    "#0.0642247993077135"
   ]
  },
  {
   "cell_type": "markdown",
   "id": "c4a77f5f",
   "metadata": {},
   "source": [
    "n_estimators = 400"
   ]
  },
  {
   "cell_type": "code",
   "execution_count": 64,
   "id": "50cebf47",
   "metadata": {},
   "outputs": [
    {
     "name": "stdout",
     "output_type": "stream",
     "text": [
      "0.9999922930303264\n"
     ]
    }
   ],
   "source": [
    "# XGB_model = xgb.XGBRegressor(n_estimators=400,subsample = 0.65, max_depth = 25, learning_rate = 0.06, colsample_bytree = 0.9)\n",
    "# XGB_model.fit(X_train, y_train)\n",
    "# xgb_r_sq = XGB_model.score(X_train, y_train)\n",
    "# print(xgb_r_sq)\n",
    "\n",
    "#0.9999922930303264"
   ]
  },
  {
   "cell_type": "code",
   "execution_count": 65,
   "id": "72fc9958",
   "metadata": {},
   "outputs": [
    {
     "data": {
      "text/plain": [
       "0.06422117886906899"
      ]
     },
     "execution_count": 65,
     "metadata": {},
     "output_type": "execute_result"
    }
   ],
   "source": [
    "# #Using model to obtain predictions for the Train Test split\n",
    "# y_pred_TEST_XGB_model = XGB_model.predict(X_test)\n",
    "\n",
    "# #Testing RMSE error for the Train Test split\n",
    "# RMSE = mean_squared_error(y_test, y_pred_TEST_XGB_model, squared=False)\n",
    "# RMSE\n",
    "\n",
    "#0.06422117886906899"
   ]
  },
  {
   "cell_type": "markdown",
   "id": "2138029a",
   "metadata": {},
   "source": [
    "n_estimators = 500"
   ]
  },
  {
   "cell_type": "code",
   "execution_count": 66,
   "id": "b42e0973",
   "metadata": {},
   "outputs": [
    {
     "name": "stdout",
     "output_type": "stream",
     "text": [
      "0.9999925382189968\n"
     ]
    }
   ],
   "source": [
    "# XGB_model = xgb.XGBRegressor(n_estimators=500,subsample = 0.65, max_depth = 25, learning_rate = 0.06, colsample_bytree = 0.9)\n",
    "# XGB_model.fit(X_train, y_train)\n",
    "# xgb_r_sq = XGB_model.score(X_train, y_train)\n",
    "# print(xgb_r_sq)\n",
    "\n",
    "#0.9999925382189968"
   ]
  },
  {
   "cell_type": "code",
   "execution_count": 67,
   "id": "7f519dbc",
   "metadata": {},
   "outputs": [
    {
     "data": {
      "text/plain": [
       "0.0642215882290082"
      ]
     },
     "execution_count": 67,
     "metadata": {},
     "output_type": "execute_result"
    }
   ],
   "source": [
    "# #Using model to obtain predictions for the Train Test split\n",
    "# y_pred_TEST_XGB_model = XGB_model.predict(X_test)\n",
    "\n",
    "# #Testing RMSE error for the Train Test split\n",
    "# RMSE = mean_squared_error(y_test, y_pred_TEST_XGB_model, squared=False)\n",
    "# RMSE\n",
    "\n",
    "#0.0642215882290082"
   ]
  },
  {
   "cell_type": "markdown",
   "id": "2b52f703",
   "metadata": {},
   "source": [
    "Even though the training R_squared (0.9999925382189968)score of the model when n_estimators = 500 is greater than that of the training R_squared score (0.9999922930303264) of the model when n_estimators = 400 , the test RMSE (0.0642215882290082) of the model when n_estimators = 500 is greater than the test RMSE (0.06422117886906899) of the model when n_estimators = 400, this shows overfitting when n_estimators = 500 and the final model for the Capping Outliers XGB Regressor model has the following parameters:\n",
    "\n",
    "n_estimators=400,subsample = 0.65, max_depth = 25, learning_rate = 0.06, colsample_bytree = 0.9"
   ]
  },
  {
   "cell_type": "markdown",
   "id": "a5474b4d",
   "metadata": {},
   "source": [
    "### Creating Predictions for Kaggle dataset"
   ]
  },
  {
   "cell_type": "code",
   "execution_count": 108,
   "id": "2c0b9bc6",
   "metadata": {},
   "outputs": [],
   "source": [
    "real_X_test = pd.read_csv(\"/kaggle/input/us-college-completion-rate-analysis/x_test.csv\")\n",
    "# real_X_test = capping_outliers(real_X_test,2)\n",
    "real_X_test = real_X_test.drop(columns=['Unnamed: 0'])\n",
    "real_X_test = scaler.transform(real_X_test)"
   ]
  },
  {
   "cell_type": "code",
   "execution_count": 85,
   "id": "3b744a7e",
   "metadata": {},
   "outputs": [
    {
     "name": "stdout",
     "output_type": "stream",
     "text": [
      "[0.42521465 0.46355394 0.4886781  ... 0.5772263  0.5732011  0.6491689 ]\n"
     ]
    }
   ],
   "source": [
    "XGB_model = xgb.XGBRegressor(n_estimators=400,subsample = 0.65, max_depth = 25, learning_rate = 0.06, colsample_bytree = 0.9)\n",
    "XGB_model.fit(X_train, y.to_numpy())\n",
    "true_y_pred_TEST_XGB_tuned = XGB_model.predict(real_X_test)\n",
    "print(true_y_pred_TEST_XGB_tuned)"
   ]
  },
  {
   "cell_type": "markdown",
   "id": "12c832a4",
   "metadata": {
    "papermill": {
     "duration": 0.004174,
     "end_time": "2023-04-04T12:34:03.255082",
     "exception": false,
     "start_time": "2023-04-04T12:34:03.250908",
     "status": "completed"
    },
    "tags": []
   },
   "source": [
    "### Creating our submission"
   ]
  },
  {
   "cell_type": "code",
   "execution_count": 86,
   "id": "1bc28e9e",
   "metadata": {
    "execution": {
     "iopub.execute_input": "2023-04-04T12:34:03.266647Z",
     "iopub.status.busy": "2023-04-04T12:34:03.266279Z",
     "iopub.status.idle": "2023-04-04T12:34:03.289377Z",
     "shell.execute_reply": "2023-04-04T12:34:03.288366Z"
    },
    "papermill": {
     "duration": 0.033156,
     "end_time": "2023-04-04T12:34:03.292502",
     "exception": false,
     "start_time": "2023-04-04T12:34:03.259346",
     "status": "completed"
    },
    "tags": []
   },
   "outputs": [
    {
     "data": {
      "text/html": [
       "<div>\n",
       "<style scoped>\n",
       "    .dataframe tbody tr th:only-of-type {\n",
       "        vertical-align: middle;\n",
       "    }\n",
       "\n",
       "    .dataframe tbody tr th {\n",
       "        vertical-align: top;\n",
       "    }\n",
       "\n",
       "    .dataframe thead th {\n",
       "        text-align: right;\n",
       "    }\n",
       "</style>\n",
       "<table border=\"1\" class=\"dataframe\">\n",
       "  <thead>\n",
       "    <tr style=\"text-align: right;\">\n",
       "      <th></th>\n",
       "      <th>Completion_rate</th>\n",
       "    </tr>\n",
       "  </thead>\n",
       "  <tbody>\n",
       "    <tr>\n",
       "      <th>0</th>\n",
       "      <td>0.425215</td>\n",
       "    </tr>\n",
       "    <tr>\n",
       "      <th>1</th>\n",
       "      <td>0.463554</td>\n",
       "    </tr>\n",
       "    <tr>\n",
       "      <th>2</th>\n",
       "      <td>0.488678</td>\n",
       "    </tr>\n",
       "    <tr>\n",
       "      <th>3</th>\n",
       "      <td>0.426610</td>\n",
       "    </tr>\n",
       "    <tr>\n",
       "      <th>4</th>\n",
       "      <td>0.500699</td>\n",
       "    </tr>\n",
       "    <tr>\n",
       "      <th>...</th>\n",
       "      <td>...</td>\n",
       "    </tr>\n",
       "    <tr>\n",
       "      <th>1160</th>\n",
       "      <td>0.501211</td>\n",
       "    </tr>\n",
       "    <tr>\n",
       "      <th>1161</th>\n",
       "      <td>0.484570</td>\n",
       "    </tr>\n",
       "    <tr>\n",
       "      <th>1162</th>\n",
       "      <td>0.577226</td>\n",
       "    </tr>\n",
       "    <tr>\n",
       "      <th>1163</th>\n",
       "      <td>0.573201</td>\n",
       "    </tr>\n",
       "    <tr>\n",
       "      <th>1164</th>\n",
       "      <td>0.649169</td>\n",
       "    </tr>\n",
       "  </tbody>\n",
       "</table>\n",
       "<p>1165 rows × 1 columns</p>\n",
       "</div>"
      ],
      "text/plain": [
       "      Completion_rate\n",
       "0            0.425215\n",
       "1            0.463554\n",
       "2            0.488678\n",
       "3            0.426610\n",
       "4            0.500699\n",
       "...               ...\n",
       "1160         0.501211\n",
       "1161         0.484570\n",
       "1162         0.577226\n",
       "1163         0.573201\n",
       "1164         0.649169\n",
       "\n",
       "[1165 rows x 1 columns]"
      ]
     },
     "execution_count": 86,
     "metadata": {},
     "output_type": "execute_result"
    }
   ],
   "source": [
    "submission = pd.DataFrame.from_dict({'Completion_rate': true_y_pred_TEST_XGB_tuned})\n",
    "submission"
   ]
  },
  {
   "cell_type": "code",
   "execution_count": 87,
   "id": "0a613631",
   "metadata": {
    "execution": {
     "iopub.execute_input": "2023-04-04T12:34:03.305172Z",
     "iopub.status.busy": "2023-04-04T12:34:03.303733Z",
     "iopub.status.idle": "2023-04-04T12:34:03.317452Z",
     "shell.execute_reply": "2023-04-04T12:34:03.315552Z"
    },
    "papermill": {
     "duration": 0.023032,
     "end_time": "2023-04-04T12:34:03.320474",
     "exception": false,
     "start_time": "2023-04-04T12:34:03.297442",
     "status": "completed"
    },
    "tags": []
   },
   "outputs": [],
   "source": [
    "submission.to_csv('submission.csv', index = True, index_label = \"id\") "
   ]
  },
  {
   "cell_type": "markdown",
   "id": "2b5cb054",
   "metadata": {
    "papermill": {
     "duration": 0.004253,
     "end_time": "2023-04-04T12:34:03.329568",
     "exception": false,
     "start_time": "2023-04-04T12:34:03.325315",
     "status": "completed"
    },
    "tags": []
   },
   "source": [
    "### To submit your submission\n",
    "\n",
    "On the panel on your right, select the drop down \"Submit to competition\", and submit this notebook. Ensure that your submission is named ```submission.csv```!"
   ]
  }
 ],
 "metadata": {
  "kernelspec": {
   "display_name": "Python 3 (ipykernel)",
   "language": "python",
   "name": "python3"
  },
  "language_info": {
   "codemirror_mode": {
    "name": "ipython",
    "version": 3
   },
   "file_extension": ".py",
   "mimetype": "text/x-python",
   "name": "python",
   "nbconvert_exporter": "python",
   "pygments_lexer": "ipython3",
   "version": "3.8.16"
  },
  "papermill": {
   "default_parameters": {},
   "duration": 21.044189,
   "end_time": "2023-04-04T12:34:04.758875",
   "environment_variables": {},
   "exception": null,
   "input_path": "__notebook__.ipynb",
   "output_path": "__notebook__.ipynb",
   "parameters": {},
   "start_time": "2023-04-04T12:33:43.714686",
   "version": "2.4.0"
  }
 },
 "nbformat": 4,
 "nbformat_minor": 5
}
