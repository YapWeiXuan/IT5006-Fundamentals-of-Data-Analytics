{
 "cells": [
  {
   "cell_type": "code",
   "execution_count": 7,
   "id": "c9312a93",
   "metadata": {
    "_cell_guid": "b1076dfc-b9ad-4769-8c92-a6c4dae69d19",
    "_uuid": "8f2839f25d086af736a60e9eeb907d3b93b6e0e5",
    "execution": {
     "iopub.execute_input": "2023-04-10T14:22:31.248952Z",
     "iopub.status.busy": "2023-04-10T14:22:31.248444Z",
     "iopub.status.idle": "2023-04-10T14:22:43.224935Z",
     "shell.execute_reply": "2023-04-10T14:22:43.223470Z"
    },
    "papermill": {
     "duration": 12.002114,
     "end_time": "2023-04-10T14:22:43.228557",
     "exception": false,
     "start_time": "2023-04-10T14:22:31.226443",
     "status": "completed"
    },
    "tags": []
   },
   "outputs": [
    {
     "name": "stdout",
     "output_type": "stream",
     "text": [
      "Requirement already satisfied: xgboost in c:\\users\\yap wei xuan\\anaconda3\\lib\\site-packages (1.5.2)\n",
      "Requirement already satisfied: scipy in c:\\users\\yap wei xuan\\anaconda3\\lib\\site-packages (from xgboost) (1.10.0)\n",
      "Requirement already satisfied: numpy in c:\\users\\yap wei xuan\\anaconda3\\lib\\site-packages (from xgboost) (1.23.5)\n"
     ]
    }
   ],
   "source": [
    "# This Python 3 environment comes with many helpful analytics libraries installed\n",
    "# It is defined by the kaggle/python Docker image: https://github.com/kaggle/docker-python\n",
    "# For example, here's several helpful packages to load\n",
    "\n",
    "import numpy as np # linear algebra\n",
    "import pandas as pd # data processing, CSV file I/O (e.g. pd.read_csv)\n",
    "from sklearn.preprocessing import StandardScaler\n",
    "import torch\n",
    "import torch.nn as nn\n",
    "import torch.optim as optim\n",
    "import tqdm\n",
    "import copy\n",
    "from torchmetrics.functional import r2_score as torch_r2_score\n",
    "from sklearn.ensemble import RandomForestRegressor\n",
    "import matplotlib.pyplot as plt\n",
    "from sklearn.model_selection import train_test_split\n",
    "!pip install xgboost\n",
    "import xgboost as xgb\n",
    "from sklearn.metrics import mean_squared_error\n",
    "from sklearn.model_selection import GridSearchCV\n",
    "\n",
    "# Input data files are available in the read-only \"../input/\" directory\n",
    "# For example, running this (by clicking run or pressing Shift+Enter) will list all files under the input directory\n",
    "\n",
    "import os\n",
    "for dirname, _, filenames in os.walk('/kaggle/input'):\n",
    "    for filename in filenames:\n",
    "        print(os.path.join(dirname, filename))\n",
    "\n",
    "# You can write up to 20GB to the current directory (/kaggle/working/) that gets preserved as output when you create a version using \"Save & Run All\" \n",
    "# You can also write temporary files to /kaggle/temp/, but they won't be saved outside of the current session"
   ]
  },
  {
   "attachments": {},
   "cell_type": "markdown",
   "id": "5a1be06e",
   "metadata": {},
   "source": [
    "# NOTE: This is the notebook for the best model (Kaggle score: 0.88243) analysis. Please see the other notebooks for the analysis on the other following components :\n",
    "## 1. Feature Engineering (Kaggle score: 0.87587)\n",
    "### Notebook: IT5006_Grp17_Kaggle_Feature_Engineering_XGBoost_Regressor\n",
    "### - Reason:Reducing features can decrease the model’s accuracy as the model could reduce/remove important features’ statistical significance to the dependent variable.\n",
    "\n",
    "## 2. Outliers Management (Capping Outliers) (Kaggle score: 0.87679)\n",
    "### Notebook:  IT5006_Grp17_Kaggle_Capping_Outliers_XGBoost_Regressor\n",
    "### - Reason: While it reduces variance of the dataset, it also increases the bias of the model. With more values centered within a certain range, the model is more likely to predict similar values.\n",
    "\n",
    "## 3. Feature Engineering + Capping Outliers (Kaggle score: 0.87180)\n",
    "### Notebook:IT5006_Grp17_Kaggle_Feature_Engineering_and_Capping_Outliers_XGBoost_Regressor\n",
    "### - Reason: The combined reasons from 1. and 2. results it in achieving a lower score than 1/2.\n",
    "\n",
    "## 4. RandomForest Regressor (Kaggle score: 0.86810)\n",
    "### Notebook: IT5006_Grp17_Kaggle_RandomForestRegressor\n",
    "### - Reason: XGBoost Regressor’s iterative ‘boosting’ technique allows it to correct the previous tree’s errors unlike RandomForestRegressor’s ‘bagging’ technique, which trains each tree independently.\n",
    "\n",
    "## 5. Neural Network (Kaggle score: 0.84498)\n",
    "### Notebook: IT5006_Grp17_Kaggle_NeuralNetwork\n",
    "### - Reason: Compared to XGBoost Regressor/RandomForestRegressor , Neural Network requires a huge amount of datapoints to give accurate predictions."
   ]
  },
  {
   "cell_type": "markdown",
   "id": "5a06c728",
   "metadata": {
    "papermill": {
     "duration": 0.021092,
     "end_time": "2023-04-10T14:22:43.267698",
     "exception": false,
     "start_time": "2023-04-10T14:22:43.246606",
     "status": "completed"
    },
    "tags": []
   },
   "source": [
    "# Importing the data"
   ]
  },
  {
   "cell_type": "code",
   "execution_count": 8,
   "id": "1ad4689a",
   "metadata": {
    "execution": {
     "iopub.execute_input": "2023-04-10T14:22:43.313410Z",
     "iopub.status.busy": "2023-04-10T14:22:43.311448Z",
     "iopub.status.idle": "2023-04-10T14:22:43.351186Z",
     "shell.execute_reply": "2023-04-10T14:22:43.349578Z"
    },
    "papermill": {
     "duration": 0.067196,
     "end_time": "2023-04-10T14:22:43.355121",
     "exception": false,
     "start_time": "2023-04-10T14:22:43.287925",
     "status": "completed"
    },
    "tags": []
   },
   "outputs": [],
   "source": [
    "df = pd.read_csv(\"train.csv\")"
   ]
  },
  {
   "cell_type": "code",
   "execution_count": 10,
   "id": "4e916d09",
   "metadata": {
    "execution": {
     "iopub.execute_input": "2023-04-10T14:22:43.402174Z",
     "iopub.status.busy": "2023-04-10T14:22:43.400502Z",
     "iopub.status.idle": "2023-04-10T14:22:43.419933Z",
     "shell.execute_reply": "2023-04-10T14:22:43.418568Z"
    },
    "papermill": {
     "duration": 0.046331,
     "end_time": "2023-04-10T14:22:43.422905",
     "exception": false,
     "start_time": "2023-04-10T14:22:43.376574",
     "status": "completed"
    },
    "tags": []
   },
   "outputs": [],
   "source": [
    "\n",
    "features = ['Tuition_in_state','Tuition_out_state','Faculty_salary','Pell_grant_rate','SAT_average','ACT_50thPercentile','pct_White','pct_Black','pct_Hispanic','pct_Asian','Parents_middlesch','Parents_highsch','Parents_college'] \n",
    "X = df[features]\n",
    "y = df[\"Completion_rate\"]\n",
    "\n",
    "#Comment out when Sending to Kaggle\n",
    "# X_train, X_test, y_train, y_test = train_test_split(X, y, test_size=0.2, random_state=42)"
   ]
  },
  {
   "cell_type": "markdown",
   "id": "612c1d99",
   "metadata": {
    "papermill": {
     "duration": 0.016401,
     "end_time": "2023-04-10T14:22:43.456503",
     "exception": false,
     "start_time": "2023-04-10T14:22:43.440102",
     "status": "completed"
    },
    "tags": []
   },
   "source": [
    "# Data Preprocessing"
   ]
  },
  {
   "cell_type": "code",
   "execution_count": 11,
   "id": "294aeb16",
   "metadata": {
    "execution": {
     "iopub.execute_input": "2023-04-10T14:22:43.505693Z",
     "iopub.status.busy": "2023-04-10T14:22:43.504606Z",
     "iopub.status.idle": "2023-04-10T14:22:43.517305Z",
     "shell.execute_reply": "2023-04-10T14:22:43.515938Z"
    },
    "papermill": {
     "duration": 0.037316,
     "end_time": "2023-04-10T14:22:43.520682",
     "exception": false,
     "start_time": "2023-04-10T14:22:43.483366",
     "status": "completed"
    },
    "tags": []
   },
   "outputs": [],
   "source": [
    "#Comment out when training\n",
    "scaler = StandardScaler()\n",
    "scaler.fit(X)\n",
    "X_train = scaler.transform(X)"
   ]
  },
  {
   "cell_type": "code",
   "execution_count": null,
   "id": "0e0e61b7",
   "metadata": {},
   "outputs": [],
   "source": [
    "#Comment out when sending to Kaggle\n",
    "# scaler.fit(X_train)\n",
    "# X_train = scaler.transform(X_train)\n",
    "# X_test = scaler.transform(X_test)"
   ]
  },
  {
   "cell_type": "code",
   "execution_count": 13,
   "id": "6d7c5f53",
   "metadata": {},
   "outputs": [],
   "source": [
    "#Real X_Test\n",
    "real_X_test = pd.read_csv(\"x_test.csv\")\n",
    "real_X_test = real_X_test.drop(columns=['Unnamed: 0'])\n",
    "real_X_test = scaler.transform(real_X_test)"
   ]
  },
  {
   "cell_type": "markdown",
   "id": "cb5b3a10",
   "metadata": {
    "papermill": {
     "duration": 0.019424,
     "end_time": "2023-04-10T14:22:59.262167",
     "exception": false,
     "start_time": "2023-04-10T14:22:59.242743",
     "status": "completed"
    },
    "tags": []
   },
   "source": [
    "# Create XGBRegressor"
   ]
  },
  {
   "cell_type": "code",
   "execution_count": 23,
   "id": "87e3d73e",
   "metadata": {
    "execution": {
     "iopub.execute_input": "2023-04-10T14:23:00.418654Z",
     "iopub.status.busy": "2023-04-10T14:23:00.418076Z",
     "iopub.status.idle": "2023-04-10T14:23:00.423404Z",
     "shell.execute_reply": "2023-04-10T14:23:00.422392Z"
    },
    "papermill": {
     "duration": 0.02848,
     "end_time": "2023-04-10T14:23:00.425963",
     "exception": false,
     "start_time": "2023-04-10T14:23:00.397483",
     "status": "completed"
    },
    "tags": []
   },
   "outputs": [],
   "source": [
    "# XGB_REG = xgb.XGBRegressor()\n",
    "# XGB_REG"
   ]
  },
  {
   "cell_type": "code",
   "execution_count": 24,
   "id": "1a8ad9f8",
   "metadata": {
    "execution": {
     "iopub.execute_input": "2023-04-10T14:23:00.464257Z",
     "iopub.status.busy": "2023-04-10T14:23:00.463765Z",
     "iopub.status.idle": "2023-04-10T14:23:00.471073Z",
     "shell.execute_reply": "2023-04-10T14:23:00.469435Z"
    },
    "papermill": {
     "duration": 0.029665,
     "end_time": "2023-04-10T14:23:00.474027",
     "exception": false,
     "start_time": "2023-04-10T14:23:00.444362",
     "status": "completed"
    },
    "tags": []
   },
   "outputs": [],
   "source": [
    "# XGB_model = XGB_REG.fit(X_train, y_train)\n",
    "# XGB_model.fit(X_train, y_train)\n",
    "# xgb_r_sq = XGB_model.score(X_train, y_train)\n",
    "# print(xgb_r_sq)"
   ]
  },
  {
   "cell_type": "code",
   "execution_count": 25,
   "id": "838e1a1c",
   "metadata": {
    "execution": {
     "iopub.execute_input": "2023-04-10T14:23:00.520748Z",
     "iopub.status.busy": "2023-04-10T14:23:00.520229Z",
     "iopub.status.idle": "2023-04-10T14:23:00.526338Z",
     "shell.execute_reply": "2023-04-10T14:23:00.524315Z"
    },
    "papermill": {
     "duration": 0.035645,
     "end_time": "2023-04-10T14:23:00.529472",
     "exception": false,
     "start_time": "2023-04-10T14:23:00.493827",
     "status": "completed"
    },
    "tags": []
   },
   "outputs": [],
   "source": [
    "# #Using model to obtain predictions for the Train Test split\n",
    "# y_pred_TEST_XGB_model = XGB_model.predict(X_test)\n",
    "\n",
    "# #Testing RMSE error for the Train Test split\n",
    "# RMSE = mean_squared_error(y_test, y_pred_TEST_XGB_model, squared=False)\n",
    "# RMSE"
   ]
  },
  {
   "cell_type": "markdown",
   "id": "a8e1406f",
   "metadata": {
    "papermill": {
     "duration": 0.020135,
     "end_time": "2023-04-10T14:23:00.604858",
     "exception": false,
     "start_time": "2023-04-10T14:23:00.584723",
     "status": "completed"
    },
    "tags": []
   },
   "source": [
    "### XGBOOST Hyperparameter tuning"
   ]
  },
  {
   "cell_type": "markdown",
   "id": "3212ee9b",
   "metadata": {
    "papermill": {
     "duration": 0.01966,
     "end_time": "2023-04-10T14:23:00.644195",
     "exception": false,
     "start_time": "2023-04-10T14:23:00.624535",
     "status": "completed"
    },
    "tags": []
   },
   "source": [
    "Researching Online, we have identified the following Hyperparameters to improve prediction for the XGBRegressor Model:\n",
    "1. n_estimators (Number of trees. Generally, higher value results in better prediction at the expense of computational load)\n",
    "2. learning_rate (Model learning speed, lower value makes the model more conservative)\n",
    "3. max_depth (Maximum number of levels in tree, higher values could cause the model to learn the specifics of the dataset)\n",
    "4. colsample_bytree (Subsample ratio of columns during constructing of each tree.) \n",
    "5. subsample (Percentage of data points used for each tree building)\n",
    "\n",
    "We then use GridSearchCV to identify the best parameters for each hyperparameter\n",
    "\n",
    "References:\n",
    "Aman Gupta,'XGBoost Hyperparameters — Explained',Apr 28, 2021. Available: https://amangupta16.medium.com/xgboost-hyperparameters-explained-bb6ce580501d\n",
    "\n",
    "PRASHANT BANERJEE , A Guide on XGBoost hyperparameters tuning . Available:\n",
    "https://www.kaggle.com/code/prashant111/a-guide-on-xgboost-hyperparameters-tuning"
   ]
  },
  {
   "cell_type": "markdown",
   "id": "634dbc6e",
   "metadata": {},
   "source": [
    "### 1st Optimization Run"
   ]
  },
  {
   "cell_type": "code",
   "execution_count": 26,
   "id": "a25fc333",
   "metadata": {
    "execution": {
     "iopub.execute_input": "2023-04-10T14:23:00.684872Z",
     "iopub.status.busy": "2023-04-10T14:23:00.684387Z",
     "iopub.status.idle": "2023-04-10T14:23:00.690793Z",
     "shell.execute_reply": "2023-04-10T14:23:00.688550Z"
    },
    "papermill": {
     "duration": 0.03157,
     "end_time": "2023-04-10T14:23:00.694538",
     "exception": false,
     "start_time": "2023-04-10T14:23:00.662968",
     "status": "completed"
    },
    "tags": []
   },
   "outputs": [],
   "source": [
    "# xgb_param_grid = { \n",
    "#     'n_estimators': [100,200,300],\n",
    "#     'max_depth' : [6,50,80,100],\n",
    "#     'learning_rate' :[0.01,0.1,1],\n",
    "#     'colsample_bytree':[0.5,1],\n",
    "#     'subsample': [0.5,1]\n",
    "    \n",
    "    \n",
    "# }\n",
    "\n",
    "# xgb_tuned = xgb.XGBRegressor()\n",
    "# CV_xgb_REG = GridSearchCV(estimator=xgb_tuned, param_grid=xgb_param_grid, scoring ='neg_root_mean_squared_error')\n",
    "# CV_xgb_REG.fit(X_train, y_train)\n",
    "# CV_xgb_REG.best_params_\n",
    "\n",
    "#Output:\n",
    "# {'colsample_bytree': 1,\n",
    "#  'learning_rate': 0.1,\n",
    "#  'max_depth': 6,\n",
    "#  'n_estimators': 300,\n",
    "#  'subsample': 0.5}"
   ]
  },
  {
   "cell_type": "markdown",
   "id": "d668df9d",
   "metadata": {},
   "source": [
    "### 2nd Optimization Run"
   ]
  },
  {
   "cell_type": "code",
   "execution_count": 27,
   "id": "42f90294",
   "metadata": {
    "execution": {
     "iopub.execute_input": "2023-04-10T14:23:00.732689Z",
     "iopub.status.busy": "2023-04-10T14:23:00.732117Z",
     "iopub.status.idle": "2023-04-10T14:23:00.739376Z",
     "shell.execute_reply": "2023-04-10T14:23:00.737777Z"
    },
    "papermill": {
     "duration": 0.030691,
     "end_time": "2023-04-10T14:23:00.742355",
     "exception": false,
     "start_time": "2023-04-10T14:23:00.711664",
     "status": "completed"
    },
    "tags": []
   },
   "outputs": [],
   "source": [
    "# xgb_param_grid = { \n",
    "#     'max_depth' : [6,12,18,24],\n",
    "#     'learning_rate' :[0.05,0.1,0.2,0.3],\n",
    "#     'subsample': [0.25,0.5,0.75],\n",
    "#     'colsample_bytree':[0.75,1]\n",
    "# }\n",
    "\n",
    "# xgb_tuned = xgb.XGBRegressor()\n",
    "# CV_xgb_REG = GridSearchCV(estimator=xgb_tuned, param_grid=xgb_param_grid, scoring ='neg_root_mean_squared_error')\n",
    "# CV_xgb_REG.fit(X_train, y_train)\n",
    "# CV_xgb_REG.best_params_\n",
    "\n",
    "#Output:\n",
    "# {'colsample_bytree': 1,\n",
    "#  'learning_rate': 0.05,\n",
    "#  'max_depth': 18,\n",
    "#  'subsample': 0.5}\n",
    "n_estimators=500,subsample = 0.5, max_depth = 18, learning_rate = 0.05, colsample_bytree = 1"
   ]
  },
  {
   "cell_type": "markdown",
   "id": "4a1440e6",
   "metadata": {},
   "source": [
    "### 3rd Optimization Run (Worse Kaggle Results than 2nd Optimization Run)"
   ]
  },
  {
   "cell_type": "code",
   "execution_count": null,
   "id": "15ada1f7",
   "metadata": {},
   "outputs": [],
   "source": [
    "#Tune Further but got worse results\n",
    "# xgb_param_grid = { \n",
    "#     'max_depth' : [16,18,22],\n",
    "#     'learning_rate' :[0.01,0.02,0.05,0.1],\n",
    "#     'subsample': [0.4,0.5,0.6],\n",
    "#     'colsample_bytree':[0.9,1]\n",
    "# }\n",
    "\n",
    "# xgb_tuned = xgb.XGBRegressor()\n",
    "# CV_xgb_REG = GridSearchCV(estimator=xgb_tuned, param_grid=xgb_param_grid, scoring ='neg_root_mean_squared_error')\n",
    "# CV_xgb_REG.fit(X_train, y_train)\n",
    "# CV_xgb_REG.best_params_\n",
    "\n",
    "#Output:\n",
    "# {'colsample_bytree': 0.9,\n",
    "#  'learning_rate': 0.05,\n",
    "#  'max_depth': 16,\n",
    "#  'subsample': 0.6}"
   ]
  },
  {
   "cell_type": "markdown",
   "id": "5bc8a5d6",
   "metadata": {},
   "source": [
    "## Using 2nd Optimization Run Results"
   ]
  },
  {
   "cell_type": "markdown",
   "id": "94542b92",
   "metadata": {
    "papermill": {
     "duration": 0.016905,
     "end_time": "2023-04-10T14:23:00.777536",
     "exception": false,
     "start_time": "2023-04-10T14:23:00.760631",
     "status": "completed"
    },
    "tags": []
   },
   "source": [
    "n_estimator =100"
   ]
  },
  {
   "cell_type": "code",
   "execution_count": 28,
   "id": "89fe9dc0",
   "metadata": {
    "execution": {
     "iopub.execute_input": "2023-04-10T14:23:00.818436Z",
     "iopub.status.busy": "2023-04-10T14:23:00.817887Z",
     "iopub.status.idle": "2023-04-10T14:23:00.823922Z",
     "shell.execute_reply": "2023-04-10T14:23:00.822233Z"
    },
    "papermill": {
     "duration": 0.030402,
     "end_time": "2023-04-10T14:23:00.827627",
     "exception": false,
     "start_time": "2023-04-10T14:23:00.797225",
     "status": "completed"
    },
    "tags": []
   },
   "outputs": [],
   "source": [
    "# XGB_model = xgb.XGBRegressor(n_estimators=100,subsample = 0.5, max_depth = 18, learning_rate = 0.05, colsample_bytree = 1)\n",
    "# XGB_model.fit(X_train, y_train)\n",
    "# xgb_r_sq = XGB_model.score(X_train, y_train)\n",
    "# print(xgb_r_sq)\n",
    "\n",
    "#Output: 0.9938037663958779"
   ]
  },
  {
   "cell_type": "code",
   "execution_count": 29,
   "id": "1449320d",
   "metadata": {
    "execution": {
     "iopub.execute_input": "2023-04-10T14:23:00.870406Z",
     "iopub.status.busy": "2023-04-10T14:23:00.869908Z",
     "iopub.status.idle": "2023-04-10T14:23:00.876644Z",
     "shell.execute_reply": "2023-04-10T14:23:00.874284Z"
    },
    "papermill": {
     "duration": 0.032914,
     "end_time": "2023-04-10T14:23:00.879982",
     "exception": false,
     "start_time": "2023-04-10T14:23:00.847068",
     "status": "completed"
    },
    "tags": []
   },
   "outputs": [],
   "source": [
    "# #Using model to obtain predictions for the Train Test split\n",
    "# y_pred_TEST_XGB_model = XGB_model.predict(X_test)\n",
    "\n",
    "# #Testing RMSE error for the Train Test split\n",
    "# RMSE = mean_squared_error(y_test, y_pred_TEST_XGB_model, squared=False)\n",
    "# RMSE\n",
    "\n",
    "#Output: 0.06447693132608343"
   ]
  },
  {
   "cell_type": "markdown",
   "id": "acb41b22",
   "metadata": {
    "execution": {
     "iopub.execute_input": "2023-04-10T14:23:00.918539Z",
     "iopub.status.busy": "2023-04-10T14:23:00.918002Z",
     "iopub.status.idle": "2023-04-10T14:23:00.924505Z",
     "shell.execute_reply": "2023-04-10T14:23:00.922760Z"
    },
    "papermill": {
     "duration": 0.030218,
     "end_time": "2023-04-10T14:23:00.928094",
     "exception": false,
     "start_time": "2023-04-10T14:23:00.897876",
     "status": "completed"
    },
    "tags": []
   },
   "source": [
    "#### n_estimator =200"
   ]
  },
  {
   "cell_type": "code",
   "execution_count": 31,
   "id": "af39b46b",
   "metadata": {
    "execution": {
     "iopub.execute_input": "2023-04-10T14:23:00.971722Z",
     "iopub.status.busy": "2023-04-10T14:23:00.970468Z",
     "iopub.status.idle": "2023-04-10T14:23:00.979243Z",
     "shell.execute_reply": "2023-04-10T14:23:00.977213Z"
    },
    "papermill": {
     "duration": 0.034214,
     "end_time": "2023-04-10T14:23:00.982410",
     "exception": false,
     "start_time": "2023-04-10T14:23:00.948196",
     "status": "completed"
    },
    "tags": []
   },
   "outputs": [],
   "source": [
    "# XGB_model = xgb.XGBRegressor(n_estimators=200,subsample = 0.5, max_depth = 18, learning_rate = 0.05, colsample_bytree = 1)\n",
    "# XGB_model.fit(X_train, y_train)\n",
    "# xgb_r_sq = XGB_model.score(X_train, y_train)\n",
    "# print(xgb_r_sq)\n",
    "\n",
    "#Output: 0.9995539824582018"
   ]
  },
  {
   "cell_type": "code",
   "execution_count": 32,
   "id": "61e04aee",
   "metadata": {
    "execution": {
     "iopub.execute_input": "2023-04-10T14:23:01.027637Z",
     "iopub.status.busy": "2023-04-10T14:23:01.027118Z",
     "iopub.status.idle": "2023-04-10T14:23:01.032163Z",
     "shell.execute_reply": "2023-04-10T14:23:01.031019Z"
    },
    "papermill": {
     "duration": 0.030204,
     "end_time": "2023-04-10T14:23:01.034833",
     "exception": false,
     "start_time": "2023-04-10T14:23:01.004629",
     "status": "completed"
    },
    "tags": []
   },
   "outputs": [],
   "source": [
    "# #Using model to obtain predictions for the Train Test split\n",
    "# y_pred_TEST_XGB_model = XGB_model.predict(X_test)\n",
    "\n",
    "# #Testing RMSE error for the Train Test split\n",
    "# RMSE = mean_squared_error(y_test, y_pred_TEST_XGB_model, squared=False)\n",
    "# RMSE\n",
    "\n",
    "#Output: 0.06298032373966458"
   ]
  },
  {
   "cell_type": "markdown",
   "id": "08a77624",
   "metadata": {
    "execution": {
     "iopub.execute_input": "2023-04-10T14:23:01.079007Z",
     "iopub.status.busy": "2023-04-10T14:23:01.077614Z",
     "iopub.status.idle": "2023-04-10T14:23:01.084988Z",
     "shell.execute_reply": "2023-04-10T14:23:01.083005Z"
    },
    "papermill": {
     "duration": 0.033394,
     "end_time": "2023-04-10T14:23:01.088028",
     "exception": false,
     "start_time": "2023-04-10T14:23:01.054634",
     "status": "completed"
    },
    "tags": []
   },
   "source": [
    "#### n_estimator =300"
   ]
  },
  {
   "cell_type": "code",
   "execution_count": 34,
   "id": "06d18f74",
   "metadata": {
    "execution": {
     "iopub.execute_input": "2023-04-10T14:23:01.128769Z",
     "iopub.status.busy": "2023-04-10T14:23:01.127741Z",
     "iopub.status.idle": "2023-04-10T14:23:01.134048Z",
     "shell.execute_reply": "2023-04-10T14:23:01.132439Z"
    },
    "papermill": {
     "duration": 0.030629,
     "end_time": "2023-04-10T14:23:01.137784",
     "exception": false,
     "start_time": "2023-04-10T14:23:01.107155",
     "status": "completed"
    },
    "tags": []
   },
   "outputs": [],
   "source": [
    "# XGB_model = xgb.XGBRegressor(n_estimators=300,subsample = 0.5, max_depth = 18, learning_rate = 0.05, colsample_bytree = 1)\n",
    "# XGB_model.fit(X_train, y_train)\n",
    "# xgb_r_sq = XGB_model.score(X_train, y_train)\n",
    "# print(xgb_r_sq)\n",
    "\n",
    "#Output: 0.9999552315632131"
   ]
  },
  {
   "cell_type": "code",
   "execution_count": 35,
   "id": "03351a81",
   "metadata": {
    "execution": {
     "iopub.execute_input": "2023-04-10T14:23:01.179920Z",
     "iopub.status.busy": "2023-04-10T14:23:01.179428Z",
     "iopub.status.idle": "2023-04-10T14:23:01.187695Z",
     "shell.execute_reply": "2023-04-10T14:23:01.185008Z"
    },
    "papermill": {
     "duration": 0.034152,
     "end_time": "2023-04-10T14:23:01.191052",
     "exception": false,
     "start_time": "2023-04-10T14:23:01.156900",
     "status": "completed"
    },
    "tags": []
   },
   "outputs": [],
   "source": [
    "# #Using model to obtain predictions for the Train Test split\n",
    "# y_pred_TEST_XGB_model = XGB_model.predict(X_test)\n",
    "\n",
    "# #Testing RMSE error for the Train Test split\n",
    "# RMSE = mean_squared_error(y_test, y_pred_TEST_XGB_model, squared=False)\n",
    "# RMSE\n",
    "\n",
    "#Output: 0.06271371604497766"
   ]
  },
  {
   "cell_type": "markdown",
   "id": "617c472a",
   "metadata": {
    "execution": {
     "iopub.execute_input": "2023-04-10T14:23:01.233481Z",
     "iopub.status.busy": "2023-04-10T14:23:01.232677Z",
     "iopub.status.idle": "2023-04-10T14:23:01.240727Z",
     "shell.execute_reply": "2023-04-10T14:23:01.238273Z"
    },
    "papermill": {
     "duration": 0.03365,
     "end_time": "2023-04-10T14:23:01.244496",
     "exception": false,
     "start_time": "2023-04-10T14:23:01.210846",
     "status": "completed"
    },
    "tags": []
   },
   "source": [
    "#### n_estimator =400"
   ]
  },
  {
   "cell_type": "code",
   "execution_count": 37,
   "id": "f51c0d83",
   "metadata": {
    "execution": {
     "iopub.execute_input": "2023-04-10T14:23:01.288649Z",
     "iopub.status.busy": "2023-04-10T14:23:01.287799Z",
     "iopub.status.idle": "2023-04-10T14:23:01.294464Z",
     "shell.execute_reply": "2023-04-10T14:23:01.293416Z"
    },
    "papermill": {
     "duration": 0.032754,
     "end_time": "2023-04-10T14:23:01.297547",
     "exception": false,
     "start_time": "2023-04-10T14:23:01.264793",
     "status": "completed"
    },
    "tags": []
   },
   "outputs": [],
   "source": [
    "# XGB_model = xgb.XGBRegressor(n_estimators=400,subsample = 0.5, max_depth = 18, learning_rate = 0.05, colsample_bytree = 1)\n",
    "# XGB_model.fit(X_train, y_train)\n",
    "# xgb_r_sq = XGB_model.score(X_train, y_train)\n",
    "# print(xgb_r_sq)\n",
    "\n",
    "#Output: 0.9999899588199448"
   ]
  },
  {
   "cell_type": "code",
   "execution_count": 38,
   "id": "25666cbc",
   "metadata": {
    "execution": {
     "iopub.execute_input": "2023-04-10T14:23:01.343638Z",
     "iopub.status.busy": "2023-04-10T14:23:01.341786Z",
     "iopub.status.idle": "2023-04-10T14:23:01.349218Z",
     "shell.execute_reply": "2023-04-10T14:23:01.347407Z"
    },
    "papermill": {
     "duration": 0.033392,
     "end_time": "2023-04-10T14:23:01.352618",
     "exception": false,
     "start_time": "2023-04-10T14:23:01.319226",
     "status": "completed"
    },
    "tags": []
   },
   "outputs": [],
   "source": [
    "# #Using model to obtain predictions for the Train Test split\n",
    "# y_pred_TEST_XGB_model = XGB_model.predict(X_test)\n",
    "\n",
    "# #Testing RMSE error for the Train Test split\n",
    "# RMSE = mean_squared_error(y_test, y_pred_TEST_XGB_model, squared=False)\n",
    "# RMSE\n",
    "\n",
    "#Output: 0.06264671722423437"
   ]
  },
  {
   "cell_type": "markdown",
   "id": "f8402eca",
   "metadata": {
    "execution": {
     "iopub.execute_input": "2023-04-10T14:23:01.394819Z",
     "iopub.status.busy": "2023-04-10T14:23:01.394224Z",
     "iopub.status.idle": "2023-04-10T14:23:01.401236Z",
     "shell.execute_reply": "2023-04-10T14:23:01.399379Z"
    },
    "papermill": {
     "duration": 0.031752,
     "end_time": "2023-04-10T14:23:01.404415",
     "exception": false,
     "start_time": "2023-04-10T14:23:01.372663",
     "status": "completed"
    },
    "tags": []
   },
   "source": [
    "#### n_estimator =500"
   ]
  },
  {
   "cell_type": "code",
   "execution_count": 40,
   "id": "dbad01ef",
   "metadata": {
    "execution": {
     "iopub.execute_input": "2023-04-10T14:23:01.444643Z",
     "iopub.status.busy": "2023-04-10T14:23:01.444120Z",
     "iopub.status.idle": "2023-04-10T14:23:01.449673Z",
     "shell.execute_reply": "2023-04-10T14:23:01.448557Z"
    },
    "papermill": {
     "duration": 0.029933,
     "end_time": "2023-04-10T14:23:01.452737",
     "exception": false,
     "start_time": "2023-04-10T14:23:01.422804",
     "status": "completed"
    },
    "tags": []
   },
   "outputs": [],
   "source": [
    "# XGB_model = xgb.XGBRegressor(n_estimators=500,subsample = 0.5, max_depth = 18, learning_rate = 0.05, colsample_bytree = 1)\n",
    "# XGB_model.fit(X_train, y_train)\n",
    "# xgb_r_sq = XGB_model.score(X_train, y_train)\n",
    "# print(xgb_r_sq)\n",
    "\n",
    "#Output: 0.9999924606907223"
   ]
  },
  {
   "cell_type": "code",
   "execution_count": 41,
   "id": "84153dac",
   "metadata": {
    "execution": {
     "iopub.execute_input": "2023-04-10T14:23:01.496680Z",
     "iopub.status.busy": "2023-04-10T14:23:01.495155Z",
     "iopub.status.idle": "2023-04-10T14:23:01.501827Z",
     "shell.execute_reply": "2023-04-10T14:23:01.500342Z"
    },
    "papermill": {
     "duration": 0.031714,
     "end_time": "2023-04-10T14:23:01.504861",
     "exception": false,
     "start_time": "2023-04-10T14:23:01.473147",
     "status": "completed"
    },
    "tags": []
   },
   "outputs": [],
   "source": [
    "# #Using model to obtain predictions for the Train Test split\n",
    "# y_pred_TEST_XGB_model = XGB_model.predict(X_test)\n",
    "\n",
    "# #Testing RMSE error for the Train Test split\n",
    "# RMSE = mean_squared_error(y_test, y_pred_TEST_XGB_model, squared=False)\n",
    "# RMSE\n",
    "\n",
    "#Output: 0.06264351871349641"
   ]
  },
  {
   "cell_type": "markdown",
   "id": "e36e35d3",
   "metadata": {
    "execution": {
     "iopub.execute_input": "2023-04-10T14:23:01.547149Z",
     "iopub.status.busy": "2023-04-10T14:23:01.546657Z",
     "iopub.status.idle": "2023-04-10T14:23:01.553035Z",
     "shell.execute_reply": "2023-04-10T14:23:01.551353Z"
    },
    "papermill": {
     "duration": 0.032039,
     "end_time": "2023-04-10T14:23:01.555879",
     "exception": false,
     "start_time": "2023-04-10T14:23:01.523840",
     "status": "completed"
    },
    "tags": []
   },
   "source": [
    "#### n_estimator =600"
   ]
  },
  {
   "cell_type": "code",
   "execution_count": 43,
   "id": "c341c7c0",
   "metadata": {
    "execution": {
     "iopub.execute_input": "2023-04-10T14:23:01.601202Z",
     "iopub.status.busy": "2023-04-10T14:23:01.600754Z",
     "iopub.status.idle": "2023-04-10T14:23:01.606779Z",
     "shell.execute_reply": "2023-04-10T14:23:01.605134Z"
    },
    "papermill": {
     "duration": 0.03221,
     "end_time": "2023-04-10T14:23:01.610240",
     "exception": false,
     "start_time": "2023-04-10T14:23:01.578030",
     "status": "completed"
    },
    "tags": []
   },
   "outputs": [],
   "source": [
    "# XGB_model = xgb.XGBRegressor(n_estimators=600,subsample = 0.5, max_depth = 18, learning_rate = 0.05, colsample_bytree = 1)\n",
    "# XGB_model.fit(X_train, y_train)\n",
    "# xgb_r_sq = XGB_model.score(X_train, y_train)\n",
    "# print(xgb_r_sq)\n",
    "\n",
    "#Output: 0.9999930600734026"
   ]
  },
  {
   "cell_type": "code",
   "execution_count": 44,
   "id": "66889e71",
   "metadata": {
    "execution": {
     "iopub.execute_input": "2023-04-10T14:23:01.653187Z",
     "iopub.status.busy": "2023-04-10T14:23:01.651061Z",
     "iopub.status.idle": "2023-04-10T14:23:01.660290Z",
     "shell.execute_reply": "2023-04-10T14:23:01.658621Z"
    },
    "papermill": {
     "duration": 0.034684,
     "end_time": "2023-04-10T14:23:01.663769",
     "exception": false,
     "start_time": "2023-04-10T14:23:01.629085",
     "status": "completed"
    },
    "tags": []
   },
   "outputs": [],
   "source": [
    "# #Using model to obtain predictions for the Train Test split\n",
    "# y_pred_TEST_XGB_model = XGB_model.predict(X_test)\n",
    "\n",
    "# #Testing RMSE error for the Train Test split\n",
    "# RMSE = mean_squared_error(y_test, y_pred_TEST_XGB_model, squared=False)\n",
    "# RMSE\n",
    "\n",
    "#Output: 0.06263977749084422"
   ]
  },
  {
   "cell_type": "markdown",
   "id": "b0da744d",
   "metadata": {
    "papermill": {
     "duration": 0.019099,
     "end_time": "2023-04-10T14:23:01.702892",
     "exception": false,
     "start_time": "2023-04-10T14:23:01.683793",
     "status": "completed"
    },
    "tags": []
   },
   "source": [
    "n_ estimator = 500 is chosen as n_estimator=600 reflects negligible diminishing improvements to the model at the cost of greatly increased model fitting/predicting time"
   ]
  },
  {
   "cell_type": "markdown",
   "id": "c84b7be3",
   "metadata": {},
   "source": [
    "## Using 3rd Optimization Run Results"
   ]
  },
  {
   "cell_type": "markdown",
   "id": "63f80852",
   "metadata": {},
   "source": [
    "n_estimator =100"
   ]
  },
  {
   "cell_type": "code",
   "execution_count": null,
   "id": "7545a7eb",
   "metadata": {},
   "outputs": [],
   "source": [
    "# XGB_model = xgb.XGBRegressor(n_estimators=100,subsample = 0.6, max_depth = 16, learning_rate = 0.05, colsample_bytree = 0.9)\n",
    "# XGB_model.fit(X_train, y_train)\n",
    "# xgb_r_sq = XGB_model.score(X_train, y_train)\n",
    "# print(xgb_r_sq)\n",
    "\n",
    "#Output: 0.9963762435678043"
   ]
  },
  {
   "cell_type": "code",
   "execution_count": null,
   "id": "8662ddf2",
   "metadata": {},
   "outputs": [],
   "source": [
    "# #Using model to obtain predictions for the Train Test split\n",
    "# y_pred_TEST_XGB_model = XGB_model.predict(X_test)\n",
    "\n",
    "# #Testing RMSE error for the Train Test split\n",
    "# RMSE = mean_squared_error(y_test, y_pred_TEST_XGB_model, squared=False)\n",
    "# RMSE\n",
    "\n",
    "#Output: 0.064695597455068"
   ]
  },
  {
   "cell_type": "markdown",
   "id": "414c743e",
   "metadata": {},
   "source": [
    "n_estimator =200"
   ]
  },
  {
   "cell_type": "code",
   "execution_count": null,
   "id": "40f168a4",
   "metadata": {},
   "outputs": [],
   "source": [
    "# XGB_model = xgb.XGBRegressor(n_estimators=200,subsample = 0.6, max_depth = 16, learning_rate = 0.05, colsample_bytree = 0.9)\n",
    "# XGB_model.fit(X_train, y_train)\n",
    "# xgb_r_sq = XGB_model.score(X_train, y_train)\n",
    "# print(xgb_r_sq)\n",
    "\n",
    "#Output: 0.9998258953598808"
   ]
  },
  {
   "cell_type": "code",
   "execution_count": null,
   "id": "42ae36b7",
   "metadata": {},
   "outputs": [],
   "source": [
    "# #Using model to obtain predictions for the Train Test split\n",
    "# y_pred_TEST_XGB_model = XGB_model.predict(X_test)\n",
    "\n",
    "# #Testing RMSE error for the Train Test split\n",
    "# RMSE = mean_squared_error(y_test, y_pred_TEST_XGB_model, squared=False)\n",
    "# RMSE\n",
    "\n",
    "#Output: 0.06343080669921651"
   ]
  },
  {
   "cell_type": "markdown",
   "id": "98fae4db",
   "metadata": {},
   "source": [
    "n_estimator =300"
   ]
  },
  {
   "cell_type": "code",
   "execution_count": null,
   "id": "5b8ed7a1",
   "metadata": {},
   "outputs": [],
   "source": [
    "# XGB_model = xgb.XGBRegressor(n_estimators=300,subsample = 0.6, max_depth = 16, learning_rate = 0.05, colsample_bytree = 0.9)\n",
    "# XGB_model.fit(X_train, y_train)\n",
    "# xgb_r_sq = XGB_model.score(X_train, y_train)\n",
    "# print(xgb_r_sq)\n",
    "\n",
    "#Output: 0.9999848584075754"
   ]
  },
  {
   "cell_type": "code",
   "execution_count": null,
   "id": "3cf75324",
   "metadata": {},
   "outputs": [],
   "source": [
    "# #Using model to obtain predictions for the Train Test split\n",
    "# y_pred_TEST_XGB_model = XGB_model.predict(X_test)\n",
    "\n",
    "# #Testing RMSE error for the Train Test split\n",
    "# RMSE = mean_squared_error(y_test, y_pred_TEST_XGB_model, squared=False)\n",
    "# RMSE\n",
    "\n",
    "#Output: 0.06325678921736058"
   ]
  },
  {
   "cell_type": "markdown",
   "id": "efad0345",
   "metadata": {},
   "source": [
    "n_estimator =400"
   ]
  },
  {
   "cell_type": "code",
   "execution_count": 5,
   "id": "f7f2409a",
   "metadata": {},
   "outputs": [],
   "source": [
    "# XGB_model = xgb.XGBRegressor(n_estimators=400,subsample = 0.6, max_depth = 16, learning_rate = 0.05, colsample_bytree = 0.9)\n",
    "# XGB_model.fit(X_train, y_train)\n",
    "# xgb_r_sq = XGB_model.score(X_train, y_train)\n",
    "# print(xgb_r_sq)\n",
    "\n",
    "#Output: 0.9999912089285614"
   ]
  },
  {
   "cell_type": "code",
   "execution_count": null,
   "id": "14b28812",
   "metadata": {},
   "outputs": [],
   "source": [
    "# #Using model to obtain predictions for the Train Test split\n",
    "# y_pred_TEST_XGB_model = XGB_model.predict(X_test)\n",
    "\n",
    "# #Testing RMSE error for the Train Test split\n",
    "# RMSE = mean_squared_error(y_test, y_pred_TEST_XGB_model, squared=False)\n",
    "# RMSE\n",
    "\n",
    "#Output: 0.06324358385906466"
   ]
  },
  {
   "cell_type": "markdown",
   "id": "a4866f96",
   "metadata": {},
   "source": [
    "n_estimator =500"
   ]
  },
  {
   "cell_type": "code",
   "execution_count": null,
   "id": "977426ed",
   "metadata": {},
   "outputs": [],
   "source": [
    "# XGB_model = xgb.XGBRegressor(n_estimators=500,subsample = 0.6, max_depth = 16, learning_rate = 0.05, colsample_bytree = 0.9)\n",
    "# XGB_model.fit(X_train, y_train)\n",
    "# xgb_r_sq = XGB_model.score(X_train, y_train)\n",
    "# print(xgb_r_sq)\n",
    "\n",
    "#Output: 0.9999921281769216"
   ]
  },
  {
   "cell_type": "code",
   "execution_count": null,
   "id": "edbd18e4",
   "metadata": {},
   "outputs": [],
   "source": [
    "# #Using model to obtain predictions for the Train Test split\n",
    "# y_pred_TEST_XGB_model = XGB_model.predict(X_test)\n",
    "\n",
    "# #Testing RMSE error for the Train Test split\n",
    "# RMSE = mean_squared_error(y_test, y_pred_TEST_XGB_model, squared=False)\n",
    "# RMSE\n",
    "\n",
    "#Output: 0.06323821545142379"
   ]
  },
  {
   "cell_type": "markdown",
   "id": "02bd75dc",
   "metadata": {},
   "source": [
    "n_estimator =600"
   ]
  },
  {
   "cell_type": "code",
   "execution_count": null,
   "id": "ea9d6452",
   "metadata": {},
   "outputs": [],
   "source": [
    "# XGB_model = xgb.XGBRegressor(n_estimators=600,subsample = 0.6, max_depth = 16, learning_rate = 0.05, colsample_bytree = 0.9)\n",
    "# XGB_model.fit(X_train, y_train)\n",
    "# xgb_r_sq = XGB_model.score(X_train, y_train)\n",
    "# print(xgb_r_sq)\n",
    "\n",
    "#Output: 0.9999924786560821"
   ]
  },
  {
   "cell_type": "code",
   "execution_count": null,
   "id": "536acafc",
   "metadata": {},
   "outputs": [],
   "source": [
    "# #Using model to obtain predictions for the Train Test split\n",
    "# y_pred_TEST_XGB_model = XGB_model.predict(X_test)\n",
    "\n",
    "# #Testing RMSE error for the Train Test split\n",
    "# RMSE = mean_squared_error(y_test, y_pred_TEST_XGB_model, squared=False)\n",
    "# RMSE\n",
    "#Output: 0.0632375430390593"
   ]
  },
  {
   "cell_type": "markdown",
   "id": "d6c3d45a",
   "metadata": {},
   "source": [
    "n_estimator =700"
   ]
  },
  {
   "cell_type": "code",
   "execution_count": null,
   "id": "9bd8d32a",
   "metadata": {},
   "outputs": [],
   "source": [
    "# XGB_model = xgb.XGBRegressor(n_estimators=700,subsample = 0.6, max_depth = 16, learning_rate = 0.05, colsample_bytree = 0.9)\n",
    "# XGB_model.fit(X_train, y_train)\n",
    "# xgb_r_sq = XGB_model.score(X_train, y_train)\n",
    "# print(xgb_r_sq)\n",
    "\n",
    "#Output: 0.9999927786912266"
   ]
  },
  {
   "cell_type": "code",
   "execution_count": null,
   "id": "b09ea0c3",
   "metadata": {},
   "outputs": [],
   "source": [
    "# #Using model to obtain predictions for the Train Test split\n",
    "# y_pred_TEST_XGB_model = XGB_model.predict(X_test)\n",
    "\n",
    "# #Testing RMSE error for the Train Test split\n",
    "# RMSE = mean_squared_error(y_test, y_pred_TEST_XGB_model, squared=False)\n",
    "# RMSE\n",
    "\n",
    "#Output: 0.06323892537258512"
   ]
  },
  {
   "cell_type": "markdown",
   "id": "b6616635",
   "metadata": {},
   "source": [
    "n_estimator = 600 is chosen to represent 3rd Optimization Run as n_estimator = 700 has worse RMSE (0.06323892537258512) for the test dataset compared to that of the n_estimator = 600 model (0.0632375430390593)."
   ]
  },
  {
   "cell_type": "markdown",
   "id": "a03fbd85",
   "metadata": {},
   "source": [
    "## Evaluation"
   ]
  },
  {
   "cell_type": "markdown",
   "id": "7d246a82",
   "metadata": {},
   "source": [
    "While the 3rd Optimization Run gives a model with higher training r_sq score (0.9999924786560821) in the training data set as compared to that of the 2nd Optimization Run model (0.9999924606907223), it gives a worse test RMSE (0.0632375430390593) for the test data set compared to that of the 2nd Optimization Run model (0.06264351871349641). This highlights the fact that the 3rd Optimization Run has overfitted the data. Hence, the 2nd Optimization Run model is chosen as the final model for the Kaggle Competition."
   ]
  },
  {
   "cell_type": "code",
   "execution_count": 48,
   "id": "8d3f8945",
   "metadata": {
    "execution": {
     "iopub.execute_input": "2023-04-10T14:23:01.895854Z",
     "iopub.status.busy": "2023-04-10T14:23:01.895038Z",
     "iopub.status.idle": "2023-04-10T14:23:01.899874Z",
     "shell.execute_reply": "2023-04-10T14:23:01.898798Z"
    },
    "papermill": {
     "duration": 0.028915,
     "end_time": "2023-04-10T14:23:01.902669",
     "exception": false,
     "start_time": "2023-04-10T14:23:01.873754",
     "status": "completed"
    },
    "tags": []
   },
   "outputs": [],
   "source": [
    "# xgb_param_grid_v2 = { \n",
    "#     'gamma': [0,2,5,7,10]\n",
    "# }\n",
    "\n",
    "# xgb_tuned = xgb.XGBRegressor(n_estimators=500,subsample = 0.5, max_depth = 18, learning_rate = 0.05, colsample_bytree = 1)\n",
    "# CV_xgb_REG_v2 = GridSearchCV(estimator=xgb_tuned, param_grid=xgb_param_grid_v2, scoring ='neg_root_mean_squared_error')\n",
    "# CV_xgb_REG_v2.fit(X_test, y_test)\n",
    "# CV_xgb_REG_v2.best_params_\n",
    "\n",
    "#Output: {'gamma': 0}"
   ]
  },
  {
   "cell_type": "markdown",
   "id": "42e3fc8e",
   "metadata": {
    "execution": {
     "iopub.execute_input": "2023-04-10T14:23:01.942001Z",
     "iopub.status.busy": "2023-04-10T14:23:01.941489Z",
     "iopub.status.idle": "2023-04-10T14:23:01.948028Z",
     "shell.execute_reply": "2023-04-10T14:23:01.946370Z"
    },
    "papermill": {
     "duration": 0.030457,
     "end_time": "2023-04-10T14:23:01.951309",
     "exception": false,
     "start_time": "2023-04-10T14:23:01.920852",
     "status": "completed"
    },
    "tags": []
   },
   "source": [
    "From GridSearchCv, it is shown that increasing the gamma results in worse scores using the test dataset, hence it shows that our model is already well fitted and reducing the variance any further only serve to increase the bias of the model which reduces the predictive quality of the model."
   ]
  },
  {
   "cell_type": "markdown",
   "id": "2325446f",
   "metadata": {},
   "source": [
    "# Using Final Model to make prediction for Kaggle Submission"
   ]
  },
  {
   "cell_type": "code",
   "execution_count": 53,
   "id": "bc0d178d",
   "metadata": {
    "execution": {
     "iopub.execute_input": "2023-04-10T14:23:02.147820Z",
     "iopub.status.busy": "2023-04-10T14:23:02.147339Z",
     "iopub.status.idle": "2023-04-10T14:23:10.196674Z",
     "shell.execute_reply": "2023-04-10T14:23:10.194725Z"
    },
    "papermill": {
     "duration": 8.072118,
     "end_time": "2023-04-10T14:23:10.199869",
     "exception": false,
     "start_time": "2023-04-10T14:23:02.127751",
     "status": "completed"
    },
    "tags": []
   },
   "outputs": [
    {
     "name": "stdout",
     "output_type": "stream",
     "text": [
      "[0.42577797 0.44045326 0.4640063  ... 0.58051133 0.59470075 0.6397243 ]\n"
     ]
    }
   ],
   "source": [
    "XGB_model = xgb.XGBRegressor(n_estimators=500,subsample = 0.5, max_depth = 18, learning_rate = 0.05, colsample_bytree = 1)\n",
    "XGB_model.fit(X_train, y.to_numpy())\n",
    "true_y_pred_TEST_XGB_tuned = XGB_model.predict(real_X_test)\n",
    "print(true_y_pred_TEST_XGB_tuned)"
   ]
  },
  {
   "cell_type": "markdown",
   "id": "bc4d6d16",
   "metadata": {
    "papermill": {
     "duration": 0.017754,
     "end_time": "2023-04-10T14:23:10.380855",
     "exception": false,
     "start_time": "2023-04-10T14:23:10.363101",
     "status": "completed"
    },
    "tags": []
   },
   "source": [
    "### Creating our submission"
   ]
  },
  {
   "cell_type": "code",
   "execution_count": 56,
   "id": "e1e03edf",
   "metadata": {
    "execution": {
     "iopub.execute_input": "2023-04-10T14:23:10.419408Z",
     "iopub.status.busy": "2023-04-10T14:23:10.418850Z",
     "iopub.status.idle": "2023-04-10T14:23:10.454810Z",
     "shell.execute_reply": "2023-04-10T14:23:10.453532Z"
    },
    "papermill": {
     "duration": 0.058386,
     "end_time": "2023-04-10T14:23:10.457495",
     "exception": false,
     "start_time": "2023-04-10T14:23:10.399109",
     "status": "completed"
    },
    "tags": []
   },
   "outputs": [
    {
     "data": {
      "text/html": [
       "<div>\n",
       "<style scoped>\n",
       "    .dataframe tbody tr th:only-of-type {\n",
       "        vertical-align: middle;\n",
       "    }\n",
       "\n",
       "    .dataframe tbody tr th {\n",
       "        vertical-align: top;\n",
       "    }\n",
       "\n",
       "    .dataframe thead th {\n",
       "        text-align: right;\n",
       "    }\n",
       "</style>\n",
       "<table border=\"1\" class=\"dataframe\">\n",
       "  <thead>\n",
       "    <tr style=\"text-align: right;\">\n",
       "      <th></th>\n",
       "      <th>Completion_rate</th>\n",
       "    </tr>\n",
       "  </thead>\n",
       "  <tbody>\n",
       "    <tr>\n",
       "      <th>0</th>\n",
       "      <td>0.425778</td>\n",
       "    </tr>\n",
       "    <tr>\n",
       "      <th>1</th>\n",
       "      <td>0.440453</td>\n",
       "    </tr>\n",
       "    <tr>\n",
       "      <th>2</th>\n",
       "      <td>0.464006</td>\n",
       "    </tr>\n",
       "    <tr>\n",
       "      <th>3</th>\n",
       "      <td>0.425185</td>\n",
       "    </tr>\n",
       "    <tr>\n",
       "      <th>4</th>\n",
       "      <td>0.472050</td>\n",
       "    </tr>\n",
       "    <tr>\n",
       "      <th>...</th>\n",
       "      <td>...</td>\n",
       "    </tr>\n",
       "    <tr>\n",
       "      <th>1160</th>\n",
       "      <td>0.481713</td>\n",
       "    </tr>\n",
       "    <tr>\n",
       "      <th>1161</th>\n",
       "      <td>0.506208</td>\n",
       "    </tr>\n",
       "    <tr>\n",
       "      <th>1162</th>\n",
       "      <td>0.580511</td>\n",
       "    </tr>\n",
       "    <tr>\n",
       "      <th>1163</th>\n",
       "      <td>0.594701</td>\n",
       "    </tr>\n",
       "    <tr>\n",
       "      <th>1164</th>\n",
       "      <td>0.639724</td>\n",
       "    </tr>\n",
       "  </tbody>\n",
       "</table>\n",
       "<p>1165 rows × 1 columns</p>\n",
       "</div>"
      ],
      "text/plain": [
       "      Completion_rate\n",
       "0            0.425778\n",
       "1            0.440453\n",
       "2            0.464006\n",
       "3            0.425185\n",
       "4            0.472050\n",
       "...               ...\n",
       "1160         0.481713\n",
       "1161         0.506208\n",
       "1162         0.580511\n",
       "1163         0.594701\n",
       "1164         0.639724\n",
       "\n",
       "[1165 rows x 1 columns]"
      ]
     },
     "execution_count": 56,
     "metadata": {},
     "output_type": "execute_result"
    }
   ],
   "source": [
    "submission = pd.DataFrame.from_dict({'Completion_rate': true_y_pred_TEST_XGB_tuned})\n",
    "submission"
   ]
  },
  {
   "cell_type": "code",
   "execution_count": 57,
   "id": "3a818ac3",
   "metadata": {
    "execution": {
     "iopub.execute_input": "2023-04-10T14:23:10.495449Z",
     "iopub.status.busy": "2023-04-10T14:23:10.493896Z",
     "iopub.status.idle": "2023-04-10T14:23:10.508884Z",
     "shell.execute_reply": "2023-04-10T14:23:10.507641Z"
    },
    "papermill": {
     "duration": 0.036501,
     "end_time": "2023-04-10T14:23:10.511756",
     "exception": false,
     "start_time": "2023-04-10T14:23:10.475255",
     "status": "completed"
    },
    "tags": []
   },
   "outputs": [],
   "source": [
    "submission.to_csv('submission.csv', index = True, index_label = \"id\") "
   ]
  },
  {
   "cell_type": "markdown",
   "id": "5b46497f",
   "metadata": {
    "papermill": {
     "duration": 0.017519,
     "end_time": "2023-04-10T14:23:10.546924",
     "exception": false,
     "start_time": "2023-04-10T14:23:10.529405",
     "status": "completed"
    },
    "tags": []
   },
   "source": [
    "### To submit your submission\n",
    "\n",
    "On the panel on your right, select the drop down \"Submit to competition\", and submit this notebook. Ensure that your submission is named ```submission.csv```!"
   ]
  }
 ],
 "metadata": {
  "kernelspec": {
   "display_name": "Python 3 (ipykernel)",
   "language": "python",
   "name": "python3"
  },
  "language_info": {
   "codemirror_mode": {
    "name": "ipython",
    "version": 3
   },
   "file_extension": ".py",
   "mimetype": "text/x-python",
   "name": "python",
   "nbconvert_exporter": "python",
   "pygments_lexer": "ipython3",
   "version": "3.8.16"
  },
  "papermill": {
   "default_parameters": {},
   "duration": 57.378927,
   "end_time": "2023-04-10T14:23:13.279423",
   "environment_variables": {},
   "exception": null,
   "input_path": "__notebook__.ipynb",
   "output_path": "__notebook__.ipynb",
   "parameters": {},
   "start_time": "2023-04-10T14:22:15.900496",
   "version": "2.4.0"
  }
 },
 "nbformat": 4,
 "nbformat_minor": 5
}
